{
 "cells": [
  {
   "cell_type": "markdown",
   "id": "80fbcdce-2617-4086-9c13-4af6a1e47892",
   "metadata": {},
   "source": [
    "# In it for the Win: Jeopardy Questions"
   ]
  },
  {
   "cell_type": "markdown",
   "id": "312e7eeb-16ff-49a0-ab53-093a56c67c08",
   "metadata": {},
   "source": [
    "## Table of Contents"
   ]
  },
  {
   "cell_type": "markdown",
   "id": "184109c3-6590-46e7-81f3-954ca4aadbdd",
   "metadata": {},
   "source": [
    "* [Introduction](#intorduction)\n",
    "* [Goal](#goal)\n",
    "* [Summary](#summary)\n",
    "* [The Data](#the_data)\n",
    "* [Cleaning the Data](#cleaning_the_data) \n",
    "  * [Cleaning Column Names](#cleaning_column_names) \n",
    "  * [Removing Null Values](#removing_null_values)\n",
    "  * [Normalizing Text](#normalizing_text)\n",
    "  * [Normalizing Columns](#normalizing_columns)\n",
    "* [Analysis](#analysis)\n",
    "  * [Answers in Questions](#answers_in_questions)\n",
    "  * [Recycled Questions](#recycled_questions)\n",
    "  * [Low Value vs. High Value Questions](#low_v_high_value_questions)\n",
    "* [Conclusion](#conclusion)\n",
    "* [Next Steps](#next_steps)"
   ]
  },
  {
   "cell_type": "markdown",
   "id": "6f781c1b-786f-4451-9ce0-a423ddda99e0",
   "metadata": {},
   "source": [
    "## Introduction  <a name=\"introduction\"></a>\n",
    "\n",
    "[Jeopardy](https://en.wikipedia.org/wiki/Jeopardy!#Gameplay) is a popular TV show in the US where participants answer trivia questions to win money. It's been running for many years, and is a major force in popular culture.\n",
    "\n",
    "Our consulting company was hired by a future contestant that wants to maximise their odds of winning the game."
   ]
  },
  {
   "cell_type": "markdown",
   "id": "bfbfeb42-fc4f-47b1-a3c1-a3e81d005412",
   "metadata": {},
   "source": [
    "## Goal  <a name=\"goal\"></a>\n",
    "\n",
    "Our goal is To analyze patterns in Jeopardy questions using a dataset of historical questions to help develop a winning strategy for the game show."
   ]
  },
  {
   "cell_type": "markdown",
   "id": "b5fcb095-c996-4635-a1ed-1a77eacd8162",
   "metadata": {},
   "source": [
    "## Summary  <a name=\"summary\"></a>\n",
    "\n",
    "We found a list of about 500 terms that have a higher chance of appearing in high-value questions. Focusing the contestant's preparation around them will likely aid them in gaining an advantage over their competitors."
   ]
  },
  {
   "cell_type": "markdown",
   "id": "e8e1401c-aad8-4644-a8bd-810eef93f778",
   "metadata": {},
   "source": [
    "## The Data <a name=\"the_data\"></a>"
   ]
  },
  {
   "cell_type": "markdown",
   "id": "25817a0c-cd16-480e-8528-af15ff7b0f68",
   "metadata": {},
   "source": [
    "The dataset is named `JEOPARDY_CSV.csv`, and contains the full dataset of Jeopardy questions from 2004 until 2012, uploaded to the [/r/datasets](https://www.reddit.com/r/datasets) subreddit by Redditor [trexmatt](https://www.reddit.com/user/trexmatt/) and can be download from [here](https://www.reddit.com/r/datasets/comments/1uyd0t/200000_jeopardy_questions_in_a_json_file).\n",
    "\n",
    "The following is some boilerplate code that loads the required libraries, reads the data and displays some initial information about it:"
   ]
  },
  {
   "cell_type": "code",
   "execution_count": 43,
   "id": "42a0707a-9a77-4dfc-9cf5-0134657d876f",
   "metadata": {},
   "outputs": [],
   "source": [
    "import pandas as pd\n",
    "import numpy as np\n",
    "import matplotlib.pyplot as plt\n",
    "import string # to allow string manipulations\n",
    "import random # to run the Chi-squared test\n",
    "from scipy.stats import chisquare\n",
    "import nltk\n",
    "from nltk.corpus import stopwords # To remove stopwords from our terms\n",
    "\n",
    "# Reading the file\n",
    "jeopardy = pd.read_csv(\"JEOPARDY_CSV.csv\")"
   ]
  },
  {
   "cell_type": "code",
   "execution_count": 44,
   "id": "6ee0a73e-5014-40b2-b105-5b174f406692",
   "metadata": {},
   "outputs": [
    {
     "data": {
      "text/plain": [
       "(216930, 7)"
      ]
     },
     "execution_count": 44,
     "metadata": {},
     "output_type": "execute_result"
    }
   ],
   "source": [
    "jeopardy.shape"
   ]
  },
  {
   "cell_type": "code",
   "execution_count": 45,
   "id": "146ba03f-ff1b-4aaf-9088-fd5c61fcfdcf",
   "metadata": {},
   "outputs": [
    {
     "data": {
      "text/html": [
       "<div>\n",
       "<style scoped>\n",
       "    .dataframe tbody tr th:only-of-type {\n",
       "        vertical-align: middle;\n",
       "    }\n",
       "\n",
       "    .dataframe tbody tr th {\n",
       "        vertical-align: top;\n",
       "    }\n",
       "\n",
       "    .dataframe thead th {\n",
       "        text-align: right;\n",
       "    }\n",
       "</style>\n",
       "<table border=\"1\" class=\"dataframe\">\n",
       "  <thead>\n",
       "    <tr style=\"text-align: right;\">\n",
       "      <th></th>\n",
       "      <th>Show Number</th>\n",
       "      <th>Air Date</th>\n",
       "      <th>Round</th>\n",
       "      <th>Category</th>\n",
       "      <th>Value</th>\n",
       "      <th>Question</th>\n",
       "      <th>Answer</th>\n",
       "    </tr>\n",
       "  </thead>\n",
       "  <tbody>\n",
       "    <tr>\n",
       "      <th>0</th>\n",
       "      <td>4680</td>\n",
       "      <td>2004-12-31</td>\n",
       "      <td>Jeopardy!</td>\n",
       "      <td>HISTORY</td>\n",
       "      <td>$200</td>\n",
       "      <td>For the last 8 years of his life, Galileo was ...</td>\n",
       "      <td>Copernicus</td>\n",
       "    </tr>\n",
       "    <tr>\n",
       "      <th>1</th>\n",
       "      <td>4680</td>\n",
       "      <td>2004-12-31</td>\n",
       "      <td>Jeopardy!</td>\n",
       "      <td>ESPN's TOP 10 ALL-TIME ATHLETES</td>\n",
       "      <td>$200</td>\n",
       "      <td>No. 2: 1912 Olympian; football star at Carlisl...</td>\n",
       "      <td>Jim Thorpe</td>\n",
       "    </tr>\n",
       "    <tr>\n",
       "      <th>2</th>\n",
       "      <td>4680</td>\n",
       "      <td>2004-12-31</td>\n",
       "      <td>Jeopardy!</td>\n",
       "      <td>EVERYBODY TALKS ABOUT IT...</td>\n",
       "      <td>$200</td>\n",
       "      <td>The city of Yuma in this state has a record av...</td>\n",
       "      <td>Arizona</td>\n",
       "    </tr>\n",
       "    <tr>\n",
       "      <th>3</th>\n",
       "      <td>4680</td>\n",
       "      <td>2004-12-31</td>\n",
       "      <td>Jeopardy!</td>\n",
       "      <td>THE COMPANY LINE</td>\n",
       "      <td>$200</td>\n",
       "      <td>In 1963, live on \"The Art Linkletter Show\", th...</td>\n",
       "      <td>McDonald's</td>\n",
       "    </tr>\n",
       "    <tr>\n",
       "      <th>4</th>\n",
       "      <td>4680</td>\n",
       "      <td>2004-12-31</td>\n",
       "      <td>Jeopardy!</td>\n",
       "      <td>EPITAPHS &amp; TRIBUTES</td>\n",
       "      <td>$200</td>\n",
       "      <td>Signer of the Dec. of Indep., framer of the Co...</td>\n",
       "      <td>John Adams</td>\n",
       "    </tr>\n",
       "  </tbody>\n",
       "</table>\n",
       "</div>"
      ],
      "text/plain": [
       "   Show Number    Air Date      Round                         Category  Value  \\\n",
       "0         4680  2004-12-31  Jeopardy!                          HISTORY   $200   \n",
       "1         4680  2004-12-31  Jeopardy!  ESPN's TOP 10 ALL-TIME ATHLETES   $200   \n",
       "2         4680  2004-12-31  Jeopardy!      EVERYBODY TALKS ABOUT IT...   $200   \n",
       "3         4680  2004-12-31  Jeopardy!                 THE COMPANY LINE   $200   \n",
       "4         4680  2004-12-31  Jeopardy!              EPITAPHS & TRIBUTES   $200   \n",
       "\n",
       "                                            Question      Answer  \n",
       "0  For the last 8 years of his life, Galileo was ...  Copernicus  \n",
       "1  No. 2: 1912 Olympian; football star at Carlisl...  Jim Thorpe  \n",
       "2  The city of Yuma in this state has a record av...     Arizona  \n",
       "3  In 1963, live on \"The Art Linkletter Show\", th...  McDonald's  \n",
       "4  Signer of the Dec. of Indep., framer of the Co...  John Adams  "
      ]
     },
     "execution_count": 45,
     "metadata": {},
     "output_type": "execute_result"
    }
   ],
   "source": [
    "jeopardy.head()"
   ]
  },
  {
   "cell_type": "code",
   "execution_count": 46,
   "id": "8ca9e224-e654-4249-b590-370d7289ca76",
   "metadata": {},
   "outputs": [
    {
     "name": "stdout",
     "output_type": "stream",
     "text": [
      "<class 'pandas.core.frame.DataFrame'>\n",
      "RangeIndex: 216930 entries, 0 to 216929\n",
      "Data columns (total 7 columns):\n",
      " #   Column       Non-Null Count   Dtype \n",
      "---  ------       --------------   ----- \n",
      " 0   Show Number  216930 non-null  int64 \n",
      " 1    Air Date    216930 non-null  object\n",
      " 2    Round       216930 non-null  object\n",
      " 3    Category    216930 non-null  object\n",
      " 4    Value       213296 non-null  object\n",
      " 5    Question    216930 non-null  object\n",
      " 6    Answer      216927 non-null  object\n",
      "dtypes: int64(1), object(6)\n",
      "memory usage: 11.6+ MB\n"
     ]
    }
   ],
   "source": [
    "jeopardy.info()"
   ]
  },
  {
   "cell_type": "markdown",
   "id": "3ed1aa57-7d0e-4a37-9976-66e49c43f87c",
   "metadata": {},
   "source": [
    "`trexmatt`'s post also tells us the following regarding the columns:\n",
    "\n",
    "| Column           | Description                                                               | Note |\n",
    "|:-----------------|:--------------------------------------------------------------------------|:-----|\r",
    "|\r",
    "| Show Number      | the Jeopardy episode number                                               | |\n",
    "| Air Date         | the show's air date in format YYYY-MM-DD                                  | |\n",
    "| Round            | one of \"Jeopardy!\", \"Double Jeopardy!\", \"Final Jeopardy!\" or \"Tiebreaker\" | Tiebreaker questions do happen but they're very rare (like once every 20 years) |\n",
    "| Category         | the question category, e.g. \"HISTORY\"                                     | |\n",
    "| Value            | \\\\$ value of the question as string, e.g. \"$200\"                          | This is \"None\" for Final Jeopardy! and Tiebreaker questions |\n",
    "| Question         | text of question                                                          | This sometimes contains hyperlinks and other things messy text such as when there's a picture or video question |\n",
    "| Answer           | text of answer                                                            | |\n",
    "\n",
    "\n",
    "Pay attention to the note for the `Value` column. Some of the questions are Final Jeopardy or tiebreaker, which explains the 3,634 `NaN` values in that column.\n",
    "There are also 3 `NaN` values in the `Answer` column. We can't really use empty answers in this project so we'll simply drop them."
   ]
  },
  {
   "cell_type": "markdown",
   "id": "d52e0614-eaf7-4b22-81b7-3bd5b3334139",
   "metadata": {},
   "source": [
    "## Cleaning the Data <a name=\"cleaning_the_data\"></a>"
   ]
  },
  {
   "cell_type": "markdown",
   "id": "16cb20ca-43e3-4de7-b7be-0e2d3f536992",
   "metadata": {},
   "source": [
    "### Cleaning Column Names <a name=\"cleaning_column_names\"></a>"
   ]
  },
  {
   "cell_type": "markdown",
   "id": "e795f4a1-16b6-4183-9452-f3dd800c10d0",
   "metadata": {},
   "source": [
    "Some of the column names have spaces in front, so we'll remove them:"
   ]
  },
  {
   "cell_type": "code",
   "execution_count": 47,
   "id": "19638dee-cd11-4384-999a-cd6c72776408",
   "metadata": {},
   "outputs": [
    {
     "data": {
      "text/plain": [
       "Index(['Show Number', ' Air Date', ' Round', ' Category', ' Value',\n",
       "       ' Question', ' Answer'],\n",
       "      dtype='object')"
      ]
     },
     "execution_count": 47,
     "metadata": {},
     "output_type": "execute_result"
    }
   ],
   "source": [
    "jeopardy.columns"
   ]
  },
  {
   "cell_type": "code",
   "execution_count": 48,
   "id": "ef45287f-7cb8-4a65-9f60-a1b2024d2a19",
   "metadata": {},
   "outputs": [],
   "source": [
    "jeopardy.rename(columns=lambda x: x.strip(), inplace=True)"
   ]
  },
  {
   "cell_type": "code",
   "execution_count": 49,
   "id": "1078bc9c-dea4-4370-adb0-1febb9448b94",
   "metadata": {},
   "outputs": [
    {
     "data": {
      "text/plain": [
       "Index(['Show Number', 'Air Date', 'Round', 'Category', 'Value', 'Question',\n",
       "       'Answer'],\n",
       "      dtype='object')"
      ]
     },
     "execution_count": 49,
     "metadata": {},
     "output_type": "execute_result"
    }
   ],
   "source": [
    "jeopardy.columns"
   ]
  },
  {
   "cell_type": "markdown",
   "id": "c2d91b9d-8c90-44b1-8b35-67ba84898888",
   "metadata": {},
   "source": [
    "### Removing Null Values <a name=\"removing_null_values\"></a>"
   ]
  },
  {
   "cell_type": "markdown",
   "id": "6d76990d-aff8-4a21-a40d-579c3177c22e",
   "metadata": {},
   "source": [
    "As mentioned above we'll drop the 3 `NaN` values in `Answer`:"
   ]
  },
  {
   "cell_type": "code",
   "execution_count": 50,
   "id": "584f4791-9316-4af5-a056-4f8dc5b5b950",
   "metadata": {},
   "outputs": [],
   "source": [
    "jeopardy.dropna(subset=['Answer'], inplace=True)"
   ]
  },
  {
   "cell_type": "code",
   "execution_count": 51,
   "id": "eaa40d60-b71f-40b8-92b4-ab7d8a80eb83",
   "metadata": {},
   "outputs": [
    {
     "data": {
      "text/plain": [
       "Round\n",
       "Jeopardy!           107382\n",
       "Double Jeopardy!    105911\n",
       "Final Jeopardy!       3631\n",
       "Tiebreaker               3\n",
       "Name: count, dtype: int64"
      ]
     },
     "execution_count": 51,
     "metadata": {},
     "output_type": "execute_result"
    }
   ],
   "source": [
    "jeopardy['Round'].value_counts()"
   ]
  },
  {
   "cell_type": "markdown",
   "id": "64b2c7f0-acc9-4c2f-b1c7-a21319e7cb90",
   "metadata": {},
   "source": [
    "### Normalizing Text <a name=\"normalizing_text\"></a>"
   ]
  },
  {
   "cell_type": "markdown",
   "id": "722ce38e-1508-4db6-aaff-9938b10d3838",
   "metadata": {},
   "source": [
    "Before we start doing analysis on the Jeopardy questions, we need to normalize all of the text columns (the `Question` and `Answer` columns). the idea behind normalization is to ensure that we put words in lowercase and remove punctuation so `Don't` and `don't` aren't considered to be different words when comparing them.\n"
   ]
  },
  {
   "cell_type": "code",
   "execution_count": 52,
   "id": "bb2f757a-5181-4188-a21a-4d92ec166f49",
   "metadata": {},
   "outputs": [],
   "source": [
    "# Returns a normalized string s\n",
    "def normalize(s: str):\n",
    "    try:\n",
    "        return s.lower().translate(s.maketrans(\"\",\"\", string.punctuation))\n",
    "    except Exception as e:\n",
    "        print(f\"Exception raised for {s}\")\n",
    "        raise e"
   ]
  },
  {
   "cell_type": "code",
   "execution_count": 53,
   "id": "594ceddb-7144-4f1e-b32e-0159237d6cea",
   "metadata": {},
   "outputs": [],
   "source": [
    "jeopardy['clean_question'] = jeopardy['Question'].apply(normalize)\n",
    "jeopardy['clean_answer'] = jeopardy['Answer'].apply(normalize)"
   ]
  },
  {
   "cell_type": "markdown",
   "id": "daf51fca-b593-451c-9a72-c6adfeb08f69",
   "metadata": {},
   "source": [
    "Let's look at some of the questions and answers to verify that the normalization worked:"
   ]
  },
  {
   "cell_type": "code",
   "execution_count": 54,
   "id": "7e96f2d7-9a70-4300-b800-c9c476bb861a",
   "metadata": {},
   "outputs": [
    {
     "data": {
      "text/plain": [
       "0    for the last 8 years of his life galileo was u...\n",
       "1    no 2 1912 olympian football star at carlisle i...\n",
       "2    the city of yuma in this state has a record av...\n",
       "3    in 1963 live on the art linkletter show this c...\n",
       "4    signer of the dec of indep framer of the const...\n",
       "5    in the title of an aesop fable this insect sha...\n",
       "6    built in 312 bc to link rome  the south of ita...\n",
       "7    no 8 30 steals for the birmingham barons 2306 ...\n",
       "8    in the winter of 197172 a record 1122 inches o...\n",
       "9    this housewares store was named for the packag...\n",
       "Name: clean_question, dtype: object"
      ]
     },
     "execution_count": 54,
     "metadata": {},
     "output_type": "execute_result"
    }
   ],
   "source": [
    "jeopardy['clean_question'].head(10)"
   ]
  },
  {
   "cell_type": "code",
   "execution_count": 55,
   "id": "82070dca-292f-4f7a-ac03-22e5161d1394",
   "metadata": {},
   "outputs": [
    {
     "data": {
      "text/plain": [
       "0        copernicus\n",
       "1        jim thorpe\n",
       "2           arizona\n",
       "3         mcdonalds\n",
       "4        john adams\n",
       "5           the ant\n",
       "6    the appian way\n",
       "7    michael jordan\n",
       "8        washington\n",
       "9     crate  barrel\n",
       "Name: clean_answer, dtype: object"
      ]
     },
     "execution_count": 55,
     "metadata": {},
     "output_type": "execute_result"
    }
   ],
   "source": [
    "jeopardy['clean_answer'].head(10)"
   ]
  },
  {
   "cell_type": "markdown",
   "id": "9f36528e-5df0-4ac9-b1c2-2a9df6f754e7",
   "metadata": {},
   "source": [
    "### Normalizing Columns <a name=\"normalizing_columns\"></a>"
   ]
  },
  {
   "cell_type": "markdown",
   "id": "318f7cab-9297-46f7-b156-567ee617ce10",
   "metadata": {},
   "source": [
    "The `Value` column should be numeric, to allow easier manipulation. We'll need to remove the dollar sign from the beginning of each value and convert the column from text to numeric:"
   ]
  },
  {
   "cell_type": "code",
   "execution_count": 56,
   "id": "314c996c-91bf-4950-ab29-a1bd02ea49b2",
   "metadata": {},
   "outputs": [],
   "source": [
    "def normalize_value(v: str):\n",
    "    # remove any punctuation, then convert the string to int\n",
    "    try:\n",
    "        return int(v.translate(v.maketrans(\"\",\"\", string.punctuation)))\n",
    "    except Exception:\n",
    "        # Returning 0 if the conversion failed for any reason\n",
    "        return 0"
   ]
  },
  {
   "cell_type": "code",
   "execution_count": 57,
   "id": "a67e2188-6902-4ada-a62f-ed508f59b8dd",
   "metadata": {},
   "outputs": [],
   "source": [
    "jeopardy['clean_value'] = jeopardy['Value'].apply(normalize_value)"
   ]
  },
  {
   "cell_type": "code",
   "execution_count": 58,
   "id": "8bd25178-e7e6-46c6-b589-74c2baf04054",
   "metadata": {},
   "outputs": [
    {
     "data": {
      "text/plain": [
       "clean_value\n",
       "400      42243\n",
       "800      31860\n",
       "200      30453\n",
       "1000     21640\n",
       "600      20377\n",
       "         ...  \n",
       "5401         1\n",
       "1183         1\n",
       "1203         1\n",
       "11600        1\n",
       "11200        1\n",
       "Name: count, Length: 146, dtype: int64"
      ]
     },
     "execution_count": 58,
     "metadata": {},
     "output_type": "execute_result"
    }
   ],
   "source": [
    "jeopardy['clean_value'].value_counts()"
   ]
  },
  {
   "cell_type": "markdown",
   "id": "929ed68b-c162-44ac-9263-e0a33a995ad9",
   "metadata": {},
   "source": [
    "The `Air Date` column should be a datetime, not a string. Again, to enable easier analysis:"
   ]
  },
  {
   "cell_type": "code",
   "execution_count": 59,
   "id": "ae32d431-fa44-4cc9-b621-46320b5018ec",
   "metadata": {},
   "outputs": [],
   "source": [
    "jeopardy['Clean Air Date'] = pd.to_datetime(jeopardy['Air Date'], format=\"%Y-%m-%d\")"
   ]
  },
  {
   "cell_type": "code",
   "execution_count": 60,
   "id": "1c7fef8e-9c8c-4cff-b030-1e30390b3ee7",
   "metadata": {},
   "outputs": [
    {
     "data": {
      "text/plain": [
       "0        2004-12-31\n",
       "1        2004-12-31\n",
       "2        2004-12-31\n",
       "3        2004-12-31\n",
       "4        2004-12-31\n",
       "            ...    \n",
       "216925   2006-05-11\n",
       "216926   2006-05-11\n",
       "216927   2006-05-11\n",
       "216928   2006-05-11\n",
       "216929   2006-05-11\n",
       "Name: Clean Air Date, Length: 216927, dtype: datetime64[ns]"
      ]
     },
     "execution_count": 60,
     "metadata": {},
     "output_type": "execute_result"
    }
   ],
   "source": [
    "jeopardy['Clean Air Date']"
   ]
  },
  {
   "cell_type": "markdown",
   "id": "c776f4ee-5532-4f4d-86f2-14fe3da709f8",
   "metadata": {},
   "source": [
    "## Analysis <a name=\"analysis\"></a>"
   ]
  },
  {
   "cell_type": "markdown",
   "id": "611defa2-ceef-4c5c-9bd3-55f1fc39a2d4",
   "metadata": {},
   "source": [
    "In order to figure out whether to study past questions, study general knowledge, or not study it all, it would be helpful to figure out two things:\n",
    "\n",
    "* How often the answer can be used for a question\n",
    "* How often questions are repeated\n",
    "\n",
    "We can answer the first question by seeing how many times words in the answer also occur in the question. We can answer the second question by seeing how often complex words (> 6 characters) reoccur.\n",
    "\n",
    "We'll start by tackling the first question."
   ]
  },
  {
   "cell_type": "markdown",
   "id": "8d68c713-da68-49a2-b124-578f1142e6e5",
   "metadata": {},
   "source": [
    "### Answers in Questions <a name=\"answers_in_questions\"></a>"
   ]
  },
  {
   "cell_type": "code",
   "execution_count": 61,
   "id": "f43fc674-a7d1-4187-ace2-5390623af137",
   "metadata": {},
   "outputs": [],
   "source": [
    "# Returns the proportion of the words in an answer that appear in the question as well\n",
    "def answer_in_question_proportion(row):\n",
    "    if not row['split_answer']:\n",
    "        # Prevent a division-by-0 error\n",
    "        return 0\n",
    "    \n",
    "    # To find how many words are common between both lists we'll find the length of their intersection\n",
    "    match_count = len(row['split_answer'].intersection(row['split_question']))\n",
    "    \n",
    "    return match_count / len(row['split_answer'])"
   ]
  },
  {
   "cell_type": "code",
   "execution_count": 62,
   "id": "cc1cc455-b7c4-4dd3-80ed-4e6522e0f07c",
   "metadata": {},
   "outputs": [],
   "source": [
    "def list_to_set(list):\n",
    "    return set(list)"
   ]
  },
  {
   "cell_type": "code",
   "execution_count": 63,
   "id": "fc67faba-abb2-435c-ba41-41a47b554f9b",
   "metadata": {},
   "outputs": [],
   "source": [
    "# Get the English stopwords list\n",
    "stop_words = set(stopwords.words('english'))\n",
    "\n",
    "'''\n",
    "Cleans the term list by filtering out:\n",
    "- terms that are shorter than 6 characters\n",
    "- stopwords\n",
    "- terms that start with 'hrefhttp...'\n",
    "- terms that start with 'targetblank...'\n",
    "Filtering out the first two allows us to remove words that are too common to be an effective marker\n",
    "The second two are artefacts of hyperlinks in the questions' text and aren't relevant to our project\n",
    "'''\n",
    "def clean_term_list(term_list):\n",
    "    clean_list = [q for q in term_list \n",
    "                      if q not in stop_words and len(q) > 5\n",
    "                      and 'hrefhttp' not in q\n",
    "                      and 'targetblank' not in q]\n",
    "\n",
    "    return clean_list"
   ]
  },
  {
   "cell_type": "markdown",
   "id": "a7041f95-9d30-40ea-8878-88830d185087",
   "metadata": {},
   "source": [
    "Split the 'answer' and 'question' columns into separate words, clean the lists and turn them into sets, for faster lookup"
   ]
  },
  {
   "cell_type": "code",
   "execution_count": 64,
   "id": "0920923f-4ad2-426c-903d-761a74b8f73a",
   "metadata": {},
   "outputs": [],
   "source": [
    "jeopardy['split_answer'] = jeopardy['clean_answer'].str.split(' ').apply(clean_term_list).apply(list_to_set)\n",
    "jeopardy['split_question'] = jeopardy['clean_question'].str.split(' ').apply(clean_term_list).apply(list_to_set)"
   ]
  },
  {
   "cell_type": "code",
   "execution_count": 65,
   "id": "22242b23-107a-4180-a255-dd3e914059d1",
   "metadata": {},
   "outputs": [],
   "source": [
    "jeopardy['answer_in_question'] = jeopardy.apply(answer_in_question_proportion, axis=1)"
   ]
  },
  {
   "cell_type": "code",
   "execution_count": 66,
   "id": "60a19afd-6cde-4573-8c7f-421debce7170",
   "metadata": {},
   "outputs": [
    {
     "data": {
      "image/png": "[encoded data removed]",
      "text/plain": [
       "<Figure size 640x480 with 1 Axes>"
      ]
     },
     "metadata": {},
     "output_type": "display_data"
    }
   ],
   "source": [
    "# Get the mean of the column\n",
    "answer_in_question_perc = jeopardy['answer_in_question'].mean()*100\n",
    "\n",
    "# Plot a pie chart\n",
    "explode = (0.2, 0)\n",
    "plt.pie([answer_in_question_perc, 100 - answer_in_question_perc], labels=[\"Appear in both the question and answer\", \"Appear only in the question/answer\"], autopct='%1.1f%%', explode=explode, startangle=180)\n",
    "plt.title(\"Word Appearance in Question/Answer Breakdown\")\n",
    "plt.show()"
   ]
  },
  {
   "cell_type": "markdown",
   "id": "b2c1bf32-bbd1-4a50-89c0-c9bd12ceb140",
   "metadata": {},
   "source": [
    "It seems that about 2% of the words in the answers appear in their questions as well. This number is quite small, so the odds that the question's wording will give enough information to get the answer right are too small for comfort."
   ]
  },
  {
   "cell_type": "markdown",
   "id": "fb551e93-33be-403e-ab6c-e98bc70f59ef",
   "metadata": {},
   "source": [
    "### Recycled Questions <a name=\"recycled_questions\"></a>"
   ]
  },
  {
   "cell_type": "markdown",
   "id": "48bf6305-188d-45e8-a9e4-67e60cea979c",
   "metadata": {},
   "source": [
    "Maybe if the contestant will simply memorise past questions, they'll gain an edge on other contestants. Let's see how often new questions are repeats of older ones, by counting the terms that appear more than once in the dataset."
   ]
  },
  {
   "cell_type": "code",
   "execution_count": 67,
   "id": "860c9eba-fe89-44c6-81ca-a544eee4083e",
   "metadata": {},
   "outputs": [],
   "source": [
    "def get_question_overlap(row, seen):\n",
    "    # Count all words in the question that have already appeared \n",
    "    match_count = sum([1 for word in row['split_question'] if word in seen])\n",
    "\n",
    "    # Add all words to our repository\n",
    "    seen.update(row['split_question'])\n",
    "\n",
    "    # Get the proportion of the words in the question that have been seen before\n",
    "    if len(row['split_question']):\n",
    "        return match_count / len(row['split_question'])\n",
    "    \n",
    "    return 0"
   ]
  },
  {
   "cell_type": "code",
   "execution_count": 69,
   "id": "aa78b925-680b-4ec3-9456-ca6fe07c652b",
   "metadata": {},
   "outputs": [
    {
     "data": {
      "image/png": "[encoded data removed]",
      "text/plain": [
       "<Figure size 640x480 with 1 Axes>"
      ]
     },
     "metadata": {},
     "output_type": "display_data"
    }
   ],
   "source": [
    "jeopardy.sort_values(by='Clean Air Date', inplace=True)\n",
    "\n",
    "terms_used = set()\n",
    "\n",
    "jeopardy['question_overlap'] = jeopardy.apply(get_question_overlap, axis=1, seen=terms_used)\n",
    "\n",
    "# Get the mean of the column\n",
    "overlap_perc = jeopardy['question_overlap'].mean()*100\n",
    "\n",
    "# Plot a pie chart\n",
    "explode = (0.2, 0)\n",
    "plt.pie([overlap_perc, 100 - overlap_perc], labels=[\"Appear in previous questions\", \"Don't appear in previous quesrions\"], autopct='%1.1f%%', explode=explode, startangle=180)\n",
    "plt.title(\"Word Appearance in Previous Questions Breakdown\")\n",
    "plt.show()"
   ]
  },
  {
   "cell_type": "markdown",
   "id": "d7ff0867-1ced-4856-b396-274c9bce0a98",
   "metadata": {},
   "source": [
    "So about 88% of the terms in newer questions appeared in older questions. It's promising, but since we're looking at single words, not complete phrases, it requires more investigating."
   ]
  },
  {
   "cell_type": "markdown",
   "id": "5ba6fd4a-d261-4682-83d2-65359b4f0a68",
   "metadata": {},
   "source": [
    "### Low Value vs. High Value Questions <a name=\"low_v_high_value_questions\"></a>\n"
   ]
  },
  {
   "cell_type": "markdown",
   "id": "0bed8c11-636f-4106-9fc9-af6981055600",
   "metadata": {},
   "source": [
    "One approach we can investigate is focusing study on high-value questions. Since the contestant's resources are limited, it makes sense to spend them on the questions that will be most lucrative for them.\n",
    "\n",
    "To learn which terms correspond to high-value questions we can do a Chi-squared test. This will allow us to find the words with the biggest difference in usage between high and low values.\n",
    "\n",
    "Before running the test, let's narrow down the questions to 2 categories:\n",
    "* low-value: any row where `Value` is `800` or less\n",
    "* high-value: any row where `Value` is greater than `800`"
   ]
  },
  {
   "cell_type": "code",
   "execution_count": 59,
   "id": "5292422c-9783-4fcd-a38c-88e1036b4eeb",
   "metadata": {},
   "outputs": [],
   "source": [
    "def low_high_value(row):\n",
    "    return 1 if row['clean_value'] >= 800 else 0"
   ]
  },
  {
   "cell_type": "code",
   "execution_count": 60,
   "id": "c1bc6619-0834-4270-ba77-ec92f31e3959",
   "metadata": {},
   "outputs": [],
   "source": [
    "jeopardy['high_value'] = jeopardy.apply(low_high_value, axis=1)"
   ]
  },
  {
   "cell_type": "markdown",
   "id": "8b175774-2b57-4bf1-991c-daa9129e0cc0",
   "metadata": {},
   "source": [
    "This function only uses column operations to get `high_count` and `low_count`, so it runs quite fast."
   ]
  },
  {
   "cell_type": "code",
   "execution_count": 61,
   "id": "0259339d-2b8d-4911-8eb0-4755a50abc4c",
   "metadata": {},
   "outputs": [],
   "source": [
    "def get_word_low_and_high_count(word):\n",
    "    questions_with_word = jeopardy['split_question'].map(set([word]).issubset)\n",
    "    high_count = jeopardy[(questions_with_word) & (jeopardy['high_value'] == 1)].shape[0]\n",
    "    low_count = jeopardy[(questions_with_word) & (jeopardy['high_value'] == 0)].shape[0]\n",
    "    return word, high_count, low_count"
   ]
  },
  {
   "cell_type": "markdown",
   "id": "fe05dcde-19b8-4af0-9249-3101010f0849",
   "metadata": {},
   "source": [
    "We'll call `get_word_low_and_high_count` for each term in our `terms_used` set, to build a  term frequencies series.\n",
    "\n",
    "For increased efficiency, we're creating a Pandas series from `terms_used` and using `apply` on it.\n",
    "\n",
    "Even after removing the stopwords and http links, the `terms_used` set is still quite large (almost 86,000 terms), so the process takes a bit of time to run (it took slightly less than an hour to run on my laptop)."
   ]
  },
  {
   "cell_type": "code",
   "execution_count": 62,
   "id": "0043bba5-3263-4799-bf69-28c251e9bfc4",
   "metadata": {},
   "outputs": [
    {
     "name": "stdout",
     "output_type": "stream",
     "text": [
      "0           (unproduced, 1, 0)\n",
      "1           (speakergov, 0, 1)\n",
      "2          (skullshaped, 1, 1)\n",
      "3           (digestion, 10, 5)\n",
      "4        (strengthening, 1, 1)\n",
      "                 ...          \n",
      "85912        (ivyleague, 0, 1)\n",
      "85913           (podium, 5, 3)\n",
      "85914      (whitehaired, 1, 0)\n",
      "85915          (insert, 9, 11)\n",
      "85916     (narcissistic, 1, 2)\n",
      "Length: 85917, dtype: object\n"
     ]
    }
   ],
   "source": [
    "import time\n",
    "start = time.time()\n",
    "term_freqs = pd.Series(list(terms_used)).apply(get_word_low_and_high_count)\n",
    "print(term_freqs)\n",
    "end = time.time()"
   ]
  },
  {
   "cell_type": "code",
   "execution_count": 63,
   "id": "2e5a59c2-18cf-4ab0-aadc-684fbc0dc38f",
   "metadata": {},
   "outputs": [
    {
     "name": "stdout",
     "output_type": "stream",
     "text": [
      "Seconds to run: 3116\n"
     ]
    }
   ],
   "source": [
    "print(f\"Seconds to run: {int(end - start)}\")"
   ]
  },
  {
   "cell_type": "markdown",
   "id": "af0c611a-766c-474e-b06f-11109a670210",
   "metadata": {},
   "source": [
    "Now that we've found the observed counts for all of the terms, we can compute the expected counts and the chi-squared value.\n",
    "But first, to save on processing and memorizing time, let's look only at the 5,000 most common words. Later we'll whittle them down even further."
   ]
  },
  {
   "cell_type": "code",
   "execution_count": 64,
   "id": "887572f6-02dc-46b6-ac66-1cfbcee5ee67",
   "metadata": {},
   "outputs": [],
   "source": [
    "freqs = pd.DataFrame(list(term_freqs), columns=['term', 'high_count', 'low_count'])\n",
    "freqs['total_count'] = freqs['high_count'] + freqs['low_count']\n",
    "highest_term_freqs = freqs.sort_values(by='total_count', ascending=False).head(5000)"
   ]
  },
  {
   "cell_type": "markdown",
   "id": "1df81fde-ee01-47d7-b9fd-7cf8f8e20ae5",
   "metadata": {},
   "source": [
    "Now that we have our top 5,000 terms we can run a Chi squared test on them:"
   ]
  },
  {
   "cell_type": "code",
   "execution_count": 66,
   "id": "ceb1afbe-8061-46c6-a34e-9e3a52e1db30",
   "metadata": {},
   "outputs": [],
   "source": [
    "high_value_count = jeopardy['high_value'].value_counts()[1]\n",
    "low_value_count = jeopardy['high_value'].value_counts()[0]\n",
    "\n",
    "def calc_chi_squared(row):\n",
    "    total_proportion = row['total_count'] / jeopardy.shape[0]\n",
    "    expected_high = total_proportion * high_value_count\n",
    "    expected_low = total_proportion * low_value_count\n",
    "    chi_square, p_value = chisquare([row['high_count'], row['low_count']], [expected_high, expected_low])\n",
    "    chi_squared = ((row['term'], chi_square, p_value, row['high_count'], row['low_count']))\n",
    "\n",
    "    return chi_squared"
   ]
  },
  {
   "cell_type": "code",
   "execution_count": 67,
   "id": "74f35dbb-2aef-48fa-ad0b-f1cec68cae5c",
   "metadata": {},
   "outputs": [
    {
     "data": {
      "text/html": [
       "<div>\n",
       "<style scoped>\n",
       "    .dataframe tbody tr th:only-of-type {\n",
       "        vertical-align: middle;\n",
       "    }\n",
       "\n",
       "    .dataframe tbody tr th {\n",
       "        vertical-align: top;\n",
       "    }\n",
       "\n",
       "    .dataframe thead th {\n",
       "        text-align: right;\n",
       "    }\n",
       "</style>\n",
       "<table border=\"1\" class=\"dataframe\">\n",
       "  <thead>\n",
       "    <tr style=\"text-align: right;\">\n",
       "      <th></th>\n",
       "      <th>term</th>\n",
       "      <th>chi_squared</th>\n",
       "      <th>p_value</th>\n",
       "      <th>high_count</th>\n",
       "      <th>low_count</th>\n",
       "    </tr>\n",
       "  </thead>\n",
       "  <tbody>\n",
       "    <tr>\n",
       "      <th>0</th>\n",
       "      <td>called</td>\n",
       "      <td>14.718500</td>\n",
       "      <td>0.000125</td>\n",
       "      <td>2459</td>\n",
       "      <td>2935</td>\n",
       "    </tr>\n",
       "    <tr>\n",
       "      <th>1</th>\n",
       "      <td>country</td>\n",
       "      <td>0.042043</td>\n",
       "      <td>0.837537</td>\n",
       "      <td>2078</td>\n",
       "      <td>2738</td>\n",
       "    </tr>\n",
       "    <tr>\n",
       "      <th>2</th>\n",
       "      <td>became</td>\n",
       "      <td>0.047728</td>\n",
       "      <td>0.827065</td>\n",
       "      <td>1352</td>\n",
       "      <td>1778</td>\n",
       "    </tr>\n",
       "    <tr>\n",
       "      <th>3</th>\n",
       "      <td>played</td>\n",
       "      <td>7.476629</td>\n",
       "      <td>0.006250</td>\n",
       "      <td>1185</td>\n",
       "      <td>1741</td>\n",
       "    </tr>\n",
       "    <tr>\n",
       "      <th>4</th>\n",
       "      <td>president</td>\n",
       "      <td>2.365642</td>\n",
       "      <td>0.124033</td>\n",
       "      <td>1209</td>\n",
       "      <td>1698</td>\n",
       "    </tr>\n",
       "  </tbody>\n",
       "</table>\n",
       "</div>"
      ],
      "text/plain": [
       "        term  chi_squared   p_value  high_count  low_count\n",
       "0     called    14.718500  0.000125        2459       2935\n",
       "1    country     0.042043  0.837537        2078       2738\n",
       "2     became     0.047728  0.827065        1352       1778\n",
       "3     played     7.476629  0.006250        1185       1741\n",
       "4  president     2.365642  0.124033        1209       1698"
      ]
     },
     "execution_count": 67,
     "metadata": {},
     "output_type": "execute_result"
    }
   ],
   "source": [
    "chi_squared = pd.DataFrame(list(highest_term_freqs.apply(calc_chi_squared, axis=1)), columns=['term', 'chi_squared', 'p_value', 'high_count', 'low_count'])\n",
    "chi_squared.head()"
   ]
  },
  {
   "cell_type": "markdown",
   "id": "40809408-55b9-4e21-a8ff-eacebfda0c20",
   "metadata": {},
   "source": [
    "To find the words that tend to be in the high-value questions we'll only take the ones with a `high_count` higher than their `low_count` and a p-value lower than 0.05 (which means this is a significant finding, and not just a random coincidence)."
   ]
  },
  {
   "cell_type": "code",
   "execution_count": 68,
   "id": "60ac7884-34a6-431f-8449-5ccc1876c5f5",
   "metadata": {},
   "outputs": [
    {
     "data": {
      "text/html": [
       "<div>\n",
       "<style scoped>\n",
       "    .dataframe tbody tr th:only-of-type {\n",
       "        vertical-align: middle;\n",
       "    }\n",
       "\n",
       "    .dataframe tbody tr th {\n",
       "        vertical-align: top;\n",
       "    }\n",
       "\n",
       "    .dataframe thead th {\n",
       "        text-align: right;\n",
       "    }\n",
       "</style>\n",
       "<table border=\"1\" class=\"dataframe\">\n",
       "  <thead>\n",
       "    <tr style=\"text-align: right;\">\n",
       "      <th></th>\n",
       "      <th>term</th>\n",
       "      <th>chi_squared</th>\n",
       "      <th>p_value</th>\n",
       "      <th>high_count</th>\n",
       "      <th>low_count</th>\n",
       "    </tr>\n",
       "  </thead>\n",
       "  <tbody>\n",
       "    <tr>\n",
       "      <th>8</th>\n",
       "      <td>french</td>\n",
       "      <td>107.420043</td>\n",
       "      <td>3.601460e-25</td>\n",
       "      <td>1308</td>\n",
       "      <td>1143</td>\n",
       "    </tr>\n",
       "    <tr>\n",
       "      <th>19</th>\n",
       "      <td>author</td>\n",
       "      <td>93.375719</td>\n",
       "      <td>4.325244e-22</td>\n",
       "      <td>919</td>\n",
       "      <td>762</td>\n",
       "    </tr>\n",
       "    <tr>\n",
       "      <th>21</th>\n",
       "      <td>meaning</td>\n",
       "      <td>63.595300</td>\n",
       "      <td>1.527933e-15</td>\n",
       "      <td>821</td>\n",
       "      <td>727</td>\n",
       "    </tr>\n",
       "    <tr>\n",
       "      <th>32</th>\n",
       "      <td>reports</td>\n",
       "      <td>185.696134</td>\n",
       "      <td>2.765843e-42</td>\n",
       "      <td>765</td>\n",
       "      <td>464</td>\n",
       "    </tr>\n",
       "    <tr>\n",
       "      <th>40</th>\n",
       "      <td>german</td>\n",
       "      <td>76.174670</td>\n",
       "      <td>2.596510e-18</td>\n",
       "      <td>596</td>\n",
       "      <td>463</td>\n",
       "    </tr>\n",
       "    <tr>\n",
       "      <th>...</th>\n",
       "      <td>...</td>\n",
       "      <td>...</td>\n",
       "      <td>...</td>\n",
       "      <td>...</td>\n",
       "      <td>...</td>\n",
       "    </tr>\n",
       "    <tr>\n",
       "      <th>4960</th>\n",
       "      <td>definitely</td>\n",
       "      <td>4.301638</td>\n",
       "      <td>3.807568e-02</td>\n",
       "      <td>18</td>\n",
       "      <td>11</td>\n",
       "    </tr>\n",
       "    <tr>\n",
       "      <th>4975</th>\n",
       "      <td>pleasant</td>\n",
       "      <td>7.976135</td>\n",
       "      <td>4.739803e-03</td>\n",
       "      <td>20</td>\n",
       "      <td>9</td>\n",
       "    </tr>\n",
       "    <tr>\n",
       "      <th>4983</th>\n",
       "      <td>hunger</td>\n",
       "      <td>7.976135</td>\n",
       "      <td>4.739803e-03</td>\n",
       "      <td>20</td>\n",
       "      <td>9</td>\n",
       "    </tr>\n",
       "    <tr>\n",
       "      <th>4986</th>\n",
       "      <td>cosmic</td>\n",
       "      <td>5.998199</td>\n",
       "      <td>1.432049e-02</td>\n",
       "      <td>19</td>\n",
       "      <td>10</td>\n",
       "    </tr>\n",
       "    <tr>\n",
       "      <th>4997</th>\n",
       "      <td>burgess</td>\n",
       "      <td>7.057626</td>\n",
       "      <td>7.892852e-03</td>\n",
       "      <td>19</td>\n",
       "      <td>9</td>\n",
       "    </tr>\n",
       "  </tbody>\n",
       "</table>\n",
       "<p>537 rows × 5 columns</p>\n",
       "</div>"
      ],
      "text/plain": [
       "            term  chi_squared       p_value  high_count  low_count\n",
       "8         french   107.420043  3.601460e-25        1308       1143\n",
       "19        author    93.375719  4.325244e-22         919        762\n",
       "21       meaning    63.595300  1.527933e-15         821        727\n",
       "32       reports   185.696134  2.765843e-42         765        464\n",
       "40        german    76.174670  2.596510e-18         596        463\n",
       "...          ...          ...           ...         ...        ...\n",
       "4960  definitely     4.301638  3.807568e-02          18         11\n",
       "4975    pleasant     7.976135  4.739803e-03          20          9\n",
       "4983      hunger     7.976135  4.739803e-03          20          9\n",
       "4986      cosmic     5.998199  1.432049e-02          19         10\n",
       "4997     burgess     7.057626  7.892852e-03          19          9\n",
       "\n",
       "[537 rows x 5 columns]"
      ]
     },
     "execution_count": 68,
     "metadata": {},
     "output_type": "execute_result"
    }
   ],
   "source": [
    "chi_squared = chi_squared[(chi_squared['p_value'] < 0.05) & (chi_squared['high_count'] > chi_squared['low_count'])]\n",
    "chi_squared"
   ]
  },
  {
   "cell_type": "markdown",
   "id": "af9f89b0-cb9e-4e6c-917e-9555d98f675f",
   "metadata": {},
   "source": [
    "## Conclusion <a name=\"conclusion\"></a>\n",
    "\n",
    "In this project we reviewed historical questions used in the Jeopardy game show, to try and see if a future contestant can use that data to focus their studies and gain an advantage.\n",
    "We wanted to answer two questions:\n",
    "* How frequently do terms in the question appear in the answer?\n",
    "* Which terms have already been used in questions?\n",
    "\n",
    "We found that about 2% of the terms in the questions also appear in the answer. That proportion is quite small to be helpful in preparing for the game, so we moved on to the next question.\n",
    "\n",
    "We found that about 88% of the terms made several appearances throughout the gameshow, which prompted us to investigate further.\n",
    "On further investigation, we extracted 537 terms that appeared most times for higher-value questions (over $800).\n",
    "By focusing their time on studying these terms a contestant may have a higher likelihood of being able to answer the high-value questions.\n",
    "They can, of course, filter the list down, by taking the top 200, 100 or even terms, and focus only on those. It's up to how much time, energy and brain capacity they have."
   ]
  },
  {
   "cell_type": "markdown",
   "id": "85453c91-398e-46d7-ab88-6cb29a7cfa92",
   "metadata": {},
   "source": [
    "## Next Steps <a name=\"next_steps\"></a>"
   ]
  },
  {
   "cell_type": "markdown",
   "id": "f48a0f8e-6582-4e46-9a34-37527a7bfce6",
   "metadata": {},
   "source": [
    "* Correct typos. During the analysis we noticed that several of the terms in the dataset have typos. That can affect the analysis, and it may be worthwhile to run an automatic spelling checker before doing another analysis\n",
    "* Single words don't capture the whole context of the question well. Instead of breaking the question to single words we can try using the power of LLMs to get a better understanding of the question's nature\n",
    "* Use the `category` data. We can run several analyses on the categories of the questions, such as which categories tend to crop up in most episodes, which ones have the most repeated questions, etc."
   ]
  }
 ],
 "metadata": {
  "kernelspec": {
   "display_name": "Python 3 (ipykernel)",
   "language": "python",
   "name": "python3"
  },
  "language_info": {
   "codemirror_mode": {
    "name": "ipython",
    "version": 3
   },
   "file_extension": ".py",
   "mimetype": "text/x-python",
   "name": "python",
   "nbconvert_exporter": "python",
   "pygments_lexer": "ipython3",
   "version": "3.11.9"
  }
 },
 "nbformat": 4,
 "nbformat_minor": 5
}
