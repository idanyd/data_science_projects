{
 "cells": [
  {
   "cell_type": "markdown",
   "metadata": {
    "collapsed": true
   },
   "source": [
    "# Exploring eBay Car Sales Data"
   ]
  },
  {
   "cell_type": "markdown",
   "metadata": {},
   "source": [
    "The goal of this project is to practice data cleaning and analysis using Pandas, as well as becoming familiar with some of the unique benefits jupyter notebook provides for pandas.\n",
    "\n",
    "We'll do that by analysing a dataset of used cars from eBay Kleinanzeigen, a classifieds section of the German eBay website.\n",
    "\n",
    "The dataset was originally scraped and uploaded to Kaggle by user [orgesleka](https://www.kaggle.com/orgesleka).\n",
    "The original dataset isn't available on Kaggle anymore, but you can find it [here](https://data.world/data-society/used-cars-data).\n",
    "\n",
    "Several modifications were made to the original dataset by the Dataquest team:\n",
    "* 50,000 data points were sampled from the full dataset, to ensure the code runs quickly in the hosted environment\n",
    "* The original version uploaded to Kaggle was clean to be easier to work with, so the Dataquest team dirtied the dataset a bit to more closely resemble what a real-world scraped dataset\n",
    "\n",
    "The data dictionary provided with data is as follows:\n",
    "\n",
    "* `dateCrawled         - When this ad was first crawled. All field-values are taken from this date.`\n",
    "* `name                - Name of the car.`\n",
    "* `seller              - Whether the seller is private or a dealer.`\n",
    "* `offerType           - The type of listing`\n",
    "* `price               - The price on the ad to sell the car.`\n",
    "* `abtest              - Whether the listing is included in an A/B test.`\n",
    "* `vehicleType         - The vehicle Type.`\n",
    "* `yearOfRegistration  - The year in which the car was first registered.`\n",
    "* `gearbox             - The transmission type.`\n",
    "* `powerPS             - The power of the car in PS.`\n",
    "* `model               - The car model name.`\n",
    "* `odometer            - How many kilometers the car has driven.`\n",
    "* `monthOfRegistration - The month in which the car was first registered.`\n",
    "* `fuelType            - What type of fuel the car uses.`\n",
    "* `brand               - The brand of the car.`\n",
    "* `notRepairedDamage   - If the car has a damage which is not yet repaired.`\n",
    "* `dateCreated         - The date on which the eBay listing was created.`\n",
    "* `nrOfPictures        - The number of pictures in the ad.`\n",
    "* `postalCode          - The postal code for the location of the vehicle.`\n",
    "* `lastSeenOnline      - When the crawler saw this ad last online.`\n",
    "\n",
    "Let's start with some boilerplate code to load the dataset:"
   ]
  },
  {
   "cell_type": "code",
   "execution_count": 2,
   "metadata": {},
   "outputs": [],
   "source": [
    "import pandas as pd\n",
    "\n",
    "autos = pd.read_csv('autos.csv', encoding=\"Latin-1\")"
   ]
  },
  {
   "cell_type": "code",
   "execution_count": 3,
   "metadata": {},
   "outputs": [
    {
     "data": {
      "text/html": [
       "<div>\n",
       "<style scoped>\n",
       "    .dataframe tbody tr th:only-of-type {\n",
       "        vertical-align: middle;\n",
       "    }\n",
       "\n",
       "    .dataframe tbody tr th {\n",
       "        vertical-align: top;\n",
       "    }\n",
       "\n",
       "    .dataframe thead th {\n",
       "        text-align: right;\n",
       "    }\n",
       "</style>\n",
       "<table border=\"1\" class=\"dataframe\">\n",
       "  <thead>\n",
       "    <tr style=\"text-align: right;\">\n",
       "      <th></th>\n",
       "      <th>dateCrawled</th>\n",
       "      <th>name</th>\n",
       "      <th>seller</th>\n",
       "      <th>offerType</th>\n",
       "      <th>price</th>\n",
       "      <th>abtest</th>\n",
       "      <th>vehicleType</th>\n",
       "      <th>yearOfRegistration</th>\n",
       "      <th>gearbox</th>\n",
       "      <th>powerPS</th>\n",
       "      <th>model</th>\n",
       "      <th>odometer</th>\n",
       "      <th>monthOfRegistration</th>\n",
       "      <th>fuelType</th>\n",
       "      <th>brand</th>\n",
       "      <th>notRepairedDamage</th>\n",
       "      <th>dateCreated</th>\n",
       "      <th>nrOfPictures</th>\n",
       "      <th>postalCode</th>\n",
       "      <th>lastSeen</th>\n",
       "    </tr>\n",
       "  </thead>\n",
       "  <tbody>\n",
       "    <tr>\n",
       "      <th>0</th>\n",
       "      <td>2016-03-26 17:47:46</td>\n",
       "      <td>Peugeot_807_160_NAVTECH_ON_BOARD</td>\n",
       "      <td>privat</td>\n",
       "      <td>Angebot</td>\n",
       "      <td>$5,000</td>\n",
       "      <td>control</td>\n",
       "      <td>bus</td>\n",
       "      <td>2004</td>\n",
       "      <td>manuell</td>\n",
       "      <td>158</td>\n",
       "      <td>andere</td>\n",
       "      <td>150,000km</td>\n",
       "      <td>3</td>\n",
       "      <td>lpg</td>\n",
       "      <td>peugeot</td>\n",
       "      <td>nein</td>\n",
       "      <td>2016-03-26 00:00:00</td>\n",
       "      <td>0</td>\n",
       "      <td>79588</td>\n",
       "      <td>2016-04-06 06:45:54</td>\n",
       "    </tr>\n",
       "    <tr>\n",
       "      <th>1</th>\n",
       "      <td>2016-04-04 13:38:56</td>\n",
       "      <td>BMW_740i_4_4_Liter_HAMANN_UMBAU_Mega_Optik</td>\n",
       "      <td>privat</td>\n",
       "      <td>Angebot</td>\n",
       "      <td>$8,500</td>\n",
       "      <td>control</td>\n",
       "      <td>limousine</td>\n",
       "      <td>1997</td>\n",
       "      <td>automatik</td>\n",
       "      <td>286</td>\n",
       "      <td>7er</td>\n",
       "      <td>150,000km</td>\n",
       "      <td>6</td>\n",
       "      <td>benzin</td>\n",
       "      <td>bmw</td>\n",
       "      <td>nein</td>\n",
       "      <td>2016-04-04 00:00:00</td>\n",
       "      <td>0</td>\n",
       "      <td>71034</td>\n",
       "      <td>2016-04-06 14:45:08</td>\n",
       "    </tr>\n",
       "    <tr>\n",
       "      <th>2</th>\n",
       "      <td>2016-03-26 18:57:24</td>\n",
       "      <td>Volkswagen_Golf_1.6_United</td>\n",
       "      <td>privat</td>\n",
       "      <td>Angebot</td>\n",
       "      <td>$8,990</td>\n",
       "      <td>test</td>\n",
       "      <td>limousine</td>\n",
       "      <td>2009</td>\n",
       "      <td>manuell</td>\n",
       "      <td>102</td>\n",
       "      <td>golf</td>\n",
       "      <td>70,000km</td>\n",
       "      <td>7</td>\n",
       "      <td>benzin</td>\n",
       "      <td>volkswagen</td>\n",
       "      <td>nein</td>\n",
       "      <td>2016-03-26 00:00:00</td>\n",
       "      <td>0</td>\n",
       "      <td>35394</td>\n",
       "      <td>2016-04-06 20:15:37</td>\n",
       "    </tr>\n",
       "    <tr>\n",
       "      <th>3</th>\n",
       "      <td>2016-03-12 16:58:10</td>\n",
       "      <td>Smart_smart_fortwo_coupe_softouch/F1/Klima/Pan...</td>\n",
       "      <td>privat</td>\n",
       "      <td>Angebot</td>\n",
       "      <td>$4,350</td>\n",
       "      <td>control</td>\n",
       "      <td>kleinwagen</td>\n",
       "      <td>2007</td>\n",
       "      <td>automatik</td>\n",
       "      <td>71</td>\n",
       "      <td>fortwo</td>\n",
       "      <td>70,000km</td>\n",
       "      <td>6</td>\n",
       "      <td>benzin</td>\n",
       "      <td>smart</td>\n",
       "      <td>nein</td>\n",
       "      <td>2016-03-12 00:00:00</td>\n",
       "      <td>0</td>\n",
       "      <td>33729</td>\n",
       "      <td>2016-03-15 03:16:28</td>\n",
       "    </tr>\n",
       "    <tr>\n",
       "      <th>4</th>\n",
       "      <td>2016-04-01 14:38:50</td>\n",
       "      <td>Ford_Focus_1_6_Benzin_TÜV_neu_ist_sehr_gepfleg...</td>\n",
       "      <td>privat</td>\n",
       "      <td>Angebot</td>\n",
       "      <td>$1,350</td>\n",
       "      <td>test</td>\n",
       "      <td>kombi</td>\n",
       "      <td>2003</td>\n",
       "      <td>manuell</td>\n",
       "      <td>0</td>\n",
       "      <td>focus</td>\n",
       "      <td>150,000km</td>\n",
       "      <td>7</td>\n",
       "      <td>benzin</td>\n",
       "      <td>ford</td>\n",
       "      <td>nein</td>\n",
       "      <td>2016-04-01 00:00:00</td>\n",
       "      <td>0</td>\n",
       "      <td>39218</td>\n",
       "      <td>2016-04-01 14:38:50</td>\n",
       "    </tr>\n",
       "    <tr>\n",
       "      <th>...</th>\n",
       "      <td>...</td>\n",
       "      <td>...</td>\n",
       "      <td>...</td>\n",
       "      <td>...</td>\n",
       "      <td>...</td>\n",
       "      <td>...</td>\n",
       "      <td>...</td>\n",
       "      <td>...</td>\n",
       "      <td>...</td>\n",
       "      <td>...</td>\n",
       "      <td>...</td>\n",
       "      <td>...</td>\n",
       "      <td>...</td>\n",
       "      <td>...</td>\n",
       "      <td>...</td>\n",
       "      <td>...</td>\n",
       "      <td>...</td>\n",
       "      <td>...</td>\n",
       "      <td>...</td>\n",
       "      <td>...</td>\n",
       "    </tr>\n",
       "    <tr>\n",
       "      <th>49995</th>\n",
       "      <td>2016-03-27 14:38:19</td>\n",
       "      <td>Audi_Q5_3.0_TDI_qu._S_tr.__Navi__Panorama__Xenon</td>\n",
       "      <td>privat</td>\n",
       "      <td>Angebot</td>\n",
       "      <td>$24,900</td>\n",
       "      <td>control</td>\n",
       "      <td>limousine</td>\n",
       "      <td>2011</td>\n",
       "      <td>automatik</td>\n",
       "      <td>239</td>\n",
       "      <td>q5</td>\n",
       "      <td>100,000km</td>\n",
       "      <td>1</td>\n",
       "      <td>diesel</td>\n",
       "      <td>audi</td>\n",
       "      <td>nein</td>\n",
       "      <td>2016-03-27 00:00:00</td>\n",
       "      <td>0</td>\n",
       "      <td>82131</td>\n",
       "      <td>2016-04-01 13:47:40</td>\n",
       "    </tr>\n",
       "    <tr>\n",
       "      <th>49996</th>\n",
       "      <td>2016-03-28 10:50:25</td>\n",
       "      <td>Opel_Astra_F_Cabrio_Bertone_Edition___TÜV_neu+...</td>\n",
       "      <td>privat</td>\n",
       "      <td>Angebot</td>\n",
       "      <td>$1,980</td>\n",
       "      <td>control</td>\n",
       "      <td>cabrio</td>\n",
       "      <td>1996</td>\n",
       "      <td>manuell</td>\n",
       "      <td>75</td>\n",
       "      <td>astra</td>\n",
       "      <td>150,000km</td>\n",
       "      <td>5</td>\n",
       "      <td>benzin</td>\n",
       "      <td>opel</td>\n",
       "      <td>nein</td>\n",
       "      <td>2016-03-28 00:00:00</td>\n",
       "      <td>0</td>\n",
       "      <td>44807</td>\n",
       "      <td>2016-04-02 14:18:02</td>\n",
       "    </tr>\n",
       "    <tr>\n",
       "      <th>49997</th>\n",
       "      <td>2016-04-02 14:44:48</td>\n",
       "      <td>Fiat_500_C_1.2_Dualogic_Lounge</td>\n",
       "      <td>privat</td>\n",
       "      <td>Angebot</td>\n",
       "      <td>$13,200</td>\n",
       "      <td>test</td>\n",
       "      <td>cabrio</td>\n",
       "      <td>2014</td>\n",
       "      <td>automatik</td>\n",
       "      <td>69</td>\n",
       "      <td>500</td>\n",
       "      <td>5,000km</td>\n",
       "      <td>11</td>\n",
       "      <td>benzin</td>\n",
       "      <td>fiat</td>\n",
       "      <td>nein</td>\n",
       "      <td>2016-04-02 00:00:00</td>\n",
       "      <td>0</td>\n",
       "      <td>73430</td>\n",
       "      <td>2016-04-04 11:47:27</td>\n",
       "    </tr>\n",
       "    <tr>\n",
       "      <th>49998</th>\n",
       "      <td>2016-03-08 19:25:42</td>\n",
       "      <td>Audi_A3_2.0_TDI_Sportback_Ambition</td>\n",
       "      <td>privat</td>\n",
       "      <td>Angebot</td>\n",
       "      <td>$22,900</td>\n",
       "      <td>control</td>\n",
       "      <td>kombi</td>\n",
       "      <td>2013</td>\n",
       "      <td>manuell</td>\n",
       "      <td>150</td>\n",
       "      <td>a3</td>\n",
       "      <td>40,000km</td>\n",
       "      <td>11</td>\n",
       "      <td>diesel</td>\n",
       "      <td>audi</td>\n",
       "      <td>nein</td>\n",
       "      <td>2016-03-08 00:00:00</td>\n",
       "      <td>0</td>\n",
       "      <td>35683</td>\n",
       "      <td>2016-04-05 16:45:07</td>\n",
       "    </tr>\n",
       "    <tr>\n",
       "      <th>49999</th>\n",
       "      <td>2016-03-14 00:42:12</td>\n",
       "      <td>Opel_Vectra_1.6_16V</td>\n",
       "      <td>privat</td>\n",
       "      <td>Angebot</td>\n",
       "      <td>$1,250</td>\n",
       "      <td>control</td>\n",
       "      <td>limousine</td>\n",
       "      <td>1996</td>\n",
       "      <td>manuell</td>\n",
       "      <td>101</td>\n",
       "      <td>vectra</td>\n",
       "      <td>150,000km</td>\n",
       "      <td>1</td>\n",
       "      <td>benzin</td>\n",
       "      <td>opel</td>\n",
       "      <td>nein</td>\n",
       "      <td>2016-03-13 00:00:00</td>\n",
       "      <td>0</td>\n",
       "      <td>45897</td>\n",
       "      <td>2016-04-06 21:18:48</td>\n",
       "    </tr>\n",
       "  </tbody>\n",
       "</table>\n",
       "<p>50000 rows × 20 columns</p>\n",
       "</div>"
      ],
      "text/plain": [
       "               dateCrawled                                               name  \\\n",
       "0      2016-03-26 17:47:46                   Peugeot_807_160_NAVTECH_ON_BOARD   \n",
       "1      2016-04-04 13:38:56         BMW_740i_4_4_Liter_HAMANN_UMBAU_Mega_Optik   \n",
       "2      2016-03-26 18:57:24                         Volkswagen_Golf_1.6_United   \n",
       "3      2016-03-12 16:58:10  Smart_smart_fortwo_coupe_softouch/F1/Klima/Pan...   \n",
       "4      2016-04-01 14:38:50  Ford_Focus_1_6_Benzin_TÜV_neu_ist_sehr_gepfleg...   \n",
       "...                    ...                                                ...   \n",
       "49995  2016-03-27 14:38:19   Audi_Q5_3.0_TDI_qu._S_tr.__Navi__Panorama__Xenon   \n",
       "49996  2016-03-28 10:50:25  Opel_Astra_F_Cabrio_Bertone_Edition___TÜV_neu+...   \n",
       "49997  2016-04-02 14:44:48                     Fiat_500_C_1.2_Dualogic_Lounge   \n",
       "49998  2016-03-08 19:25:42                 Audi_A3_2.0_TDI_Sportback_Ambition   \n",
       "49999  2016-03-14 00:42:12                                Opel_Vectra_1.6_16V   \n",
       "\n",
       "       seller offerType    price   abtest vehicleType  yearOfRegistration  \\\n",
       "0      privat   Angebot   $5,000  control         bus                2004   \n",
       "1      privat   Angebot   $8,500  control   limousine                1997   \n",
       "2      privat   Angebot   $8,990     test   limousine                2009   \n",
       "3      privat   Angebot   $4,350  control  kleinwagen                2007   \n",
       "4      privat   Angebot   $1,350     test       kombi                2003   \n",
       "...       ...       ...      ...      ...         ...                 ...   \n",
       "49995  privat   Angebot  $24,900  control   limousine                2011   \n",
       "49996  privat   Angebot   $1,980  control      cabrio                1996   \n",
       "49997  privat   Angebot  $13,200     test      cabrio                2014   \n",
       "49998  privat   Angebot  $22,900  control       kombi                2013   \n",
       "49999  privat   Angebot   $1,250  control   limousine                1996   \n",
       "\n",
       "         gearbox  powerPS   model   odometer  monthOfRegistration fuelType  \\\n",
       "0        manuell      158  andere  150,000km                    3      lpg   \n",
       "1      automatik      286     7er  150,000km                    6   benzin   \n",
       "2        manuell      102    golf   70,000km                    7   benzin   \n",
       "3      automatik       71  fortwo   70,000km                    6   benzin   \n",
       "4        manuell        0   focus  150,000km                    7   benzin   \n",
       "...          ...      ...     ...        ...                  ...      ...   \n",
       "49995  automatik      239      q5  100,000km                    1   diesel   \n",
       "49996    manuell       75   astra  150,000km                    5   benzin   \n",
       "49997  automatik       69     500    5,000km                   11   benzin   \n",
       "49998    manuell      150      a3   40,000km                   11   diesel   \n",
       "49999    manuell      101  vectra  150,000km                    1   benzin   \n",
       "\n",
       "            brand notRepairedDamage          dateCreated  nrOfPictures  \\\n",
       "0         peugeot              nein  2016-03-26 00:00:00             0   \n",
       "1             bmw              nein  2016-04-04 00:00:00             0   \n",
       "2      volkswagen              nein  2016-03-26 00:00:00             0   \n",
       "3           smart              nein  2016-03-12 00:00:00             0   \n",
       "4            ford              nein  2016-04-01 00:00:00             0   \n",
       "...           ...               ...                  ...           ...   \n",
       "49995        audi              nein  2016-03-27 00:00:00             0   \n",
       "49996        opel              nein  2016-03-28 00:00:00             0   \n",
       "49997        fiat              nein  2016-04-02 00:00:00             0   \n",
       "49998        audi              nein  2016-03-08 00:00:00             0   \n",
       "49999        opel              nein  2016-03-13 00:00:00             0   \n",
       "\n",
       "       postalCode             lastSeen  \n",
       "0           79588  2016-04-06 06:45:54  \n",
       "1           71034  2016-04-06 14:45:08  \n",
       "2           35394  2016-04-06 20:15:37  \n",
       "3           33729  2016-03-15 03:16:28  \n",
       "4           39218  2016-04-01 14:38:50  \n",
       "...           ...                  ...  \n",
       "49995       82131  2016-04-01 13:47:40  \n",
       "49996       44807  2016-04-02 14:18:02  \n",
       "49997       73430  2016-04-04 11:47:27  \n",
       "49998       35683  2016-04-05 16:45:07  \n",
       "49999       45897  2016-04-06 21:18:48  \n",
       "\n",
       "[50000 rows x 20 columns]"
      ]
     },
     "execution_count": 3,
     "metadata": {},
     "output_type": "execute_result"
    }
   ],
   "source": [
    "autos"
   ]
  },
  {
   "cell_type": "markdown",
   "metadata": {},
   "source": [
    "## Data Cleaning"
   ]
  },
  {
   "cell_type": "code",
   "execution_count": 4,
   "metadata": {},
   "outputs": [
    {
     "name": "stdout",
     "output_type": "stream",
     "text": [
      "<class 'pandas.core.frame.DataFrame'>\n",
      "RangeIndex: 50000 entries, 0 to 49999\n",
      "Data columns (total 20 columns):\n",
      " #   Column               Non-Null Count  Dtype \n",
      "---  ------               --------------  ----- \n",
      " 0   dateCrawled          50000 non-null  object\n",
      " 1   name                 50000 non-null  object\n",
      " 2   seller               50000 non-null  object\n",
      " 3   offerType            50000 non-null  object\n",
      " 4   price                50000 non-null  object\n",
      " 5   abtest               50000 non-null  object\n",
      " 6   vehicleType          44905 non-null  object\n",
      " 7   yearOfRegistration   50000 non-null  int64 \n",
      " 8   gearbox              47320 non-null  object\n",
      " 9   powerPS              50000 non-null  int64 \n",
      " 10  model                47242 non-null  object\n",
      " 11  odometer             50000 non-null  object\n",
      " 12  monthOfRegistration  50000 non-null  int64 \n",
      " 13  fuelType             45518 non-null  object\n",
      " 14  brand                50000 non-null  object\n",
      " 15  notRepairedDamage    40171 non-null  object\n",
      " 16  dateCreated          50000 non-null  object\n",
      " 17  nrOfPictures         50000 non-null  int64 \n",
      " 18  postalCode           50000 non-null  int64 \n",
      " 19  lastSeen             50000 non-null  object\n",
      "dtypes: int64(5), object(15)\n",
      "memory usage: 7.6+ MB\n"
     ]
    }
   ],
   "source": [
    "autos.info()"
   ]
  },
  {
   "cell_type": "markdown",
   "metadata": {},
   "source": [
    "We've created 'autos', a dataset composed of 50,000 data points. from info's output we can see several changes we'd like to make to the dataset to make it easier to work with:\n",
    "* Reword some column names and convert all of them from CamelCase to snakecase\n",
    "* Convert columns from object to int64 (price, odometer), boolean (notRepairedDamage) or datetime (dateCrawled, dateCreated, lastSeen) and from int64 to object (postalCode).\n",
    "* Translate some columns to English, where reasonable (vehicleType, gearbox).\n",
    "* Some columns have several thousands of null objects, and we'd like to investigate further what's the cause for the null objects and what we should do with them.\n",
    "\n",
    "Let's start with the first bullet point - cleaning the column names:"
   ]
  },
  {
   "cell_type": "code",
   "execution_count": 5,
   "metadata": {},
   "outputs": [
    {
     "data": {
      "text/html": [
       "<div>\n",
       "<style scoped>\n",
       "    .dataframe tbody tr th:only-of-type {\n",
       "        vertical-align: middle;\n",
       "    }\n",
       "\n",
       "    .dataframe tbody tr th {\n",
       "        vertical-align: top;\n",
       "    }\n",
       "\n",
       "    .dataframe thead th {\n",
       "        text-align: right;\n",
       "    }\n",
       "</style>\n",
       "<table border=\"1\" class=\"dataframe\">\n",
       "  <thead>\n",
       "    <tr style=\"text-align: right;\">\n",
       "      <th></th>\n",
       "      <th>date_crawled</th>\n",
       "      <th>name</th>\n",
       "      <th>seller</th>\n",
       "      <th>offer_type</th>\n",
       "      <th>price</th>\n",
       "      <th>abtest</th>\n",
       "      <th>vehicle_type</th>\n",
       "      <th>registration_year</th>\n",
       "      <th>gearbox</th>\n",
       "      <th>power_ps</th>\n",
       "      <th>model</th>\n",
       "      <th>odometer</th>\n",
       "      <th>registration_month</th>\n",
       "      <th>fuel_type</th>\n",
       "      <th>brand</th>\n",
       "      <th>unrepaired_damage</th>\n",
       "      <th>ad_created</th>\n",
       "      <th>nr_of_pictures</th>\n",
       "      <th>postal_code</th>\n",
       "      <th>last_seen</th>\n",
       "    </tr>\n",
       "  </thead>\n",
       "  <tbody>\n",
       "    <tr>\n",
       "      <th>0</th>\n",
       "      <td>2016-03-26 17:47:46</td>\n",
       "      <td>Peugeot_807_160_NAVTECH_ON_BOARD</td>\n",
       "      <td>privat</td>\n",
       "      <td>Angebot</td>\n",
       "      <td>$5,000</td>\n",
       "      <td>control</td>\n",
       "      <td>bus</td>\n",
       "      <td>2004</td>\n",
       "      <td>manuell</td>\n",
       "      <td>158</td>\n",
       "      <td>andere</td>\n",
       "      <td>150,000km</td>\n",
       "      <td>3</td>\n",
       "      <td>lpg</td>\n",
       "      <td>peugeot</td>\n",
       "      <td>nein</td>\n",
       "      <td>2016-03-26 00:00:00</td>\n",
       "      <td>0</td>\n",
       "      <td>79588</td>\n",
       "      <td>2016-04-06 06:45:54</td>\n",
       "    </tr>\n",
       "    <tr>\n",
       "      <th>1</th>\n",
       "      <td>2016-04-04 13:38:56</td>\n",
       "      <td>BMW_740i_4_4_Liter_HAMANN_UMBAU_Mega_Optik</td>\n",
       "      <td>privat</td>\n",
       "      <td>Angebot</td>\n",
       "      <td>$8,500</td>\n",
       "      <td>control</td>\n",
       "      <td>limousine</td>\n",
       "      <td>1997</td>\n",
       "      <td>automatik</td>\n",
       "      <td>286</td>\n",
       "      <td>7er</td>\n",
       "      <td>150,000km</td>\n",
       "      <td>6</td>\n",
       "      <td>benzin</td>\n",
       "      <td>bmw</td>\n",
       "      <td>nein</td>\n",
       "      <td>2016-04-04 00:00:00</td>\n",
       "      <td>0</td>\n",
       "      <td>71034</td>\n",
       "      <td>2016-04-06 14:45:08</td>\n",
       "    </tr>\n",
       "    <tr>\n",
       "      <th>2</th>\n",
       "      <td>2016-03-26 18:57:24</td>\n",
       "      <td>Volkswagen_Golf_1.6_United</td>\n",
       "      <td>privat</td>\n",
       "      <td>Angebot</td>\n",
       "      <td>$8,990</td>\n",
       "      <td>test</td>\n",
       "      <td>limousine</td>\n",
       "      <td>2009</td>\n",
       "      <td>manuell</td>\n",
       "      <td>102</td>\n",
       "      <td>golf</td>\n",
       "      <td>70,000km</td>\n",
       "      <td>7</td>\n",
       "      <td>benzin</td>\n",
       "      <td>volkswagen</td>\n",
       "      <td>nein</td>\n",
       "      <td>2016-03-26 00:00:00</td>\n",
       "      <td>0</td>\n",
       "      <td>35394</td>\n",
       "      <td>2016-04-06 20:15:37</td>\n",
       "    </tr>\n",
       "    <tr>\n",
       "      <th>3</th>\n",
       "      <td>2016-03-12 16:58:10</td>\n",
       "      <td>Smart_smart_fortwo_coupe_softouch/F1/Klima/Pan...</td>\n",
       "      <td>privat</td>\n",
       "      <td>Angebot</td>\n",
       "      <td>$4,350</td>\n",
       "      <td>control</td>\n",
       "      <td>kleinwagen</td>\n",
       "      <td>2007</td>\n",
       "      <td>automatik</td>\n",
       "      <td>71</td>\n",
       "      <td>fortwo</td>\n",
       "      <td>70,000km</td>\n",
       "      <td>6</td>\n",
       "      <td>benzin</td>\n",
       "      <td>smart</td>\n",
       "      <td>nein</td>\n",
       "      <td>2016-03-12 00:00:00</td>\n",
       "      <td>0</td>\n",
       "      <td>33729</td>\n",
       "      <td>2016-03-15 03:16:28</td>\n",
       "    </tr>\n",
       "    <tr>\n",
       "      <th>4</th>\n",
       "      <td>2016-04-01 14:38:50</td>\n",
       "      <td>Ford_Focus_1_6_Benzin_TÜV_neu_ist_sehr_gepfleg...</td>\n",
       "      <td>privat</td>\n",
       "      <td>Angebot</td>\n",
       "      <td>$1,350</td>\n",
       "      <td>test</td>\n",
       "      <td>kombi</td>\n",
       "      <td>2003</td>\n",
       "      <td>manuell</td>\n",
       "      <td>0</td>\n",
       "      <td>focus</td>\n",
       "      <td>150,000km</td>\n",
       "      <td>7</td>\n",
       "      <td>benzin</td>\n",
       "      <td>ford</td>\n",
       "      <td>nein</td>\n",
       "      <td>2016-04-01 00:00:00</td>\n",
       "      <td>0</td>\n",
       "      <td>39218</td>\n",
       "      <td>2016-04-01 14:38:50</td>\n",
       "    </tr>\n",
       "  </tbody>\n",
       "</table>\n",
       "</div>"
      ],
      "text/plain": [
       "          date_crawled                                               name  \\\n",
       "0  2016-03-26 17:47:46                   Peugeot_807_160_NAVTECH_ON_BOARD   \n",
       "1  2016-04-04 13:38:56         BMW_740i_4_4_Liter_HAMANN_UMBAU_Mega_Optik   \n",
       "2  2016-03-26 18:57:24                         Volkswagen_Golf_1.6_United   \n",
       "3  2016-03-12 16:58:10  Smart_smart_fortwo_coupe_softouch/F1/Klima/Pan...   \n",
       "4  2016-04-01 14:38:50  Ford_Focus_1_6_Benzin_TÜV_neu_ist_sehr_gepfleg...   \n",
       "\n",
       "   seller offer_type   price   abtest vehicle_type  registration_year  \\\n",
       "0  privat    Angebot  $5,000  control          bus               2004   \n",
       "1  privat    Angebot  $8,500  control    limousine               1997   \n",
       "2  privat    Angebot  $8,990     test    limousine               2009   \n",
       "3  privat    Angebot  $4,350  control   kleinwagen               2007   \n",
       "4  privat    Angebot  $1,350     test        kombi               2003   \n",
       "\n",
       "     gearbox  power_ps   model   odometer  registration_month fuel_type  \\\n",
       "0    manuell       158  andere  150,000km                   3       lpg   \n",
       "1  automatik       286     7er  150,000km                   6    benzin   \n",
       "2    manuell       102    golf   70,000km                   7    benzin   \n",
       "3  automatik        71  fortwo   70,000km                   6    benzin   \n",
       "4    manuell         0   focus  150,000km                   7    benzin   \n",
       "\n",
       "        brand unrepaired_damage           ad_created  nr_of_pictures  \\\n",
       "0     peugeot              nein  2016-03-26 00:00:00               0   \n",
       "1         bmw              nein  2016-04-04 00:00:00               0   \n",
       "2  volkswagen              nein  2016-03-26 00:00:00               0   \n",
       "3       smart              nein  2016-03-12 00:00:00               0   \n",
       "4        ford              nein  2016-04-01 00:00:00               0   \n",
       "\n",
       "   postal_code            last_seen  \n",
       "0        79588  2016-04-06 06:45:54  \n",
       "1        71034  2016-04-06 14:45:08  \n",
       "2        35394  2016-04-06 20:15:37  \n",
       "3        33729  2016-03-15 03:16:28  \n",
       "4        39218  2016-04-01 14:38:50  "
      ]
     },
     "execution_count": 5,
     "metadata": {},
     "output_type": "execute_result"
    }
   ],
   "source": [
    "columns = autos.columns\n",
    "autos.rename(columns={\n",
    "                      \"yearOfRegistration\": \"registration_year\",\n",
    "                      \"monthOfRegistration\": \"registration_month\",\n",
    "                      \"notRepairedDamage\": \"unrepaired_damage\",\n",
    "                      \"dateCreated\": \"ad_created\",\n",
    "                      \"dateCrawled\": \"date_crawled\",\n",
    "                      \"offerType\": \"offer_type\",\n",
    "                      \"vehicleType\": \"vehicle_type\",\n",
    "                      \"powerPS\": \"power_ps\",\n",
    "                      \"fuelType\": \"fuel_type\",\n",
    "                      \"vehicleType\": \"vehicle_type\",\n",
    "                      \"nrOfPictures\": \"nr_of_pictures\",\n",
    "                      \"postalCode\": \"postal_code\",\n",
    "                      \"lastSeen\": \"last_seen\",\n",
    "                     }, inplace=True)\n",
    "\n",
    "autos.head()"
   ]
  },
  {
   "cell_type": "markdown",
   "metadata": {},
   "source": [
    "Let's see what we can learn about the dataset by describing it."
   ]
  },
  {
   "cell_type": "code",
   "execution_count": 6,
   "metadata": {},
   "outputs": [
    {
     "data": {
      "text/html": [
       "<div>\n",
       "<style scoped>\n",
       "    .dataframe tbody tr th:only-of-type {\n",
       "        vertical-align: middle;\n",
       "    }\n",
       "\n",
       "    .dataframe tbody tr th {\n",
       "        vertical-align: top;\n",
       "    }\n",
       "\n",
       "    .dataframe thead th {\n",
       "        text-align: right;\n",
       "    }\n",
       "</style>\n",
       "<table border=\"1\" class=\"dataframe\">\n",
       "  <thead>\n",
       "    <tr style=\"text-align: right;\">\n",
       "      <th></th>\n",
       "      <th>date_crawled</th>\n",
       "      <th>name</th>\n",
       "      <th>seller</th>\n",
       "      <th>offer_type</th>\n",
       "      <th>price</th>\n",
       "      <th>abtest</th>\n",
       "      <th>vehicle_type</th>\n",
       "      <th>registration_year</th>\n",
       "      <th>gearbox</th>\n",
       "      <th>power_ps</th>\n",
       "      <th>model</th>\n",
       "      <th>odometer</th>\n",
       "      <th>registration_month</th>\n",
       "      <th>fuel_type</th>\n",
       "      <th>brand</th>\n",
       "      <th>unrepaired_damage</th>\n",
       "      <th>ad_created</th>\n",
       "      <th>nr_of_pictures</th>\n",
       "      <th>postal_code</th>\n",
       "      <th>last_seen</th>\n",
       "    </tr>\n",
       "  </thead>\n",
       "  <tbody>\n",
       "    <tr>\n",
       "      <th>count</th>\n",
       "      <td>50000</td>\n",
       "      <td>50000</td>\n",
       "      <td>50000</td>\n",
       "      <td>50000</td>\n",
       "      <td>50000</td>\n",
       "      <td>50000</td>\n",
       "      <td>44905</td>\n",
       "      <td>50000.000000</td>\n",
       "      <td>47320</td>\n",
       "      <td>50000.000000</td>\n",
       "      <td>47242</td>\n",
       "      <td>50000</td>\n",
       "      <td>50000.000000</td>\n",
       "      <td>45518</td>\n",
       "      <td>50000</td>\n",
       "      <td>40171</td>\n",
       "      <td>50000</td>\n",
       "      <td>50000.0</td>\n",
       "      <td>50000.000000</td>\n",
       "      <td>50000</td>\n",
       "    </tr>\n",
       "    <tr>\n",
       "      <th>unique</th>\n",
       "      <td>48213</td>\n",
       "      <td>38754</td>\n",
       "      <td>2</td>\n",
       "      <td>2</td>\n",
       "      <td>2357</td>\n",
       "      <td>2</td>\n",
       "      <td>8</td>\n",
       "      <td>NaN</td>\n",
       "      <td>2</td>\n",
       "      <td>NaN</td>\n",
       "      <td>245</td>\n",
       "      <td>13</td>\n",
       "      <td>NaN</td>\n",
       "      <td>7</td>\n",
       "      <td>40</td>\n",
       "      <td>2</td>\n",
       "      <td>76</td>\n",
       "      <td>NaN</td>\n",
       "      <td>NaN</td>\n",
       "      <td>39481</td>\n",
       "    </tr>\n",
       "    <tr>\n",
       "      <th>top</th>\n",
       "      <td>2016-03-27 22:55:05</td>\n",
       "      <td>Ford_Fiesta</td>\n",
       "      <td>privat</td>\n",
       "      <td>Angebot</td>\n",
       "      <td>$0</td>\n",
       "      <td>test</td>\n",
       "      <td>limousine</td>\n",
       "      <td>NaN</td>\n",
       "      <td>manuell</td>\n",
       "      <td>NaN</td>\n",
       "      <td>golf</td>\n",
       "      <td>150,000km</td>\n",
       "      <td>NaN</td>\n",
       "      <td>benzin</td>\n",
       "      <td>volkswagen</td>\n",
       "      <td>nein</td>\n",
       "      <td>2016-04-03 00:00:00</td>\n",
       "      <td>NaN</td>\n",
       "      <td>NaN</td>\n",
       "      <td>2016-04-07 06:17:27</td>\n",
       "    </tr>\n",
       "    <tr>\n",
       "      <th>freq</th>\n",
       "      <td>3</td>\n",
       "      <td>78</td>\n",
       "      <td>49999</td>\n",
       "      <td>49999</td>\n",
       "      <td>1421</td>\n",
       "      <td>25756</td>\n",
       "      <td>12859</td>\n",
       "      <td>NaN</td>\n",
       "      <td>36993</td>\n",
       "      <td>NaN</td>\n",
       "      <td>4024</td>\n",
       "      <td>32424</td>\n",
       "      <td>NaN</td>\n",
       "      <td>30107</td>\n",
       "      <td>10687</td>\n",
       "      <td>35232</td>\n",
       "      <td>1946</td>\n",
       "      <td>NaN</td>\n",
       "      <td>NaN</td>\n",
       "      <td>8</td>\n",
       "    </tr>\n",
       "    <tr>\n",
       "      <th>mean</th>\n",
       "      <td>NaN</td>\n",
       "      <td>NaN</td>\n",
       "      <td>NaN</td>\n",
       "      <td>NaN</td>\n",
       "      <td>NaN</td>\n",
       "      <td>NaN</td>\n",
       "      <td>NaN</td>\n",
       "      <td>2005.073280</td>\n",
       "      <td>NaN</td>\n",
       "      <td>116.355920</td>\n",
       "      <td>NaN</td>\n",
       "      <td>NaN</td>\n",
       "      <td>5.723360</td>\n",
       "      <td>NaN</td>\n",
       "      <td>NaN</td>\n",
       "      <td>NaN</td>\n",
       "      <td>NaN</td>\n",
       "      <td>0.0</td>\n",
       "      <td>50813.627300</td>\n",
       "      <td>NaN</td>\n",
       "    </tr>\n",
       "    <tr>\n",
       "      <th>std</th>\n",
       "      <td>NaN</td>\n",
       "      <td>NaN</td>\n",
       "      <td>NaN</td>\n",
       "      <td>NaN</td>\n",
       "      <td>NaN</td>\n",
       "      <td>NaN</td>\n",
       "      <td>NaN</td>\n",
       "      <td>105.712813</td>\n",
       "      <td>NaN</td>\n",
       "      <td>209.216627</td>\n",
       "      <td>NaN</td>\n",
       "      <td>NaN</td>\n",
       "      <td>3.711984</td>\n",
       "      <td>NaN</td>\n",
       "      <td>NaN</td>\n",
       "      <td>NaN</td>\n",
       "      <td>NaN</td>\n",
       "      <td>0.0</td>\n",
       "      <td>25779.747957</td>\n",
       "      <td>NaN</td>\n",
       "    </tr>\n",
       "    <tr>\n",
       "      <th>min</th>\n",
       "      <td>NaN</td>\n",
       "      <td>NaN</td>\n",
       "      <td>NaN</td>\n",
       "      <td>NaN</td>\n",
       "      <td>NaN</td>\n",
       "      <td>NaN</td>\n",
       "      <td>NaN</td>\n",
       "      <td>1000.000000</td>\n",
       "      <td>NaN</td>\n",
       "      <td>0.000000</td>\n",
       "      <td>NaN</td>\n",
       "      <td>NaN</td>\n",
       "      <td>0.000000</td>\n",
       "      <td>NaN</td>\n",
       "      <td>NaN</td>\n",
       "      <td>NaN</td>\n",
       "      <td>NaN</td>\n",
       "      <td>0.0</td>\n",
       "      <td>1067.000000</td>\n",
       "      <td>NaN</td>\n",
       "    </tr>\n",
       "    <tr>\n",
       "      <th>25%</th>\n",
       "      <td>NaN</td>\n",
       "      <td>NaN</td>\n",
       "      <td>NaN</td>\n",
       "      <td>NaN</td>\n",
       "      <td>NaN</td>\n",
       "      <td>NaN</td>\n",
       "      <td>NaN</td>\n",
       "      <td>1999.000000</td>\n",
       "      <td>NaN</td>\n",
       "      <td>70.000000</td>\n",
       "      <td>NaN</td>\n",
       "      <td>NaN</td>\n",
       "      <td>3.000000</td>\n",
       "      <td>NaN</td>\n",
       "      <td>NaN</td>\n",
       "      <td>NaN</td>\n",
       "      <td>NaN</td>\n",
       "      <td>0.0</td>\n",
       "      <td>30451.000000</td>\n",
       "      <td>NaN</td>\n",
       "    </tr>\n",
       "    <tr>\n",
       "      <th>50%</th>\n",
       "      <td>NaN</td>\n",
       "      <td>NaN</td>\n",
       "      <td>NaN</td>\n",
       "      <td>NaN</td>\n",
       "      <td>NaN</td>\n",
       "      <td>NaN</td>\n",
       "      <td>NaN</td>\n",
       "      <td>2003.000000</td>\n",
       "      <td>NaN</td>\n",
       "      <td>105.000000</td>\n",
       "      <td>NaN</td>\n",
       "      <td>NaN</td>\n",
       "      <td>6.000000</td>\n",
       "      <td>NaN</td>\n",
       "      <td>NaN</td>\n",
       "      <td>NaN</td>\n",
       "      <td>NaN</td>\n",
       "      <td>0.0</td>\n",
       "      <td>49577.000000</td>\n",
       "      <td>NaN</td>\n",
       "    </tr>\n",
       "    <tr>\n",
       "      <th>75%</th>\n",
       "      <td>NaN</td>\n",
       "      <td>NaN</td>\n",
       "      <td>NaN</td>\n",
       "      <td>NaN</td>\n",
       "      <td>NaN</td>\n",
       "      <td>NaN</td>\n",
       "      <td>NaN</td>\n",
       "      <td>2008.000000</td>\n",
       "      <td>NaN</td>\n",
       "      <td>150.000000</td>\n",
       "      <td>NaN</td>\n",
       "      <td>NaN</td>\n",
       "      <td>9.000000</td>\n",
       "      <td>NaN</td>\n",
       "      <td>NaN</td>\n",
       "      <td>NaN</td>\n",
       "      <td>NaN</td>\n",
       "      <td>0.0</td>\n",
       "      <td>71540.000000</td>\n",
       "      <td>NaN</td>\n",
       "    </tr>\n",
       "    <tr>\n",
       "      <th>max</th>\n",
       "      <td>NaN</td>\n",
       "      <td>NaN</td>\n",
       "      <td>NaN</td>\n",
       "      <td>NaN</td>\n",
       "      <td>NaN</td>\n",
       "      <td>NaN</td>\n",
       "      <td>NaN</td>\n",
       "      <td>9999.000000</td>\n",
       "      <td>NaN</td>\n",
       "      <td>17700.000000</td>\n",
       "      <td>NaN</td>\n",
       "      <td>NaN</td>\n",
       "      <td>12.000000</td>\n",
       "      <td>NaN</td>\n",
       "      <td>NaN</td>\n",
       "      <td>NaN</td>\n",
       "      <td>NaN</td>\n",
       "      <td>0.0</td>\n",
       "      <td>99998.000000</td>\n",
       "      <td>NaN</td>\n",
       "    </tr>\n",
       "  </tbody>\n",
       "</table>\n",
       "</div>"
      ],
      "text/plain": [
       "               date_crawled         name  seller offer_type  price abtest  \\\n",
       "count                 50000        50000   50000      50000  50000  50000   \n",
       "unique                48213        38754       2          2   2357      2   \n",
       "top     2016-03-27 22:55:05  Ford_Fiesta  privat    Angebot     $0   test   \n",
       "freq                      3           78   49999      49999   1421  25756   \n",
       "mean                    NaN          NaN     NaN        NaN    NaN    NaN   \n",
       "std                     NaN          NaN     NaN        NaN    NaN    NaN   \n",
       "min                     NaN          NaN     NaN        NaN    NaN    NaN   \n",
       "25%                     NaN          NaN     NaN        NaN    NaN    NaN   \n",
       "50%                     NaN          NaN     NaN        NaN    NaN    NaN   \n",
       "75%                     NaN          NaN     NaN        NaN    NaN    NaN   \n",
       "max                     NaN          NaN     NaN        NaN    NaN    NaN   \n",
       "\n",
       "       vehicle_type  registration_year  gearbox      power_ps  model  \\\n",
       "count         44905       50000.000000    47320  50000.000000  47242   \n",
       "unique            8                NaN        2           NaN    245   \n",
       "top       limousine                NaN  manuell           NaN   golf   \n",
       "freq          12859                NaN    36993           NaN   4024   \n",
       "mean            NaN        2005.073280      NaN    116.355920    NaN   \n",
       "std             NaN         105.712813      NaN    209.216627    NaN   \n",
       "min             NaN        1000.000000      NaN      0.000000    NaN   \n",
       "25%             NaN        1999.000000      NaN     70.000000    NaN   \n",
       "50%             NaN        2003.000000      NaN    105.000000    NaN   \n",
       "75%             NaN        2008.000000      NaN    150.000000    NaN   \n",
       "max             NaN        9999.000000      NaN  17700.000000    NaN   \n",
       "\n",
       "         odometer  registration_month fuel_type       brand unrepaired_damage  \\\n",
       "count       50000        50000.000000     45518       50000             40171   \n",
       "unique         13                 NaN         7          40                 2   \n",
       "top     150,000km                 NaN    benzin  volkswagen              nein   \n",
       "freq        32424                 NaN     30107       10687             35232   \n",
       "mean          NaN            5.723360       NaN         NaN               NaN   \n",
       "std           NaN            3.711984       NaN         NaN               NaN   \n",
       "min           NaN            0.000000       NaN         NaN               NaN   \n",
       "25%           NaN            3.000000       NaN         NaN               NaN   \n",
       "50%           NaN            6.000000       NaN         NaN               NaN   \n",
       "75%           NaN            9.000000       NaN         NaN               NaN   \n",
       "max           NaN           12.000000       NaN         NaN               NaN   \n",
       "\n",
       "                 ad_created  nr_of_pictures   postal_code            last_seen  \n",
       "count                 50000         50000.0  50000.000000                50000  \n",
       "unique                   76             NaN           NaN                39481  \n",
       "top     2016-04-03 00:00:00             NaN           NaN  2016-04-07 06:17:27  \n",
       "freq                   1946             NaN           NaN                    8  \n",
       "mean                    NaN             0.0  50813.627300                  NaN  \n",
       "std                     NaN             0.0  25779.747957                  NaN  \n",
       "min                     NaN             0.0   1067.000000                  NaN  \n",
       "25%                     NaN             0.0  30451.000000                  NaN  \n",
       "50%                     NaN             0.0  49577.000000                  NaN  \n",
       "75%                     NaN             0.0  71540.000000                  NaN  \n",
       "max                     NaN             0.0  99998.000000                  NaN  "
      ]
     },
     "execution_count": 6,
     "metadata": {},
     "output_type": "execute_result"
    }
   ],
   "source": [
    "autos.describe(include='all')"
   ]
  },
  {
   "cell_type": "markdown",
   "metadata": {},
   "source": [
    "We see that seller, offer_type, abtest, gearbox and unrepaired damage have only 2 values per column. nr_of_pictures shows NaN as the number of uniques, which is odd. We should probably take a closer look to see if the information each of the holds is relevant, and if not - drop it.\n",
    "\n"
   ]
  },
  {
   "cell_type": "code",
   "execution_count": 7,
   "metadata": {},
   "outputs": [
    {
     "data": {
      "text/plain": [
       "privat        49999\n",
       "gewerblich        1\n",
       "Name: seller, dtype: int64"
      ]
     },
     "execution_count": 7,
     "metadata": {},
     "output_type": "execute_result"
    }
   ],
   "source": [
    "autos[\"seller\"].value_counts()"
   ]
  },
  {
   "cell_type": "code",
   "execution_count": 8,
   "metadata": {},
   "outputs": [
    {
     "data": {
      "text/plain": [
       "Angebot    49999\n",
       "Gesuch         1\n",
       "Name: offer_type, dtype: int64"
      ]
     },
     "execution_count": 8,
     "metadata": {},
     "output_type": "execute_result"
    }
   ],
   "source": [
    "autos[\"offer_type\"].value_counts()"
   ]
  },
  {
   "cell_type": "code",
   "execution_count": 9,
   "metadata": {},
   "outputs": [
    {
     "data": {
      "text/plain": [
       "test       25756\n",
       "control    24244\n",
       "Name: abtest, dtype: int64"
      ]
     },
     "execution_count": 9,
     "metadata": {},
     "output_type": "execute_result"
    }
   ],
   "source": [
    "autos[\"abtest\"].value_counts()"
   ]
  },
  {
   "cell_type": "code",
   "execution_count": 10,
   "metadata": {},
   "outputs": [
    {
     "data": {
      "text/plain": [
       "manuell      36993\n",
       "automatik    10327\n",
       "Name: gearbox, dtype: int64"
      ]
     },
     "execution_count": 10,
     "metadata": {},
     "output_type": "execute_result"
    }
   ],
   "source": [
    "autos[\"gearbox\"].value_counts()"
   ]
  },
  {
   "cell_type": "code",
   "execution_count": 11,
   "metadata": {},
   "outputs": [
    {
     "data": {
      "text/plain": [
       "nein    35232\n",
       "ja       4939\n",
       "Name: unrepaired_damage, dtype: int64"
      ]
     },
     "execution_count": 11,
     "metadata": {},
     "output_type": "execute_result"
    }
   ],
   "source": [
    "autos[\"unrepaired_damage\"].value_counts()"
   ]
  },
  {
   "cell_type": "code",
   "execution_count": 12,
   "metadata": {},
   "outputs": [
    {
     "data": {
      "text/plain": [
       "0    50000\n",
       "Name: nr_of_pictures, dtype: int64"
      ]
     },
     "execution_count": 12,
     "metadata": {},
     "output_type": "execute_result"
    }
   ],
   "source": [
    "autos[\"nr_of_pictures\"].value_counts()"
   ]
  },
  {
   "cell_type": "markdown",
   "metadata": {},
   "source": [
    "So, no car listing has pictures attached, and other than one listing, all the vehicles in the dataset are being sold by their owners, and are on offer. So we can safely drop the nr_of_pictures, seller and offer_type columns without losing any relevant data."
   ]
  },
  {
   "cell_type": "code",
   "execution_count": 13,
   "metadata": {},
   "outputs": [],
   "source": [
    "autos = autos.drop(columns=[\"seller\", \"offer_type\", \"nr_of_pictures\"])"
   ]
  },
  {
   "cell_type": "markdown",
   "metadata": {},
   "source": [
    "Next, let's convert price and odometer data to numeric:"
   ]
  },
  {
   "cell_type": "code",
   "execution_count": 14,
   "metadata": {},
   "outputs": [
    {
     "data": {
      "text/plain": [
       "0         5000\n",
       "1         8500\n",
       "2         8990\n",
       "3         4350\n",
       "4         1350\n",
       "         ...  \n",
       "49995    24900\n",
       "49996     1980\n",
       "49997    13200\n",
       "49998    22900\n",
       "49999     1250\n",
       "Name: price, Length: 50000, dtype: int64"
      ]
     },
     "execution_count": 14,
     "metadata": {},
     "output_type": "execute_result"
    }
   ],
   "source": [
    "autos[\"price\"] = autos[\"price\"].str.replace('$','')\n",
    "autos[\"price\"] = autos[\"price\"].str.replace(',','')\n",
    "autos[\"price\"] = autos[\"price\"].astype(int)\n",
    "autos[\"price\"]"
   ]
  },
  {
   "cell_type": "code",
   "execution_count": 15,
   "metadata": {},
   "outputs": [
    {
     "data": {
      "text/plain": [
       "0        150000\n",
       "1        150000\n",
       "2         70000\n",
       "3         70000\n",
       "4        150000\n",
       "          ...  \n",
       "49995    100000\n",
       "49996    150000\n",
       "49997      5000\n",
       "49998     40000\n",
       "49999    150000\n",
       "Name: odometer, Length: 50000, dtype: int64"
      ]
     },
     "execution_count": 15,
     "metadata": {},
     "output_type": "execute_result"
    }
   ],
   "source": [
    "autos[\"odometer\"] = autos[\"odometer\"].str.replace('km','')\n",
    "autos[\"odometer\"] = autos[\"odometer\"].str.replace(',','')\n",
    "autos[\"odometer\"] = autos[\"odometer\"].astype(int)\n",
    "autos[\"odometer\"]"
   ]
  },
  {
   "cell_type": "markdown",
   "metadata": {},
   "source": [
    "Add the units to the odometer column name:"
   ]
  },
  {
   "cell_type": "code",
   "execution_count": 16,
   "metadata": {},
   "outputs": [],
   "source": [
    "autos.rename(columns={'odometer':'odometer_km'}, inplace=True)"
   ]
  },
  {
   "cell_type": "markdown",
   "metadata": {},
   "source": [
    "### Odometer and price"
   ]
  },
  {
   "cell_type": "markdown",
   "metadata": {},
   "source": [
    "Now, let's look for outliers in the odometer and price columns:"
   ]
  },
  {
   "cell_type": "code",
   "execution_count": 17,
   "metadata": {},
   "outputs": [
    {
     "data": {
      "text/plain": [
       "count    5.000000e+04\n",
       "mean     9.840044e+03\n",
       "std      4.811044e+05\n",
       "min      0.000000e+00\n",
       "25%      1.100000e+03\n",
       "50%      2.950000e+03\n",
       "75%      7.200000e+03\n",
       "max      1.000000e+08\n",
       "Name: price, dtype: float64"
      ]
     },
     "execution_count": 17,
     "metadata": {},
     "output_type": "execute_result"
    }
   ],
   "source": [
    "autos[\"price\"].describe()"
   ]
  },
  {
   "cell_type": "markdown",
   "metadata": {},
   "source": [
    "This looks odd. At least one car is being sold for \\\\$0, and at least one is sold for \\\\$100,000,000. The 75th percentile is 5 orders of magnitudes smaller than the max value, so it definitely looks like an outlier.\n",
    "Let's look at the top 20 asking prices in the dataset:"
   ]
  },
  {
   "cell_type": "code",
   "execution_count": 18,
   "metadata": {},
   "outputs": [
    {
     "data": {
      "text/plain": [
       "99999999    1\n",
       "27322222    1\n",
       "12345678    3\n",
       "11111111    2\n",
       "10000000    1\n",
       "3890000     1\n",
       "1300000     1\n",
       "1234566     1\n",
       "999999      2\n",
       "999990      1\n",
       "350000      1\n",
       "345000      1\n",
       "299000      1\n",
       "295000      1\n",
       "265000      1\n",
       "259000      1\n",
       "250000      1\n",
       "220000      1\n",
       "198000      1\n",
       "197000      1\n",
       "Name: price, dtype: int64"
      ]
     },
     "execution_count": 18,
     "metadata": {},
     "output_type": "execute_result"
    }
   ],
   "source": [
    "autos[\"price\"].value_counts().sort_index(ascending=False).head(20)"
   ]
  },
  {
   "cell_type": "markdown",
   "metadata": {},
   "source": [
    "Well, anything from $10,000,000 and above looks like it may not a genuine asking price. Let's take a closer look:"
   ]
  },
  {
   "cell_type": "code",
   "execution_count": 19,
   "metadata": {},
   "outputs": [
    {
     "data": {
      "text/html": [
       "<div>\n",
       "<style scoped>\n",
       "    .dataframe tbody tr th:only-of-type {\n",
       "        vertical-align: middle;\n",
       "    }\n",
       "\n",
       "    .dataframe tbody tr th {\n",
       "        vertical-align: top;\n",
       "    }\n",
       "\n",
       "    .dataframe thead th {\n",
       "        text-align: right;\n",
       "    }\n",
       "</style>\n",
       "<table border=\"1\" class=\"dataframe\">\n",
       "  <thead>\n",
       "    <tr style=\"text-align: right;\">\n",
       "      <th></th>\n",
       "      <th>date_crawled</th>\n",
       "      <th>name</th>\n",
       "      <th>price</th>\n",
       "      <th>abtest</th>\n",
       "      <th>vehicle_type</th>\n",
       "      <th>registration_year</th>\n",
       "      <th>gearbox</th>\n",
       "      <th>power_ps</th>\n",
       "      <th>model</th>\n",
       "      <th>odometer_km</th>\n",
       "      <th>registration_month</th>\n",
       "      <th>fuel_type</th>\n",
       "      <th>brand</th>\n",
       "      <th>unrepaired_damage</th>\n",
       "      <th>ad_created</th>\n",
       "      <th>postal_code</th>\n",
       "      <th>last_seen</th>\n",
       "    </tr>\n",
       "  </thead>\n",
       "  <tbody>\n",
       "    <tr>\n",
       "      <th>2897</th>\n",
       "      <td>2016-03-12 21:50:57</td>\n",
       "      <td>Escort_MK_1_Hundeknochen_zum_umbauen_auf_RS_2000</td>\n",
       "      <td>11111111</td>\n",
       "      <td>test</td>\n",
       "      <td>limousine</td>\n",
       "      <td>1973</td>\n",
       "      <td>manuell</td>\n",
       "      <td>48</td>\n",
       "      <td>escort</td>\n",
       "      <td>50000</td>\n",
       "      <td>3</td>\n",
       "      <td>benzin</td>\n",
       "      <td>ford</td>\n",
       "      <td>nein</td>\n",
       "      <td>2016-03-12 00:00:00</td>\n",
       "      <td>94469</td>\n",
       "      <td>2016-03-12 22:45:27</td>\n",
       "    </tr>\n",
       "    <tr>\n",
       "      <th>11137</th>\n",
       "      <td>2016-03-29 23:52:57</td>\n",
       "      <td>suche_maserati_3200_gt_Zustand_unwichtig_laufe...</td>\n",
       "      <td>10000000</td>\n",
       "      <td>control</td>\n",
       "      <td>coupe</td>\n",
       "      <td>1960</td>\n",
       "      <td>manuell</td>\n",
       "      <td>368</td>\n",
       "      <td>NaN</td>\n",
       "      <td>100000</td>\n",
       "      <td>1</td>\n",
       "      <td>benzin</td>\n",
       "      <td>sonstige_autos</td>\n",
       "      <td>nein</td>\n",
       "      <td>2016-03-29 00:00:00</td>\n",
       "      <td>73033</td>\n",
       "      <td>2016-04-06 21:18:11</td>\n",
       "    </tr>\n",
       "    <tr>\n",
       "      <th>24384</th>\n",
       "      <td>2016-03-21 13:57:51</td>\n",
       "      <td>Schlachte_Golf_3_gt_tdi</td>\n",
       "      <td>11111111</td>\n",
       "      <td>test</td>\n",
       "      <td>NaN</td>\n",
       "      <td>1995</td>\n",
       "      <td>NaN</td>\n",
       "      <td>0</td>\n",
       "      <td>NaN</td>\n",
       "      <td>150000</td>\n",
       "      <td>0</td>\n",
       "      <td>NaN</td>\n",
       "      <td>volkswagen</td>\n",
       "      <td>NaN</td>\n",
       "      <td>2016-03-21 00:00:00</td>\n",
       "      <td>18519</td>\n",
       "      <td>2016-03-21 14:40:18</td>\n",
       "    </tr>\n",
       "    <tr>\n",
       "      <th>27371</th>\n",
       "      <td>2016-03-09 15:45:47</td>\n",
       "      <td>Fiat_Punto</td>\n",
       "      <td>12345678</td>\n",
       "      <td>control</td>\n",
       "      <td>NaN</td>\n",
       "      <td>2017</td>\n",
       "      <td>NaN</td>\n",
       "      <td>95</td>\n",
       "      <td>punto</td>\n",
       "      <td>150000</td>\n",
       "      <td>0</td>\n",
       "      <td>NaN</td>\n",
       "      <td>fiat</td>\n",
       "      <td>NaN</td>\n",
       "      <td>2016-03-09 00:00:00</td>\n",
       "      <td>96110</td>\n",
       "      <td>2016-03-09 15:45:47</td>\n",
       "    </tr>\n",
       "    <tr>\n",
       "      <th>39377</th>\n",
       "      <td>2016-03-08 23:53:51</td>\n",
       "      <td>Tausche_volvo_v40_gegen_van</td>\n",
       "      <td>12345678</td>\n",
       "      <td>control</td>\n",
       "      <td>NaN</td>\n",
       "      <td>2018</td>\n",
       "      <td>manuell</td>\n",
       "      <td>95</td>\n",
       "      <td>v40</td>\n",
       "      <td>150000</td>\n",
       "      <td>6</td>\n",
       "      <td>NaN</td>\n",
       "      <td>volvo</td>\n",
       "      <td>nein</td>\n",
       "      <td>2016-03-08 00:00:00</td>\n",
       "      <td>14542</td>\n",
       "      <td>2016-04-06 23:17:31</td>\n",
       "    </tr>\n",
       "    <tr>\n",
       "      <th>39705</th>\n",
       "      <td>2016-03-22 14:58:27</td>\n",
       "      <td>Tausch_gegen_gleichwertiges</td>\n",
       "      <td>99999999</td>\n",
       "      <td>control</td>\n",
       "      <td>limousine</td>\n",
       "      <td>1999</td>\n",
       "      <td>automatik</td>\n",
       "      <td>224</td>\n",
       "      <td>s_klasse</td>\n",
       "      <td>150000</td>\n",
       "      <td>9</td>\n",
       "      <td>benzin</td>\n",
       "      <td>mercedes_benz</td>\n",
       "      <td>NaN</td>\n",
       "      <td>2016-03-22 00:00:00</td>\n",
       "      <td>73525</td>\n",
       "      <td>2016-04-06 05:15:30</td>\n",
       "    </tr>\n",
       "    <tr>\n",
       "      <th>42221</th>\n",
       "      <td>2016-03-08 20:39:05</td>\n",
       "      <td>Leasinguebernahme</td>\n",
       "      <td>27322222</td>\n",
       "      <td>control</td>\n",
       "      <td>limousine</td>\n",
       "      <td>2014</td>\n",
       "      <td>manuell</td>\n",
       "      <td>163</td>\n",
       "      <td>c4</td>\n",
       "      <td>40000</td>\n",
       "      <td>2</td>\n",
       "      <td>diesel</td>\n",
       "      <td>citroen</td>\n",
       "      <td>NaN</td>\n",
       "      <td>2016-03-08 00:00:00</td>\n",
       "      <td>76532</td>\n",
       "      <td>2016-03-08 20:39:05</td>\n",
       "    </tr>\n",
       "    <tr>\n",
       "      <th>47598</th>\n",
       "      <td>2016-03-31 18:56:54</td>\n",
       "      <td>Opel_Vectra_B_1_6i_16V_Facelift_Tuning_Showcar...</td>\n",
       "      <td>12345678</td>\n",
       "      <td>control</td>\n",
       "      <td>limousine</td>\n",
       "      <td>2001</td>\n",
       "      <td>manuell</td>\n",
       "      <td>101</td>\n",
       "      <td>vectra</td>\n",
       "      <td>150000</td>\n",
       "      <td>3</td>\n",
       "      <td>benzin</td>\n",
       "      <td>opel</td>\n",
       "      <td>nein</td>\n",
       "      <td>2016-03-31 00:00:00</td>\n",
       "      <td>4356</td>\n",
       "      <td>2016-03-31 18:56:54</td>\n",
       "    </tr>\n",
       "  </tbody>\n",
       "</table>\n",
       "</div>"
      ],
      "text/plain": [
       "              date_crawled                                               name  \\\n",
       "2897   2016-03-12 21:50:57   Escort_MK_1_Hundeknochen_zum_umbauen_auf_RS_2000   \n",
       "11137  2016-03-29 23:52:57  suche_maserati_3200_gt_Zustand_unwichtig_laufe...   \n",
       "24384  2016-03-21 13:57:51                            Schlachte_Golf_3_gt_tdi   \n",
       "27371  2016-03-09 15:45:47                                         Fiat_Punto   \n",
       "39377  2016-03-08 23:53:51                        Tausche_volvo_v40_gegen_van   \n",
       "39705  2016-03-22 14:58:27                        Tausch_gegen_gleichwertiges   \n",
       "42221  2016-03-08 20:39:05                                  Leasinguebernahme   \n",
       "47598  2016-03-31 18:56:54  Opel_Vectra_B_1_6i_16V_Facelift_Tuning_Showcar...   \n",
       "\n",
       "          price   abtest vehicle_type  registration_year    gearbox  power_ps  \\\n",
       "2897   11111111     test    limousine               1973    manuell        48   \n",
       "11137  10000000  control        coupe               1960    manuell       368   \n",
       "24384  11111111     test          NaN               1995        NaN         0   \n",
       "27371  12345678  control          NaN               2017        NaN        95   \n",
       "39377  12345678  control          NaN               2018    manuell        95   \n",
       "39705  99999999  control    limousine               1999  automatik       224   \n",
       "42221  27322222  control    limousine               2014    manuell       163   \n",
       "47598  12345678  control    limousine               2001    manuell       101   \n",
       "\n",
       "          model  odometer_km  registration_month fuel_type           brand  \\\n",
       "2897     escort        50000                   3    benzin            ford   \n",
       "11137       NaN       100000                   1    benzin  sonstige_autos   \n",
       "24384       NaN       150000                   0       NaN      volkswagen   \n",
       "27371     punto       150000                   0       NaN            fiat   \n",
       "39377       v40       150000                   6       NaN           volvo   \n",
       "39705  s_klasse       150000                   9    benzin   mercedes_benz   \n",
       "42221        c4        40000                   2    diesel         citroen   \n",
       "47598    vectra       150000                   3    benzin            opel   \n",
       "\n",
       "      unrepaired_damage           ad_created  postal_code            last_seen  \n",
       "2897               nein  2016-03-12 00:00:00        94469  2016-03-12 22:45:27  \n",
       "11137              nein  2016-03-29 00:00:00        73033  2016-04-06 21:18:11  \n",
       "24384               NaN  2016-03-21 00:00:00        18519  2016-03-21 14:40:18  \n",
       "27371               NaN  2016-03-09 00:00:00        96110  2016-03-09 15:45:47  \n",
       "39377              nein  2016-03-08 00:00:00        14542  2016-04-06 23:17:31  \n",
       "39705               NaN  2016-03-22 00:00:00        73525  2016-04-06 05:15:30  \n",
       "42221               NaN  2016-03-08 00:00:00        76532  2016-03-08 20:39:05  \n",
       "47598              nein  2016-03-31 00:00:00         4356  2016-03-31 18:56:54  "
      ]
     },
     "execution_count": 19,
     "metadata": {},
     "output_type": "execute_result"
    }
   ],
   "source": [
    "autos[autos[\"price\"] >= 10000000]"
   ]
  },
  {
   "cell_type": "markdown",
   "metadata": {},
   "source": [
    "Alright, it's safe to drop all of these listings. We can carry on looking at listings with lower asking price, and we may find ones that don't make much sense price-wise, but they won't be as clear-cut as these ones, and dropping them won't add much to our analysis.\n",
    "\n",
    "Let's look at the other end of the asking price scale:"
   ]
  },
  {
   "cell_type": "code",
   "execution_count": 20,
   "metadata": {
    "scrolled": false
   },
   "outputs": [
    {
     "data": {
      "text/plain": [
       "0      1421\n",
       "1       156\n",
       "2         3\n",
       "3         1\n",
       "5         2\n",
       "8         1\n",
       "9         1\n",
       "10        7\n",
       "11        2\n",
       "12        3\n",
       "13        2\n",
       "14        1\n",
       "15        2\n",
       "17        3\n",
       "18        1\n",
       "20        4\n",
       "25        5\n",
       "29        1\n",
       "30        7\n",
       "35        1\n",
       "40        6\n",
       "45        4\n",
       "47        1\n",
       "49        4\n",
       "50       49\n",
       "55        2\n",
       "59        1\n",
       "60        9\n",
       "65        5\n",
       "66        1\n",
       "70       10\n",
       "75        5\n",
       "79        1\n",
       "80       15\n",
       "89        1\n",
       "90        5\n",
       "99       19\n",
       "100     134\n",
       "110       3\n",
       "111       2\n",
       "Name: price, dtype: int64"
      ]
     },
     "execution_count": 20,
     "metadata": {},
     "output_type": "execute_result"
    }
   ],
   "source": [
    "# First 40 unique asking prices, ascending\n",
    "autos[\"price\"].value_counts().sort_index(ascending=True).head(40)"
   ]
  },
  {
   "cell_type": "markdown",
   "metadata": {},
   "source": [
    "So obviously the listings with asking price of \\\\$0 make no sense. But let's look at some random listings to understand if these prices make sense:"
   ]
  },
  {
   "cell_type": "code",
   "execution_count": 21,
   "metadata": {},
   "outputs": [
    {
     "data": {
      "text/html": [
       "<div>\n",
       "<style scoped>\n",
       "    .dataframe tbody tr th:only-of-type {\n",
       "        vertical-align: middle;\n",
       "    }\n",
       "\n",
       "    .dataframe tbody tr th {\n",
       "        vertical-align: top;\n",
       "    }\n",
       "\n",
       "    .dataframe thead th {\n",
       "        text-align: right;\n",
       "    }\n",
       "</style>\n",
       "<table border=\"1\" class=\"dataframe\">\n",
       "  <thead>\n",
       "    <tr style=\"text-align: right;\">\n",
       "      <th></th>\n",
       "      <th>date_crawled</th>\n",
       "      <th>name</th>\n",
       "      <th>price</th>\n",
       "      <th>abtest</th>\n",
       "      <th>vehicle_type</th>\n",
       "      <th>registration_year</th>\n",
       "      <th>gearbox</th>\n",
       "      <th>power_ps</th>\n",
       "      <th>model</th>\n",
       "      <th>odometer_km</th>\n",
       "      <th>registration_month</th>\n",
       "      <th>fuel_type</th>\n",
       "      <th>brand</th>\n",
       "      <th>unrepaired_damage</th>\n",
       "      <th>ad_created</th>\n",
       "      <th>postal_code</th>\n",
       "      <th>last_seen</th>\n",
       "    </tr>\n",
       "  </thead>\n",
       "  <tbody>\n",
       "    <tr>\n",
       "      <th>3416</th>\n",
       "      <td>2016-03-11 16:56:54</td>\n",
       "      <td>BMW_E61_Originale_Kofferraumwanne</td>\n",
       "      <td>12</td>\n",
       "      <td>test</td>\n",
       "      <td>NaN</td>\n",
       "      <td>2015</td>\n",
       "      <td>NaN</td>\n",
       "      <td>0</td>\n",
       "      <td>5er</td>\n",
       "      <td>5000</td>\n",
       "      <td>0</td>\n",
       "      <td>NaN</td>\n",
       "      <td>bmw</td>\n",
       "      <td>NaN</td>\n",
       "      <td>2016-03-11 00:00:00</td>\n",
       "      <td>28237</td>\n",
       "      <td>2016-03-12 21:20:12</td>\n",
       "    </tr>\n",
       "    <tr>\n",
       "      <th>15747</th>\n",
       "      <td>2016-03-20 19:45:43</td>\n",
       "      <td>Reparatur_Handbuch</td>\n",
       "      <td>12</td>\n",
       "      <td>test</td>\n",
       "      <td>NaN</td>\n",
       "      <td>2000</td>\n",
       "      <td>NaN</td>\n",
       "      <td>0</td>\n",
       "      <td>NaN</td>\n",
       "      <td>5000</td>\n",
       "      <td>0</td>\n",
       "      <td>NaN</td>\n",
       "      <td>audi</td>\n",
       "      <td>NaN</td>\n",
       "      <td>2016-03-20 00:00:00</td>\n",
       "      <td>88046</td>\n",
       "      <td>2016-04-07 03:45:48</td>\n",
       "    </tr>\n",
       "    <tr>\n",
       "      <th>18443</th>\n",
       "      <td>2016-03-15 19:45:52</td>\n",
       "      <td>Lancia____Schluesselanhaenger</td>\n",
       "      <td>12</td>\n",
       "      <td>control</td>\n",
       "      <td>NaN</td>\n",
       "      <td>1990</td>\n",
       "      <td>NaN</td>\n",
       "      <td>0</td>\n",
       "      <td>andere</td>\n",
       "      <td>100000</td>\n",
       "      <td>0</td>\n",
       "      <td>NaN</td>\n",
       "      <td>lancia</td>\n",
       "      <td>NaN</td>\n",
       "      <td>2016-03-15 00:00:00</td>\n",
       "      <td>12353</td>\n",
       "      <td>2016-03-21 20:19:21</td>\n",
       "    </tr>\n",
       "  </tbody>\n",
       "</table>\n",
       "</div>"
      ],
      "text/plain": [
       "              date_crawled                               name  price   abtest  \\\n",
       "3416   2016-03-11 16:56:54  BMW_E61_Originale_Kofferraumwanne     12     test   \n",
       "15747  2016-03-20 19:45:43                 Reparatur_Handbuch     12     test   \n",
       "18443  2016-03-15 19:45:52      Lancia____Schluesselanhaenger     12  control   \n",
       "\n",
       "      vehicle_type  registration_year gearbox  power_ps   model  odometer_km  \\\n",
       "3416           NaN               2015     NaN         0     5er         5000   \n",
       "15747          NaN               2000     NaN         0     NaN         5000   \n",
       "18443          NaN               1990     NaN         0  andere       100000   \n",
       "\n",
       "       registration_month fuel_type   brand unrepaired_damage  \\\n",
       "3416                    0       NaN     bmw               NaN   \n",
       "15747                   0       NaN    audi               NaN   \n",
       "18443                   0       NaN  lancia               NaN   \n",
       "\n",
       "                ad_created  postal_code            last_seen  \n",
       "3416   2016-03-11 00:00:00        28237  2016-03-12 21:20:12  \n",
       "15747  2016-03-20 00:00:00        88046  2016-04-07 03:45:48  \n",
       "18443  2016-03-15 00:00:00        12353  2016-03-21 20:19:21  "
      ]
     },
     "execution_count": 21,
     "metadata": {},
     "output_type": "execute_result"
    }
   ],
   "source": [
    "autos[autos[\"price\"]==12]"
   ]
  },
  {
   "cell_type": "code",
   "execution_count": 22,
   "metadata": {},
   "outputs": [
    {
     "data": {
      "text/html": [
       "<div>\n",
       "<style scoped>\n",
       "    .dataframe tbody tr th:only-of-type {\n",
       "        vertical-align: middle;\n",
       "    }\n",
       "\n",
       "    .dataframe tbody tr th {\n",
       "        vertical-align: top;\n",
       "    }\n",
       "\n",
       "    .dataframe thead th {\n",
       "        text-align: right;\n",
       "    }\n",
       "</style>\n",
       "<table border=\"1\" class=\"dataframe\">\n",
       "  <thead>\n",
       "    <tr style=\"text-align: right;\">\n",
       "      <th></th>\n",
       "      <th>date_crawled</th>\n",
       "      <th>name</th>\n",
       "      <th>price</th>\n",
       "      <th>abtest</th>\n",
       "      <th>vehicle_type</th>\n",
       "      <th>registration_year</th>\n",
       "      <th>gearbox</th>\n",
       "      <th>power_ps</th>\n",
       "      <th>model</th>\n",
       "      <th>odometer_km</th>\n",
       "      <th>registration_month</th>\n",
       "      <th>fuel_type</th>\n",
       "      <th>brand</th>\n",
       "      <th>unrepaired_damage</th>\n",
       "      <th>ad_created</th>\n",
       "      <th>postal_code</th>\n",
       "      <th>last_seen</th>\n",
       "    </tr>\n",
       "  </thead>\n",
       "  <tbody>\n",
       "    <tr>\n",
       "      <th>26772</th>\n",
       "      <td>2016-03-22 10:51:48</td>\n",
       "      <td>Subaru_Justy_1000_4WD_Allrad_Teiletraeger</td>\n",
       "      <td>20</td>\n",
       "      <td>control</td>\n",
       "      <td>kleinwagen</td>\n",
       "      <td>1990</td>\n",
       "      <td>manuell</td>\n",
       "      <td>50</td>\n",
       "      <td>justy</td>\n",
       "      <td>150000</td>\n",
       "      <td>11</td>\n",
       "      <td>benzin</td>\n",
       "      <td>subaru</td>\n",
       "      <td>NaN</td>\n",
       "      <td>2016-03-22 00:00:00</td>\n",
       "      <td>82387</td>\n",
       "      <td>2016-03-27 23:17:01</td>\n",
       "    </tr>\n",
       "    <tr>\n",
       "      <th>33200</th>\n",
       "      <td>2016-04-05 18:36:24</td>\n",
       "      <td>Smart_fortwo_Cd_halter</td>\n",
       "      <td>20</td>\n",
       "      <td>test</td>\n",
       "      <td>NaN</td>\n",
       "      <td>2008</td>\n",
       "      <td>NaN</td>\n",
       "      <td>0</td>\n",
       "      <td>fortwo</td>\n",
       "      <td>5000</td>\n",
       "      <td>0</td>\n",
       "      <td>NaN</td>\n",
       "      <td>smart</td>\n",
       "      <td>NaN</td>\n",
       "      <td>2016-04-05 00:00:00</td>\n",
       "      <td>71634</td>\n",
       "      <td>2016-04-05 18:36:24</td>\n",
       "    </tr>\n",
       "    <tr>\n",
       "      <th>37141</th>\n",
       "      <td>2016-03-25 18:36:45</td>\n",
       "      <td>Auto_schrott</td>\n",
       "      <td>20</td>\n",
       "      <td>test</td>\n",
       "      <td>NaN</td>\n",
       "      <td>2000</td>\n",
       "      <td>NaN</td>\n",
       "      <td>0</td>\n",
       "      <td>NaN</td>\n",
       "      <td>30000</td>\n",
       "      <td>0</td>\n",
       "      <td>NaN</td>\n",
       "      <td>volkswagen</td>\n",
       "      <td>NaN</td>\n",
       "      <td>2016-03-25 00:00:00</td>\n",
       "      <td>44866</td>\n",
       "      <td>2016-03-25 18:36:45</td>\n",
       "    </tr>\n",
       "    <tr>\n",
       "      <th>46835</th>\n",
       "      <td>2016-03-08 15:38:37</td>\n",
       "      <td>Blinker_Rechts_links</td>\n",
       "      <td>20</td>\n",
       "      <td>test</td>\n",
       "      <td>NaN</td>\n",
       "      <td>2005</td>\n",
       "      <td>NaN</td>\n",
       "      <td>0</td>\n",
       "      <td>NaN</td>\n",
       "      <td>5000</td>\n",
       "      <td>0</td>\n",
       "      <td>NaN</td>\n",
       "      <td>bmw</td>\n",
       "      <td>NaN</td>\n",
       "      <td>2016-03-08 00:00:00</td>\n",
       "      <td>61203</td>\n",
       "      <td>2016-04-06 06:46:35</td>\n",
       "    </tr>\n",
       "  </tbody>\n",
       "</table>\n",
       "</div>"
      ],
      "text/plain": [
       "              date_crawled                                       name  price  \\\n",
       "26772  2016-03-22 10:51:48  Subaru_Justy_1000_4WD_Allrad_Teiletraeger     20   \n",
       "33200  2016-04-05 18:36:24                     Smart_fortwo_Cd_halter     20   \n",
       "37141  2016-03-25 18:36:45                               Auto_schrott     20   \n",
       "46835  2016-03-08 15:38:37                       Blinker_Rechts_links     20   \n",
       "\n",
       "        abtest vehicle_type  registration_year  gearbox  power_ps   model  \\\n",
       "26772  control   kleinwagen               1990  manuell        50   justy   \n",
       "33200     test          NaN               2008      NaN         0  fortwo   \n",
       "37141     test          NaN               2000      NaN         0     NaN   \n",
       "46835     test          NaN               2005      NaN         0     NaN   \n",
       "\n",
       "       odometer_km  registration_month fuel_type       brand  \\\n",
       "26772       150000                  11    benzin      subaru   \n",
       "33200         5000                   0       NaN       smart   \n",
       "37141        30000                   0       NaN  volkswagen   \n",
       "46835         5000                   0       NaN         bmw   \n",
       "\n",
       "      unrepaired_damage           ad_created  postal_code            last_seen  \n",
       "26772               NaN  2016-03-22 00:00:00        82387  2016-03-27 23:17:01  \n",
       "33200               NaN  2016-04-05 00:00:00        71634  2016-04-05 18:36:24  \n",
       "37141               NaN  2016-03-25 00:00:00        44866  2016-03-25 18:36:45  \n",
       "46835               NaN  2016-03-08 00:00:00        61203  2016-04-06 06:46:35  "
      ]
     },
     "execution_count": 22,
     "metadata": {},
     "output_type": "execute_result"
    }
   ],
   "source": [
    "autos[autos[\"price\"]==20]"
   ]
  },
  {
   "cell_type": "code",
   "execution_count": 23,
   "metadata": {},
   "outputs": [
    {
     "data": {
      "text/html": [
       "<div>\n",
       "<style scoped>\n",
       "    .dataframe tbody tr th:only-of-type {\n",
       "        vertical-align: middle;\n",
       "    }\n",
       "\n",
       "    .dataframe tbody tr th {\n",
       "        vertical-align: top;\n",
       "    }\n",
       "\n",
       "    .dataframe thead th {\n",
       "        text-align: right;\n",
       "    }\n",
       "</style>\n",
       "<table border=\"1\" class=\"dataframe\">\n",
       "  <thead>\n",
       "    <tr style=\"text-align: right;\">\n",
       "      <th></th>\n",
       "      <th>date_crawled</th>\n",
       "      <th>name</th>\n",
       "      <th>price</th>\n",
       "      <th>abtest</th>\n",
       "      <th>vehicle_type</th>\n",
       "      <th>registration_year</th>\n",
       "      <th>gearbox</th>\n",
       "      <th>power_ps</th>\n",
       "      <th>model</th>\n",
       "      <th>odometer_km</th>\n",
       "      <th>registration_month</th>\n",
       "      <th>fuel_type</th>\n",
       "      <th>brand</th>\n",
       "      <th>unrepaired_damage</th>\n",
       "      <th>ad_created</th>\n",
       "      <th>postal_code</th>\n",
       "      <th>last_seen</th>\n",
       "    </tr>\n",
       "  </thead>\n",
       "  <tbody>\n",
       "    <tr>\n",
       "      <th>8214</th>\n",
       "      <td>2016-03-12 20:46:57</td>\n",
       "      <td>Verkaufe_meinen_Opel_Corsa.</td>\n",
       "      <td>75</td>\n",
       "      <td>test</td>\n",
       "      <td>NaN</td>\n",
       "      <td>2016</td>\n",
       "      <td>manuell</td>\n",
       "      <td>60</td>\n",
       "      <td>corsa</td>\n",
       "      <td>150000</td>\n",
       "      <td>0</td>\n",
       "      <td>NaN</td>\n",
       "      <td>opel</td>\n",
       "      <td>NaN</td>\n",
       "      <td>2016-03-12 00:00:00</td>\n",
       "      <td>26160</td>\n",
       "      <td>2016-03-21 03:16:37</td>\n",
       "    </tr>\n",
       "    <tr>\n",
       "      <th>9000</th>\n",
       "      <td>2016-03-12 14:53:57</td>\n",
       "      <td>Katalizator_E.3</td>\n",
       "      <td>75</td>\n",
       "      <td>test</td>\n",
       "      <td>NaN</td>\n",
       "      <td>2005</td>\n",
       "      <td>manuell</td>\n",
       "      <td>170</td>\n",
       "      <td>c_klasse</td>\n",
       "      <td>125000</td>\n",
       "      <td>6</td>\n",
       "      <td>NaN</td>\n",
       "      <td>mercedes_benz</td>\n",
       "      <td>nein</td>\n",
       "      <td>2016-03-12 00:00:00</td>\n",
       "      <td>81475</td>\n",
       "      <td>2016-03-25 19:17:53</td>\n",
       "    </tr>\n",
       "    <tr>\n",
       "      <th>13107</th>\n",
       "      <td>2016-03-21 13:37:18</td>\n",
       "      <td>Renault_Twingo_mit_Faltdach_zum_Ausschlachten!</td>\n",
       "      <td>75</td>\n",
       "      <td>test</td>\n",
       "      <td>kleinwagen</td>\n",
       "      <td>1997</td>\n",
       "      <td>manuell</td>\n",
       "      <td>55</td>\n",
       "      <td>twingo</td>\n",
       "      <td>150000</td>\n",
       "      <td>7</td>\n",
       "      <td>benzin</td>\n",
       "      <td>renault</td>\n",
       "      <td>nein</td>\n",
       "      <td>2016-03-21 00:00:00</td>\n",
       "      <td>63667</td>\n",
       "      <td>2016-03-22 17:45:38</td>\n",
       "    </tr>\n",
       "    <tr>\n",
       "      <th>24668</th>\n",
       "      <td>2016-03-29 15:44:39</td>\n",
       "      <td>Zahnriemen_gerissen_nicht_fahrbereit_Daihatsu_...</td>\n",
       "      <td>75</td>\n",
       "      <td>control</td>\n",
       "      <td>kleinwagen</td>\n",
       "      <td>1997</td>\n",
       "      <td>manuell</td>\n",
       "      <td>0</td>\n",
       "      <td>cuore</td>\n",
       "      <td>150000</td>\n",
       "      <td>0</td>\n",
       "      <td>benzin</td>\n",
       "      <td>daihatsu</td>\n",
       "      <td>NaN</td>\n",
       "      <td>2016-03-29 00:00:00</td>\n",
       "      <td>28217</td>\n",
       "      <td>2016-03-29 15:44:39</td>\n",
       "    </tr>\n",
       "    <tr>\n",
       "      <th>44332</th>\n",
       "      <td>2016-03-12 00:59:54</td>\n",
       "      <td>Mitsubishi_Lancer</td>\n",
       "      <td>75</td>\n",
       "      <td>test</td>\n",
       "      <td>NaN</td>\n",
       "      <td>2016</td>\n",
       "      <td>manuell</td>\n",
       "      <td>75</td>\n",
       "      <td>lancer</td>\n",
       "      <td>150000</td>\n",
       "      <td>0</td>\n",
       "      <td>benzin</td>\n",
       "      <td>mitsubishi</td>\n",
       "      <td>ja</td>\n",
       "      <td>2016-03-11 00:00:00</td>\n",
       "      <td>23552</td>\n",
       "      <td>2016-03-18 03:16:04</td>\n",
       "    </tr>\n",
       "  </tbody>\n",
       "</table>\n",
       "</div>"
      ],
      "text/plain": [
       "              date_crawled                                               name  \\\n",
       "8214   2016-03-12 20:46:57                        Verkaufe_meinen_Opel_Corsa.   \n",
       "9000   2016-03-12 14:53:57                                    Katalizator_E.3   \n",
       "13107  2016-03-21 13:37:18     Renault_Twingo_mit_Faltdach_zum_Ausschlachten!   \n",
       "24668  2016-03-29 15:44:39  Zahnriemen_gerissen_nicht_fahrbereit_Daihatsu_...   \n",
       "44332  2016-03-12 00:59:54                                  Mitsubishi_Lancer   \n",
       "\n",
       "       price   abtest vehicle_type  registration_year  gearbox  power_ps  \\\n",
       "8214      75     test          NaN               2016  manuell        60   \n",
       "9000      75     test          NaN               2005  manuell       170   \n",
       "13107     75     test   kleinwagen               1997  manuell        55   \n",
       "24668     75  control   kleinwagen               1997  manuell         0   \n",
       "44332     75     test          NaN               2016  manuell        75   \n",
       "\n",
       "          model  odometer_km  registration_month fuel_type          brand  \\\n",
       "8214      corsa       150000                   0       NaN           opel   \n",
       "9000   c_klasse       125000                   6       NaN  mercedes_benz   \n",
       "13107    twingo       150000                   7    benzin        renault   \n",
       "24668     cuore       150000                   0    benzin       daihatsu   \n",
       "44332    lancer       150000                   0    benzin     mitsubishi   \n",
       "\n",
       "      unrepaired_damage           ad_created  postal_code            last_seen  \n",
       "8214                NaN  2016-03-12 00:00:00        26160  2016-03-21 03:16:37  \n",
       "9000               nein  2016-03-12 00:00:00        81475  2016-03-25 19:17:53  \n",
       "13107              nein  2016-03-21 00:00:00        63667  2016-03-22 17:45:38  \n",
       "24668               NaN  2016-03-29 00:00:00        28217  2016-03-29 15:44:39  \n",
       "44332                ja  2016-03-11 00:00:00        23552  2016-03-18 03:16:04  "
      ]
     },
     "execution_count": 23,
     "metadata": {},
     "output_type": "execute_result"
    }
   ],
   "source": [
    "autos[autos[\"price\"]==75]"
   ]
  },
  {
   "cell_type": "markdown",
   "metadata": {},
   "source": [
    "Many of the cars listed above don't seem to have a reason to be sold for such a low price. they're relatively new, don't have a too high kilometrage (odometer's value) and don't have unrepaired damage. So I'm going to make a broad assumption that any listing under \\\\$100 is an outlier, and should be dropped from the dataset."
   ]
  },
  {
   "cell_type": "code",
   "execution_count": 24,
   "metadata": {},
   "outputs": [],
   "source": [
    "# Drop all the listings from the dataset that are below $100 or 10,000,000 and above\n",
    "autos = autos[autos[\"price\"].between(100,9999999)].copy()"
   ]
  },
  {
   "cell_type": "markdown",
   "metadata": {},
   "source": [
    "Let's look at the odometer data:"
   ]
  },
  {
   "cell_type": "code",
   "execution_count": 25,
   "metadata": {},
   "outputs": [
    {
     "data": {
      "text/plain": [
       "150000    31215\n",
       "125000     5038\n",
       "100000     2101\n",
       "90000      1733\n",
       "80000      1412\n",
       "70000      1214\n",
       "60000      1153\n",
       "50000      1010\n",
       "40000       814\n",
       "30000       777\n",
       "5000        761\n",
       "20000       757\n",
       "10000       245\n",
       "Name: odometer_km, dtype: int64"
      ]
     },
     "execution_count": 25,
     "metadata": {},
     "output_type": "execute_result"
    }
   ],
   "source": [
    "autos[\"odometer_km\"].value_counts()"
   ]
  },
  {
   "cell_type": "markdown",
   "metadata": {},
   "source": [
    "I can't find any outliers in the series. The vast majority of cars listed have 150,000 km, so I assume this is the largest value available on the site."
   ]
  },
  {
   "cell_type": "code",
   "execution_count": 26,
   "metadata": {},
   "outputs": [
    {
     "data": {
      "text/html": [
       "<div>\n",
       "<style scoped>\n",
       "    .dataframe tbody tr th:only-of-type {\n",
       "        vertical-align: middle;\n",
       "    }\n",
       "\n",
       "    .dataframe tbody tr th {\n",
       "        vertical-align: top;\n",
       "    }\n",
       "\n",
       "    .dataframe thead th {\n",
       "        text-align: right;\n",
       "    }\n",
       "</style>\n",
       "<table border=\"1\" class=\"dataframe\">\n",
       "  <thead>\n",
       "    <tr style=\"text-align: right;\">\n",
       "      <th></th>\n",
       "      <th>price</th>\n",
       "      <th>registration_year</th>\n",
       "      <th>power_ps</th>\n",
       "      <th>odometer_km</th>\n",
       "      <th>registration_month</th>\n",
       "      <th>postal_code</th>\n",
       "    </tr>\n",
       "  </thead>\n",
       "  <tbody>\n",
       "    <tr>\n",
       "      <th>count</th>\n",
       "      <td>4.823000e+04</td>\n",
       "      <td>48230.000000</td>\n",
       "      <td>48230.000000</td>\n",
       "      <td>48230.000000</td>\n",
       "      <td>48230.000000</td>\n",
       "      <td>48230.000000</td>\n",
       "    </tr>\n",
       "    <tr>\n",
       "      <th>mean</th>\n",
       "      <td>6.125042e+03</td>\n",
       "      <td>2004.729795</td>\n",
       "      <td>117.689322</td>\n",
       "      <td>125916.545718</td>\n",
       "      <td>5.801700</td>\n",
       "      <td>50987.826830</td>\n",
       "    </tr>\n",
       "    <tr>\n",
       "      <th>std</th>\n",
       "      <td>2.286169e+04</td>\n",
       "      <td>87.892058</td>\n",
       "      <td>201.218822</td>\n",
       "      <td>39546.680447</td>\n",
       "      <td>3.677083</td>\n",
       "      <td>25737.613018</td>\n",
       "    </tr>\n",
       "    <tr>\n",
       "      <th>min</th>\n",
       "      <td>1.000000e+02</td>\n",
       "      <td>1000.000000</td>\n",
       "      <td>0.000000</td>\n",
       "      <td>5000.000000</td>\n",
       "      <td>0.000000</td>\n",
       "      <td>1067.000000</td>\n",
       "    </tr>\n",
       "    <tr>\n",
       "      <th>25%</th>\n",
       "      <td>1.250000e+03</td>\n",
       "      <td>1999.000000</td>\n",
       "      <td>73.000000</td>\n",
       "      <td>125000.000000</td>\n",
       "      <td>3.000000</td>\n",
       "      <td>30823.000000</td>\n",
       "    </tr>\n",
       "    <tr>\n",
       "      <th>50%</th>\n",
       "      <td>3.000000e+03</td>\n",
       "      <td>2004.000000</td>\n",
       "      <td>107.000000</td>\n",
       "      <td>150000.000000</td>\n",
       "      <td>6.000000</td>\n",
       "      <td>49716.000000</td>\n",
       "    </tr>\n",
       "    <tr>\n",
       "      <th>75%</th>\n",
       "      <td>7.499000e+03</td>\n",
       "      <td>2008.000000</td>\n",
       "      <td>150.000000</td>\n",
       "      <td>150000.000000</td>\n",
       "      <td>9.000000</td>\n",
       "      <td>71665.000000</td>\n",
       "    </tr>\n",
       "    <tr>\n",
       "      <th>max</th>\n",
       "      <td>3.890000e+06</td>\n",
       "      <td>9999.000000</td>\n",
       "      <td>17700.000000</td>\n",
       "      <td>150000.000000</td>\n",
       "      <td>12.000000</td>\n",
       "      <td>99998.000000</td>\n",
       "    </tr>\n",
       "  </tbody>\n",
       "</table>\n",
       "</div>"
      ],
      "text/plain": [
       "              price  registration_year      power_ps    odometer_km  \\\n",
       "count  4.823000e+04       48230.000000  48230.000000   48230.000000   \n",
       "mean   6.125042e+03        2004.729795    117.689322  125916.545718   \n",
       "std    2.286169e+04          87.892058    201.218822   39546.680447   \n",
       "min    1.000000e+02        1000.000000      0.000000    5000.000000   \n",
       "25%    1.250000e+03        1999.000000     73.000000  125000.000000   \n",
       "50%    3.000000e+03        2004.000000    107.000000  150000.000000   \n",
       "75%    7.499000e+03        2008.000000    150.000000  150000.000000   \n",
       "max    3.890000e+06        9999.000000  17700.000000  150000.000000   \n",
       "\n",
       "       registration_month   postal_code  \n",
       "count        48230.000000  48230.000000  \n",
       "mean             5.801700  50987.826830  \n",
       "std              3.677083  25737.613018  \n",
       "min              0.000000   1067.000000  \n",
       "25%              3.000000  30823.000000  \n",
       "50%              6.000000  49716.000000  \n",
       "75%              9.000000  71665.000000  \n",
       "max             12.000000  99998.000000  "
      ]
     },
     "execution_count": 26,
     "metadata": {},
     "output_type": "execute_result"
    }
   ],
   "source": [
    "autos.describe()"
   ]
  },
  {
   "cell_type": "markdown",
   "metadata": {},
   "source": [
    "After removing the price outliers we're left with 48,230 data points. To carry on with data cleaning, let's look at the date columns."
   ]
  },
  {
   "cell_type": "markdown",
   "metadata": {},
   "source": [
    "### Date columns"
   ]
  },
  {
   "cell_type": "code",
   "execution_count": 27,
   "metadata": {},
   "outputs": [
    {
     "data": {
      "text/html": [
       "<div>\n",
       "<style scoped>\n",
       "    .dataframe tbody tr th:only-of-type {\n",
       "        vertical-align: middle;\n",
       "    }\n",
       "\n",
       "    .dataframe tbody tr th {\n",
       "        vertical-align: top;\n",
       "    }\n",
       "\n",
       "    .dataframe thead th {\n",
       "        text-align: right;\n",
       "    }\n",
       "</style>\n",
       "<table border=\"1\" class=\"dataframe\">\n",
       "  <thead>\n",
       "    <tr style=\"text-align: right;\">\n",
       "      <th></th>\n",
       "      <th>date_crawled</th>\n",
       "      <th>ad_created</th>\n",
       "      <th>last_seen</th>\n",
       "    </tr>\n",
       "  </thead>\n",
       "  <tbody>\n",
       "    <tr>\n",
       "      <th>0</th>\n",
       "      <td>2016-03-26 17:47:46</td>\n",
       "      <td>2016-03-26 00:00:00</td>\n",
       "      <td>2016-04-06 06:45:54</td>\n",
       "    </tr>\n",
       "    <tr>\n",
       "      <th>1</th>\n",
       "      <td>2016-04-04 13:38:56</td>\n",
       "      <td>2016-04-04 00:00:00</td>\n",
       "      <td>2016-04-06 14:45:08</td>\n",
       "    </tr>\n",
       "    <tr>\n",
       "      <th>2</th>\n",
       "      <td>2016-03-26 18:57:24</td>\n",
       "      <td>2016-03-26 00:00:00</td>\n",
       "      <td>2016-04-06 20:15:37</td>\n",
       "    </tr>\n",
       "    <tr>\n",
       "      <th>3</th>\n",
       "      <td>2016-03-12 16:58:10</td>\n",
       "      <td>2016-03-12 00:00:00</td>\n",
       "      <td>2016-03-15 03:16:28</td>\n",
       "    </tr>\n",
       "    <tr>\n",
       "      <th>4</th>\n",
       "      <td>2016-04-01 14:38:50</td>\n",
       "      <td>2016-04-01 00:00:00</td>\n",
       "      <td>2016-04-01 14:38:50</td>\n",
       "    </tr>\n",
       "  </tbody>\n",
       "</table>\n",
       "</div>"
      ],
      "text/plain": [
       "          date_crawled           ad_created            last_seen\n",
       "0  2016-03-26 17:47:46  2016-03-26 00:00:00  2016-04-06 06:45:54\n",
       "1  2016-04-04 13:38:56  2016-04-04 00:00:00  2016-04-06 14:45:08\n",
       "2  2016-03-26 18:57:24  2016-03-26 00:00:00  2016-04-06 20:15:37\n",
       "3  2016-03-12 16:58:10  2016-03-12 00:00:00  2016-03-15 03:16:28\n",
       "4  2016-04-01 14:38:50  2016-04-01 00:00:00  2016-04-01 14:38:50"
      ]
     },
     "execution_count": 27,
     "metadata": {},
     "output_type": "execute_result"
    }
   ],
   "source": [
    "# Print the first five values in each date column created by the crawler\n",
    "autos[['date_crawled','ad_created','last_seen']].head()"
   ]
  },
  {
   "cell_type": "markdown",
   "metadata": {},
   "source": [
    "To extract the date, we can take the first 10 characters from each string. Then we convert the value to uniform numeric data."
   ]
  },
  {
   "cell_type": "code",
   "execution_count": 28,
   "metadata": {
    "scrolled": false
   },
   "outputs": [],
   "source": [
    "for col in ['date_crawled', 'ad_created', 'last_seen']:\n",
    "    autos.loc[:, col] = autos.loc[:, col].str[:10].str.replace('-','').astype(int)"
   ]
  },
  {
   "cell_type": "code",
   "execution_count": 29,
   "metadata": {},
   "outputs": [
    {
     "data": {
      "text/plain": [
       "20160305    0.025358\n",
       "20160306    0.014037\n",
       "20160307    0.036056\n",
       "20160308    0.033174\n",
       "20160309    0.033009\n",
       "20160310    0.032283\n",
       "20160311    0.032594\n",
       "20160312    0.036906\n",
       "20160313    0.015675\n",
       "20160314    0.036658\n",
       "20160315    0.034315\n",
       "20160316    0.029463\n",
       "20160317    0.031516\n",
       "20160318    0.012897\n",
       "20160319    0.034729\n",
       "20160320    0.037798\n",
       "20160321    0.037217\n",
       "20160322    0.032905\n",
       "20160323    0.032283\n",
       "20160324    0.029442\n",
       "20160325    0.031495\n",
       "20160326    0.032304\n",
       "20160327    0.031122\n",
       "20160328    0.034957\n",
       "20160329    0.034128\n",
       "20160330    0.033734\n",
       "20160331    0.031847\n",
       "20160401    0.033693\n",
       "20160402    0.035600\n",
       "20160403    0.038607\n",
       "20160404    0.036575\n",
       "20160405    0.013062\n",
       "20160406    0.003172\n",
       "20160407    0.001389\n",
       "Name: date_crawled, dtype: float64"
      ]
     },
     "execution_count": 29,
     "metadata": {},
     "output_type": "execute_result"
    }
   ],
   "source": [
    "autos['date_crawled'].value_counts(normalize=True, dropna=False).sort_index()"
   ]
  },
  {
   "cell_type": "markdown",
   "metadata": {},
   "source": [
    "Looks like the crawling was performed over a period of just over a month. The distribution is more or less uniform, with the last two days having significantly fewer ads added to the dataset."
   ]
  },
  {
   "cell_type": "code",
   "execution_count": 30,
   "metadata": {},
   "outputs": [
    {
     "data": {
      "text/plain": [
       "20150611    0.000021\n",
       "20150810    0.000021\n",
       "20150909    0.000021\n",
       "20151110    0.000021\n",
       "20151205    0.000021\n",
       "              ...   \n",
       "20160403    0.038855\n",
       "20160404    0.036927\n",
       "20160405    0.011798\n",
       "20160406    0.003255\n",
       "20160407    0.001244\n",
       "Name: ad_created, Length: 76, dtype: float64"
      ]
     },
     "execution_count": 30,
     "metadata": {},
     "output_type": "execute_result"
    }
   ],
   "source": [
    "autos['ad_created'].value_counts(normalize=True, dropna=False).sort_index()"
   ]
  },
  {
   "cell_type": "markdown",
   "metadata": {},
   "source": [
    "The ads were created anywhere between June 2015 and April 2016. I can't see any obvious outliers in the series, as all the dates seem reasonable."
   ]
  },
  {
   "cell_type": "code",
   "execution_count": 31,
   "metadata": {
    "scrolled": true
   },
   "outputs": [
    {
     "data": {
      "text/plain": [
       "20160305    0.001078\n",
       "20160306    0.004313\n",
       "20160307    0.005432\n",
       "20160308    0.007319\n",
       "20160309    0.009579\n",
       "20160310    0.010637\n",
       "20160311    0.012399\n",
       "20160312    0.023782\n",
       "20160313    0.008874\n",
       "20160314    0.012627\n",
       "20160315    0.015861\n",
       "20160316    0.016442\n",
       "20160317    0.028095\n",
       "20160318    0.007319\n",
       "20160319    0.015758\n",
       "20160320    0.020651\n",
       "20160321    0.020547\n",
       "20160322    0.021356\n",
       "20160323    0.018578\n",
       "20160324    0.019759\n",
       "20160325    0.019096\n",
       "20160326    0.016670\n",
       "20160327    0.015550\n",
       "20160328    0.020858\n",
       "20160329    0.022310\n",
       "20160330    0.024694\n",
       "20160331    0.023823\n",
       "20160401    0.022849\n",
       "20160402    0.024902\n",
       "20160403    0.025130\n",
       "20160404    0.024528\n",
       "20160405    0.125088\n",
       "20160406    0.221957\n",
       "20160407    0.132138\n",
       "Name: last_seen, dtype: float64"
      ]
     },
     "execution_count": 31,
     "metadata": {},
     "output_type": "execute_result"
    }
   ],
   "source": [
    "autos['last_seen'].value_counts(normalize=True, dropna=False).sort_index()"
   ]
  },
  {
   "cell_type": "markdown",
   "metadata": {},
   "source": [
    "I'd expect many ads' \"last seen\" date to be the crawler's last day of operation, but what we're seeing here is that a large part of the total ads seen (about 35%) was last seen in the 2 days prior to when the crawler has ceased running. \n",
    "I'm not sure how the crawler operated, so it's not clear to me why the data looks like that.\n",
    "Assuming nothing special happened on the 5th and 6th of April 2016, I must assume that the crawler didn't scan all ads in each of its runs on the site.\n",
    "\n",
    "Let's look at the registration year next:"
   ]
  },
  {
   "cell_type": "markdown",
   "metadata": {},
   "source": [
    "### Registration Year"
   ]
  },
  {
   "cell_type": "code",
   "execution_count": 32,
   "metadata": {},
   "outputs": [
    {
     "data": {
      "text/plain": [
       "count    48230.000000\n",
       "mean      2004.729795\n",
       "std         87.892058\n",
       "min       1000.000000\n",
       "25%       1999.000000\n",
       "50%       2004.000000\n",
       "75%       2008.000000\n",
       "max       9999.000000\n",
       "Name: registration_year, dtype: float64"
      ]
     },
     "execution_count": 32,
     "metadata": {},
     "output_type": "execute_result"
    }
   ],
   "source": [
    "autos[\"registration_year\"].describe()"
   ]
  },
  {
   "cell_type": "markdown",
   "metadata": {},
   "source": [
    "here are certainly outliers here, with the minimum registration year being 1000 AD, some time before car registration was mandated, and the maximum year being 9999 AD, which, if I'm not mistaken, is in the future."
   ]
  },
  {
   "cell_type": "markdown",
   "metadata": {},
   "source": [
    "Realistically, the earliest valid registration year would be around the first decades of the 20th century.\n",
    "So, since the crawler's last date of operation was in April 2016, any date that falls outside the, say, 1900-2016 interval, would be a false entry."
   ]
  },
  {
   "cell_type": "code",
   "execution_count": 33,
   "metadata": {},
   "outputs": [],
   "source": [
    "autos = autos[autos[\"registration_year\"].between(1900, 2016)]"
   ]
  },
  {
   "cell_type": "code",
   "execution_count": 34,
   "metadata": {},
   "outputs": [
    {
     "data": {
      "text/plain": [
       "count    46358.000000\n",
       "mean      2002.938802\n",
       "std          7.128174\n",
       "min       1910.000000\n",
       "25%       1999.000000\n",
       "50%       2003.000000\n",
       "75%       2008.000000\n",
       "max       2016.000000\n",
       "Name: registration_year, dtype: float64"
      ]
     },
     "execution_count": 34,
     "metadata": {},
     "output_type": "execute_result"
    }
   ],
   "source": [
    "autos[\"registration_year\"].describe()"
   ]
  },
  {
   "cell_type": "markdown",
   "metadata": {},
   "source": [
    "This data makes a bit more sense. The registration years are between 1910 and 2016, with the median at 2003, meaning that most cars offered were registered in the last 13 years, 75% in the last 17 years (relative to 2016), with a long tail extending to 1910."
   ]
  },
  {
   "cell_type": "code",
   "execution_count": 35,
   "metadata": {},
   "outputs": [
    {
     "name": "stdout",
     "output_type": "stream",
     "text": [
      "2016    1202\n",
      "2015     380\n",
      "2014     662\n",
      "2013     801\n",
      "2012    1308\n",
      "2011    1618\n",
      "2010    1587\n",
      "2009    2081\n",
      "2008    2210\n",
      "2007    2273\n",
      "2006    2669\n",
      "2005    2911\n",
      "2004    2699\n",
      "2003    2693\n",
      "2002    2477\n",
      "2001    2629\n",
      "2000    3104\n",
      "1999    2880\n",
      "1998    2340\n",
      "1997    1925\n",
      "1996    1355\n",
      "1995    1193\n",
      "1994     626\n",
      "1993     420\n",
      "1992     368\n",
      "1991     338\n",
      "1990     332\n",
      "1989     171\n",
      "1988     133\n",
      "1987      72\n",
      "1986      71\n",
      "1985      94\n",
      "1984      51\n",
      "1983      51\n",
      "1982      41\n",
      "1981      28\n",
      "1980      81\n",
      "1979      34\n",
      "1978      42\n",
      "1977      22\n",
      "1976      21\n",
      "1975      18\n",
      "1974      24\n",
      "1973      23\n",
      "1972      33\n",
      "1971      26\n",
      "1970      37\n",
      "1969      19\n",
      "1968      26\n",
      "1967      26\n",
      "1966      22\n",
      "1965      17\n",
      "1964      12\n",
      "1963       8\n",
      "1962       4\n",
      "1961       6\n",
      "1960      22\n",
      "1959       6\n",
      "1958       4\n",
      "1957       2\n",
      "1956       4\n",
      "1955       2\n",
      "1954       2\n",
      "1953       1\n",
      "1952       1\n",
      "1951       2\n",
      "1950       1\n",
      "1948       1\n",
      "1943       1\n",
      "1941       2\n",
      "1939       1\n",
      "1938       1\n",
      "1937       4\n",
      "1934       2\n",
      "1931       1\n",
      "1929       1\n",
      "1927       1\n",
      "1910       2\n"
     ]
    }
   ],
   "source": [
    "print(autos[\"registration_year\"].value_counts().sort_index(ascending=False).to_string())"
   ]
  },
  {
   "cell_type": "markdown",
   "metadata": {},
   "source": [
    "### German to English"
   ]
  },
  {
   "cell_type": "markdown",
   "metadata": {},
   "source": [
    "Before moving on to analysis, let's make sure the dataset is in English, to make it more accessible."
   ]
  },
  {
   "cell_type": "code",
   "execution_count": 36,
   "metadata": {},
   "outputs": [
    {
     "data": {
      "text/html": [
       "<div>\n",
       "<style scoped>\n",
       "    .dataframe tbody tr th:only-of-type {\n",
       "        vertical-align: middle;\n",
       "    }\n",
       "\n",
       "    .dataframe tbody tr th {\n",
       "        vertical-align: top;\n",
       "    }\n",
       "\n",
       "    .dataframe thead th {\n",
       "        text-align: right;\n",
       "    }\n",
       "</style>\n",
       "<table border=\"1\" class=\"dataframe\">\n",
       "  <thead>\n",
       "    <tr style=\"text-align: right;\">\n",
       "      <th></th>\n",
       "      <th>date_crawled</th>\n",
       "      <th>name</th>\n",
       "      <th>price</th>\n",
       "      <th>abtest</th>\n",
       "      <th>vehicle_type</th>\n",
       "      <th>registration_year</th>\n",
       "      <th>gearbox</th>\n",
       "      <th>power_ps</th>\n",
       "      <th>model</th>\n",
       "      <th>odometer_km</th>\n",
       "      <th>registration_month</th>\n",
       "      <th>fuel_type</th>\n",
       "      <th>brand</th>\n",
       "      <th>unrepaired_damage</th>\n",
       "      <th>ad_created</th>\n",
       "      <th>postal_code</th>\n",
       "      <th>last_seen</th>\n",
       "    </tr>\n",
       "  </thead>\n",
       "  <tbody>\n",
       "    <tr>\n",
       "      <th>0</th>\n",
       "      <td>20160326</td>\n",
       "      <td>Peugeot_807_160_NAVTECH_ON_BOARD</td>\n",
       "      <td>5000</td>\n",
       "      <td>control</td>\n",
       "      <td>bus</td>\n",
       "      <td>2004</td>\n",
       "      <td>manuell</td>\n",
       "      <td>158</td>\n",
       "      <td>andere</td>\n",
       "      <td>150000</td>\n",
       "      <td>3</td>\n",
       "      <td>lpg</td>\n",
       "      <td>peugeot</td>\n",
       "      <td>nein</td>\n",
       "      <td>20160326</td>\n",
       "      <td>79588</td>\n",
       "      <td>20160406</td>\n",
       "    </tr>\n",
       "    <tr>\n",
       "      <th>1</th>\n",
       "      <td>20160404</td>\n",
       "      <td>BMW_740i_4_4_Liter_HAMANN_UMBAU_Mega_Optik</td>\n",
       "      <td>8500</td>\n",
       "      <td>control</td>\n",
       "      <td>limousine</td>\n",
       "      <td>1997</td>\n",
       "      <td>automatik</td>\n",
       "      <td>286</td>\n",
       "      <td>7er</td>\n",
       "      <td>150000</td>\n",
       "      <td>6</td>\n",
       "      <td>benzin</td>\n",
       "      <td>bmw</td>\n",
       "      <td>nein</td>\n",
       "      <td>20160404</td>\n",
       "      <td>71034</td>\n",
       "      <td>20160406</td>\n",
       "    </tr>\n",
       "    <tr>\n",
       "      <th>2</th>\n",
       "      <td>20160326</td>\n",
       "      <td>Volkswagen_Golf_1.6_United</td>\n",
       "      <td>8990</td>\n",
       "      <td>test</td>\n",
       "      <td>limousine</td>\n",
       "      <td>2009</td>\n",
       "      <td>manuell</td>\n",
       "      <td>102</td>\n",
       "      <td>golf</td>\n",
       "      <td>70000</td>\n",
       "      <td>7</td>\n",
       "      <td>benzin</td>\n",
       "      <td>volkswagen</td>\n",
       "      <td>nein</td>\n",
       "      <td>20160326</td>\n",
       "      <td>35394</td>\n",
       "      <td>20160406</td>\n",
       "    </tr>\n",
       "    <tr>\n",
       "      <th>3</th>\n",
       "      <td>20160312</td>\n",
       "      <td>Smart_smart_fortwo_coupe_softouch/F1/Klima/Pan...</td>\n",
       "      <td>4350</td>\n",
       "      <td>control</td>\n",
       "      <td>kleinwagen</td>\n",
       "      <td>2007</td>\n",
       "      <td>automatik</td>\n",
       "      <td>71</td>\n",
       "      <td>fortwo</td>\n",
       "      <td>70000</td>\n",
       "      <td>6</td>\n",
       "      <td>benzin</td>\n",
       "      <td>smart</td>\n",
       "      <td>nein</td>\n",
       "      <td>20160312</td>\n",
       "      <td>33729</td>\n",
       "      <td>20160315</td>\n",
       "    </tr>\n",
       "    <tr>\n",
       "      <th>4</th>\n",
       "      <td>20160401</td>\n",
       "      <td>Ford_Focus_1_6_Benzin_TÜV_neu_ist_sehr_gepfleg...</td>\n",
       "      <td>1350</td>\n",
       "      <td>test</td>\n",
       "      <td>kombi</td>\n",
       "      <td>2003</td>\n",
       "      <td>manuell</td>\n",
       "      <td>0</td>\n",
       "      <td>focus</td>\n",
       "      <td>150000</td>\n",
       "      <td>7</td>\n",
       "      <td>benzin</td>\n",
       "      <td>ford</td>\n",
       "      <td>nein</td>\n",
       "      <td>20160401</td>\n",
       "      <td>39218</td>\n",
       "      <td>20160401</td>\n",
       "    </tr>\n",
       "    <tr>\n",
       "      <th>...</th>\n",
       "      <td>...</td>\n",
       "      <td>...</td>\n",
       "      <td>...</td>\n",
       "      <td>...</td>\n",
       "      <td>...</td>\n",
       "      <td>...</td>\n",
       "      <td>...</td>\n",
       "      <td>...</td>\n",
       "      <td>...</td>\n",
       "      <td>...</td>\n",
       "      <td>...</td>\n",
       "      <td>...</td>\n",
       "      <td>...</td>\n",
       "      <td>...</td>\n",
       "      <td>...</td>\n",
       "      <td>...</td>\n",
       "      <td>...</td>\n",
       "    </tr>\n",
       "    <tr>\n",
       "      <th>49995</th>\n",
       "      <td>20160327</td>\n",
       "      <td>Audi_Q5_3.0_TDI_qu._S_tr.__Navi__Panorama__Xenon</td>\n",
       "      <td>24900</td>\n",
       "      <td>control</td>\n",
       "      <td>limousine</td>\n",
       "      <td>2011</td>\n",
       "      <td>automatik</td>\n",
       "      <td>239</td>\n",
       "      <td>q5</td>\n",
       "      <td>100000</td>\n",
       "      <td>1</td>\n",
       "      <td>diesel</td>\n",
       "      <td>audi</td>\n",
       "      <td>nein</td>\n",
       "      <td>20160327</td>\n",
       "      <td>82131</td>\n",
       "      <td>20160401</td>\n",
       "    </tr>\n",
       "    <tr>\n",
       "      <th>49996</th>\n",
       "      <td>20160328</td>\n",
       "      <td>Opel_Astra_F_Cabrio_Bertone_Edition___TÜV_neu+...</td>\n",
       "      <td>1980</td>\n",
       "      <td>control</td>\n",
       "      <td>cabrio</td>\n",
       "      <td>1996</td>\n",
       "      <td>manuell</td>\n",
       "      <td>75</td>\n",
       "      <td>astra</td>\n",
       "      <td>150000</td>\n",
       "      <td>5</td>\n",
       "      <td>benzin</td>\n",
       "      <td>opel</td>\n",
       "      <td>nein</td>\n",
       "      <td>20160328</td>\n",
       "      <td>44807</td>\n",
       "      <td>20160402</td>\n",
       "    </tr>\n",
       "    <tr>\n",
       "      <th>49997</th>\n",
       "      <td>20160402</td>\n",
       "      <td>Fiat_500_C_1.2_Dualogic_Lounge</td>\n",
       "      <td>13200</td>\n",
       "      <td>test</td>\n",
       "      <td>cabrio</td>\n",
       "      <td>2014</td>\n",
       "      <td>automatik</td>\n",
       "      <td>69</td>\n",
       "      <td>500</td>\n",
       "      <td>5000</td>\n",
       "      <td>11</td>\n",
       "      <td>benzin</td>\n",
       "      <td>fiat</td>\n",
       "      <td>nein</td>\n",
       "      <td>20160402</td>\n",
       "      <td>73430</td>\n",
       "      <td>20160404</td>\n",
       "    </tr>\n",
       "    <tr>\n",
       "      <th>49998</th>\n",
       "      <td>20160308</td>\n",
       "      <td>Audi_A3_2.0_TDI_Sportback_Ambition</td>\n",
       "      <td>22900</td>\n",
       "      <td>control</td>\n",
       "      <td>kombi</td>\n",
       "      <td>2013</td>\n",
       "      <td>manuell</td>\n",
       "      <td>150</td>\n",
       "      <td>a3</td>\n",
       "      <td>40000</td>\n",
       "      <td>11</td>\n",
       "      <td>diesel</td>\n",
       "      <td>audi</td>\n",
       "      <td>nein</td>\n",
       "      <td>20160308</td>\n",
       "      <td>35683</td>\n",
       "      <td>20160405</td>\n",
       "    </tr>\n",
       "    <tr>\n",
       "      <th>49999</th>\n",
       "      <td>20160314</td>\n",
       "      <td>Opel_Vectra_1.6_16V</td>\n",
       "      <td>1250</td>\n",
       "      <td>control</td>\n",
       "      <td>limousine</td>\n",
       "      <td>1996</td>\n",
       "      <td>manuell</td>\n",
       "      <td>101</td>\n",
       "      <td>vectra</td>\n",
       "      <td>150000</td>\n",
       "      <td>1</td>\n",
       "      <td>benzin</td>\n",
       "      <td>opel</td>\n",
       "      <td>nein</td>\n",
       "      <td>20160313</td>\n",
       "      <td>45897</td>\n",
       "      <td>20160406</td>\n",
       "    </tr>\n",
       "  </tbody>\n",
       "</table>\n",
       "<p>46358 rows × 17 columns</p>\n",
       "</div>"
      ],
      "text/plain": [
       "       date_crawled                                               name  price  \\\n",
       "0          20160326                   Peugeot_807_160_NAVTECH_ON_BOARD   5000   \n",
       "1          20160404         BMW_740i_4_4_Liter_HAMANN_UMBAU_Mega_Optik   8500   \n",
       "2          20160326                         Volkswagen_Golf_1.6_United   8990   \n",
       "3          20160312  Smart_smart_fortwo_coupe_softouch/F1/Klima/Pan...   4350   \n",
       "4          20160401  Ford_Focus_1_6_Benzin_TÜV_neu_ist_sehr_gepfleg...   1350   \n",
       "...             ...                                                ...    ...   \n",
       "49995      20160327   Audi_Q5_3.0_TDI_qu._S_tr.__Navi__Panorama__Xenon  24900   \n",
       "49996      20160328  Opel_Astra_F_Cabrio_Bertone_Edition___TÜV_neu+...   1980   \n",
       "49997      20160402                     Fiat_500_C_1.2_Dualogic_Lounge  13200   \n",
       "49998      20160308                 Audi_A3_2.0_TDI_Sportback_Ambition  22900   \n",
       "49999      20160314                                Opel_Vectra_1.6_16V   1250   \n",
       "\n",
       "        abtest vehicle_type  registration_year    gearbox  power_ps   model  \\\n",
       "0      control          bus               2004    manuell       158  andere   \n",
       "1      control    limousine               1997  automatik       286     7er   \n",
       "2         test    limousine               2009    manuell       102    golf   \n",
       "3      control   kleinwagen               2007  automatik        71  fortwo   \n",
       "4         test        kombi               2003    manuell         0   focus   \n",
       "...        ...          ...                ...        ...       ...     ...   \n",
       "49995  control    limousine               2011  automatik       239      q5   \n",
       "49996  control       cabrio               1996    manuell        75   astra   \n",
       "49997     test       cabrio               2014  automatik        69     500   \n",
       "49998  control        kombi               2013    manuell       150      a3   \n",
       "49999  control    limousine               1996    manuell       101  vectra   \n",
       "\n",
       "       odometer_km  registration_month fuel_type       brand  \\\n",
       "0           150000                   3       lpg     peugeot   \n",
       "1           150000                   6    benzin         bmw   \n",
       "2            70000                   7    benzin  volkswagen   \n",
       "3            70000                   6    benzin       smart   \n",
       "4           150000                   7    benzin        ford   \n",
       "...            ...                 ...       ...         ...   \n",
       "49995       100000                   1    diesel        audi   \n",
       "49996       150000                   5    benzin        opel   \n",
       "49997         5000                  11    benzin        fiat   \n",
       "49998        40000                  11    diesel        audi   \n",
       "49999       150000                   1    benzin        opel   \n",
       "\n",
       "      unrepaired_damage  ad_created  postal_code  last_seen  \n",
       "0                  nein    20160326        79588   20160406  \n",
       "1                  nein    20160404        71034   20160406  \n",
       "2                  nein    20160326        35394   20160406  \n",
       "3                  nein    20160312        33729   20160315  \n",
       "4                  nein    20160401        39218   20160401  \n",
       "...                 ...         ...          ...        ...  \n",
       "49995              nein    20160327        82131   20160401  \n",
       "49996              nein    20160328        44807   20160402  \n",
       "49997              nein    20160402        73430   20160404  \n",
       "49998              nein    20160308        35683   20160405  \n",
       "49999              nein    20160313        45897   20160406  \n",
       "\n",
       "[46358 rows x 17 columns]"
      ]
     },
     "execution_count": 36,
     "metadata": {},
     "output_type": "execute_result"
    }
   ],
   "source": [
    "autos"
   ]
  },
  {
   "cell_type": "markdown",
   "metadata": {},
   "source": [
    "the following columns potentially have German terms we can translate to English:\n",
    "\n",
    "abtest, vehicle_type, gearbox, model, fuel_type, unrepaired_damage\n",
    "\n",
    "We've already seen above that 'abtest' only has two values - \"control\" and \"test\". Since both are already in English there's nothing to be done.\n",
    "\n",
    "Let's go through the rest one by one and see what values they hold and if they can be translated:"
   ]
  },
  {
   "cell_type": "code",
   "execution_count": 37,
   "metadata": {},
   "outputs": [
    {
     "data": {
      "text/plain": [
       "array(['bus', 'limousine', 'kleinwagen', 'kombi', nan, 'coupe', 'suv',\n",
       "       'cabrio', 'andere'], dtype=object)"
      ]
     },
     "execution_count": 37,
     "metadata": {},
     "output_type": "execute_result"
    }
   ],
   "source": [
    "autos.loc[:, 'vehicle_type'].unique()"
   ]
  },
  {
   "attachments": {
    "Screenshot%202023-09-21%20193718.png": {
     "image/png": "[encoded data removed]"
    }
   },
   "cell_type": "markdown",
   "metadata": {},
   "source": [
    "By comparing the German and English version of the classified site ooyyo.com and matching the number of listings for each type we can translate most of the German vehicle types to English\n",
    "![Screenshot%202023-09-21%20193718.png](attachment:Screenshot%202023-09-21%20193718.png)\n"
   ]
  },
  {
   "attachments": {
    "Screenshot%202023-09-21%20194240.png": {
     "image/png": "[encoded data removed]"
    }
   },
   "cell_type": "markdown",
   "metadata": {},
   "source": [
    "![Screenshot%202023-09-21%20194240.png](attachment:Screenshot%202023-09-21%20194240.png)"
   ]
  },
  {
   "cell_type": "code",
   "execution_count": 38,
   "metadata": {},
   "outputs": [],
   "source": [
    "autos.loc[autos.vehicle_type == 'limousine', 'vehicle_type'] = 'sedan'\n",
    "autos.loc[autos.vehicle_type == 'kleinwagen', 'vehicle_type'] = 'mini'\n",
    "autos.loc[autos.vehicle_type == 'kombi', 'vehicle_type'] = 'wagon'\n",
    "autos.loc[autos.vehicle_type == 'cabrio', 'vehicle_type'] = 'convertible'\n",
    "autos.loc[autos.vehicle_type == 'andere', 'vehicle_type'] = 'other'"
   ]
  },
  {
   "cell_type": "markdown",
   "metadata": {},
   "source": [
    "\"suv\" and \"coupe\" don't need to be translated as they're the same in English.\n",
    "That leaves us with \"bus\". Let's look at some of the vehicles in that category:"
   ]
  },
  {
   "cell_type": "code",
   "execution_count": 39,
   "metadata": {},
   "outputs": [
    {
     "data": {
      "text/plain": [
       "0                         Peugeot_807_160_NAVTECH_ON_BOARD\n",
       "5        Chrysler_Grand_Voyager_2.8_CRD_Aut.Limited_Sto...\n",
       "9                Renault_Megane_Scenic_1.6e_RT_Klimaanlage\n",
       "18                    Verkaufen_mein_bmw_e36_320_i_touring\n",
       "23        Peugeot_Boxer_2_2_HDi_120_Ps_9_Sitzer_inkl_Klima\n",
       "                               ...                        \n",
       "49885                           Citroën_Xsara_Picasso_1.8i\n",
       "49892                                           Vw_T_4_Bus\n",
       "49963              Mercedes_Benz_B_200_CDI_Special_Edition\n",
       "49970    c4_Grand_Picasso_mit_Automatik_Leder_Navi_Temp...\n",
       "49972            Mercedes_Benz_Vito_115_CDI_Extralang_Aut.\n",
       "Name: name, Length: 4024, dtype: object"
      ]
     },
     "execution_count": 39,
     "metadata": {},
     "output_type": "execute_result"
    }
   ],
   "source": [
    "autos.loc[autos.vehicle_type == 'bus', 'name']"
   ]
  },
  {
   "cell_type": "markdown",
   "metadata": {},
   "source": [
    "The body type of these models is usually called \"MPV\" in English, so that's the name I'll use."
   ]
  },
  {
   "cell_type": "code",
   "execution_count": 40,
   "metadata": {},
   "outputs": [],
   "source": [
    "autos.loc[autos.vehicle_type == 'bus', 'vehicle_type'] = 'mpv'"
   ]
  },
  {
   "cell_type": "markdown",
   "metadata": {},
   "source": [
    "Let's verify we don't have any German types left:"
   ]
  },
  {
   "cell_type": "code",
   "execution_count": 41,
   "metadata": {},
   "outputs": [
    {
     "data": {
      "text/plain": [
       "array(['mpv', 'sedan', 'mini', 'wagon', nan, 'coupe', 'suv',\n",
       "       'convertible', 'other'], dtype=object)"
      ]
     },
     "execution_count": 41,
     "metadata": {},
     "output_type": "execute_result"
    }
   ],
   "source": [
    "autos.loc[:, 'vehicle_type'].unique()"
   ]
  },
  {
   "cell_type": "markdown",
   "metadata": {},
   "source": [
    "Great. Next, gearbox:"
   ]
  },
  {
   "cell_type": "code",
   "execution_count": 42,
   "metadata": {},
   "outputs": [
    {
     "data": {
      "text/plain": [
       "array(['manuell', 'automatik', nan], dtype=object)"
      ]
     },
     "execution_count": 42,
     "metadata": {},
     "output_type": "execute_result"
    }
   ],
   "source": [
    "autos.loc[:, 'gearbox'].unique()"
   ]
  },
  {
   "cell_type": "markdown",
   "metadata": {},
   "source": [
    "That's a straightforward translation:"
   ]
  },
  {
   "cell_type": "code",
   "execution_count": 43,
   "metadata": {},
   "outputs": [],
   "source": [
    "autos.loc[autos.gearbox == 'manuell', 'gearbox'] = 'manual'\n",
    "autos.loc[autos.gearbox == 'automatik', 'gearbox'] = 'automatic'"
   ]
  },
  {
   "cell_type": "markdown",
   "metadata": {},
   "source": [
    "Let's verify:"
   ]
  },
  {
   "cell_type": "code",
   "execution_count": 44,
   "metadata": {},
   "outputs": [
    {
     "data": {
      "text/plain": [
       "array(['manual', 'automatic', nan], dtype=object)"
      ]
     },
     "execution_count": 44,
     "metadata": {},
     "output_type": "execute_result"
    }
   ],
   "source": [
    "autos.loc[:, 'gearbox'].unique()"
   ]
  },
  {
   "cell_type": "markdown",
   "metadata": {},
   "source": [
    "Next we'll look at model. The models are all names, so there's no point in translating them to English, but we'll translate \"andere\" to \"other\"."
   ]
  },
  {
   "cell_type": "code",
   "execution_count": 45,
   "metadata": {},
   "outputs": [],
   "source": [
    "autos.loc[autos.model == 'andere', 'model'] = 'other'"
   ]
  },
  {
   "cell_type": "markdown",
   "metadata": {},
   "source": [
    "Now, fuel type:"
   ]
  },
  {
   "cell_type": "code",
   "execution_count": 46,
   "metadata": {},
   "outputs": [
    {
     "data": {
      "text/plain": [
       "array(['lpg', 'benzin', 'diesel', nan, 'cng', 'hybrid', 'elektro',\n",
       "       'andere'], dtype=object)"
      ]
     },
     "execution_count": 46,
     "metadata": {},
     "output_type": "execute_result"
    }
   ],
   "source": [
    "autos.loc[:, 'fuel_type'].unique()"
   ]
  },
  {
   "cell_type": "markdown",
   "metadata": {},
   "source": [
    "'lpg', 'cng', 'diesel' and 'hybrid' can stay as they are. the rest are trivial translations:"
   ]
  },
  {
   "cell_type": "code",
   "execution_count": 47,
   "metadata": {},
   "outputs": [],
   "source": [
    "autos.loc[autos.fuel_type == 'benzin', 'fuel_type'] = 'petrol'\n",
    "autos.loc[autos.fuel_type == 'elektro', 'fuel_type'] = 'electric'\n",
    "autos.loc[autos.fuel_type == 'andere', 'fuel_type'] = 'other'"
   ]
  },
  {
   "cell_type": "markdown",
   "metadata": {},
   "source": [
    "Let's verify:"
   ]
  },
  {
   "cell_type": "code",
   "execution_count": 48,
   "metadata": {},
   "outputs": [
    {
     "data": {
      "text/plain": [
       "array(['lpg', 'petrol', 'diesel', nan, 'cng', 'hybrid', 'electric',\n",
       "       'other'], dtype=object)"
      ]
     },
     "execution_count": 48,
     "metadata": {},
     "output_type": "execute_result"
    }
   ],
   "source": [
    "autos.loc[:, 'fuel_type'].unique()"
   ]
  },
  {
   "cell_type": "markdown",
   "metadata": {},
   "source": [
    "Good. Finally, unrepaired damage:"
   ]
  },
  {
   "cell_type": "code",
   "execution_count": 49,
   "metadata": {},
   "outputs": [
    {
     "data": {
      "text/plain": [
       "array(['nein', nan, 'ja'], dtype=object)"
      ]
     },
     "execution_count": 49,
     "metadata": {},
     "output_type": "execute_result"
    }
   ],
   "source": [
    "autos.loc[:, 'unrepaired_damage'].unique()"
   ]
  },
  {
   "cell_type": "markdown",
   "metadata": {},
   "source": [
    "Again, the translation is trivial:"
   ]
  },
  {
   "cell_type": "code",
   "execution_count": 50,
   "metadata": {},
   "outputs": [],
   "source": [
    "autos.loc[autos.unrepaired_damage == 'ja', 'unrepaired_damage'] = 'yes'\n",
    "autos.loc[autos.unrepaired_damage == 'nein', 'unrepaired_damage'] = 'no'"
   ]
  },
  {
   "cell_type": "markdown",
   "metadata": {},
   "source": [
    "Let's verify:"
   ]
  },
  {
   "cell_type": "code",
   "execution_count": 51,
   "metadata": {},
   "outputs": [
    {
     "data": {
      "text/plain": [
       "array(['no', nan, 'yes'], dtype=object)"
      ]
     },
     "execution_count": 51,
     "metadata": {},
     "output_type": "execute_result"
    }
   ],
   "source": [
    "autos.loc[:, 'unrepaired_damage'].unique()"
   ]
  },
  {
   "cell_type": "markdown",
   "metadata": {},
   "source": [
    "Okay, the dataframe is entirely in English now."
   ]
  },
  {
   "cell_type": "markdown",
   "metadata": {},
   "source": [
    "## Analysis"
   ]
  },
  {
   "cell_type": "markdown",
   "metadata": {},
   "source": [
    "### Price by Brand"
   ]
  },
  {
   "cell_type": "markdown",
   "metadata": {},
   "source": [
    "It'd be interesting to see how the asking prices differ by brand, so let's explore that avenue.\n",
    "First, let's check how many listings we have for each brand:"
   ]
  },
  {
   "cell_type": "code",
   "execution_count": 52,
   "metadata": {
    "scrolled": true
   },
   "outputs": [
    {
     "name": "stdout",
     "output_type": "stream",
     "text": [
      "volkswagen        9801\n",
      "bmw               5108\n",
      "opel              4971\n",
      "mercedes_benz     4480\n",
      "audi              4022\n",
      "ford              3238\n",
      "renault           2182\n",
      "peugeot           1384\n",
      "fiat              1187\n",
      "seat               846\n",
      "skoda              761\n",
      "nissan             711\n",
      "mazda              706\n",
      "smart              658\n",
      "citroen            651\n",
      "toyota             593\n",
      "hyundai            464\n",
      "sonstige_autos     444\n",
      "volvo              423\n",
      "mini               408\n",
      "mitsubishi         379\n",
      "honda              365\n",
      "kia                328\n",
      "alfa_romeo         309\n",
      "porsche            279\n",
      "suzuki             275\n",
      "chevrolet          263\n",
      "chrysler           163\n",
      "dacia              123\n",
      "daihatsu           116\n",
      "jeep               106\n",
      "subaru              98\n",
      "land_rover          98\n",
      "saab                77\n",
      "jaguar              71\n",
      "daewoo              69\n",
      "trabant             63\n",
      "rover               62\n",
      "lancia              49\n",
      "lada                27\n"
     ]
    }
   ],
   "source": [
    "brands_by_listings = autos[\"brand\"].value_counts()\n",
    "print(brands_by_listings.sort_values(ascending=False).to_string())"
   ]
  },
  {
   "cell_type": "markdown",
   "metadata": {},
   "source": [
    "Volkswagen is definitely the most popular brand in the dataset, with almost 10,000 listings, which is about 20% of the total number of listings.\n",
    "\n",
    "For the purposes of this project, we'll look only at brands that have more than 1,000 listings, to make sure our analysis has significance."
   ]
  },
  {
   "cell_type": "code",
   "execution_count": 53,
   "metadata": {},
   "outputs": [],
   "source": [
    "brand_mean_prices = {}\n",
    "for brand in brands_by_listings[brands_by_listings > 1000].index:\n",
    "    brand_mean_prices[brand] = autos[autos[\"brand\"] == brand][\"price\"].mean()"
   ]
  },
  {
   "cell_type": "code",
   "execution_count": 54,
   "metadata": {},
   "outputs": [
    {
     "data": {
      "text/plain": [
       "[('audi', 9380.718547986076),\n",
       " ('mercedes_benz', 8672.654241071428),\n",
       " ('bmw', 8621.729052466719),\n",
       " ('volkswagen', 5639.900316294255),\n",
       " ('ford', 4086.93421865349),\n",
       " ('peugeot', 3113.860549132948),\n",
       " ('opel', 3005.4960772480385),\n",
       " ('fiat', 2836.8736310025274),\n",
       " ('renault', 2496.070577451879)]"
      ]
     },
     "execution_count": 54,
     "metadata": {},
     "output_type": "execute_result"
    }
   ],
   "source": [
    "sorted(brand_mean_prices.items(), key=lambda x:x[1], reverse=True)"
   ]
  },
  {
   "cell_type": "markdown",
   "metadata": {},
   "source": [
    "The list above shows the mean asking prices for the 9 most popular car brands for sale in eBay Germany. It stands to reason that these are the most popular brands in Germany in general.\n",
    "We can see that the brands fall into 2 distinct categories:\n",
    "\n",
    "__Everyday brands__ - this is the largest category. It spans from Renault to Volkswagen on the list above, with mean asking prices of about \\\\$2,500-\\\\$5,500.\n",
    "\n",
    "__Luxury cars__ - includes Audi, Mercedes Benz and BMW, with significantly higher mean asking prices (~\\\\$8,500-\\\\$9,500)."
   ]
  },
  {
   "cell_type": "markdown",
   "metadata": {},
   "source": [
    "### Mileage by brand"
   ]
  },
  {
   "cell_type": "markdown",
   "metadata": {},
   "source": [
    "Next, let's see if there's any visible linkage between the average kilometrage and asking price of each brand."
   ]
  },
  {
   "cell_type": "code",
   "execution_count": 55,
   "metadata": {},
   "outputs": [],
   "source": [
    "brand_mean_kilometrage = {}\n",
    "for brand in brands_by_listings[brands_by_listings > 1000].index:\n",
    "    brand_mean_kilometrage[brand] = autos[autos[\"brand\"] == brand][\"odometer_km\"].mean() \n",
    "\n",
    "bmk_series = pd.Series(brand_mean_kilometrage)\n",
    "bmp_series = pd.Series(brand_mean_prices)\n",
    "df = pd.DataFrame(bmp_series, columns = ['mean_price'])\n",
    "df[\"mean_kilometrage\"] = bmk_series"
   ]
  },
  {
   "cell_type": "code",
   "execution_count": 56,
   "metadata": {},
   "outputs": [
    {
     "data": {
      "text/html": [
       "<div>\n",
       "<style scoped>\n",
       "    .dataframe tbody tr th:only-of-type {\n",
       "        vertical-align: middle;\n",
       "    }\n",
       "\n",
       "    .dataframe tbody tr th {\n",
       "        vertical-align: top;\n",
       "    }\n",
       "\n",
       "    .dataframe thead th {\n",
       "        text-align: right;\n",
       "    }\n",
       "</style>\n",
       "<table border=\"1\" class=\"dataframe\">\n",
       "  <thead>\n",
       "    <tr style=\"text-align: right;\">\n",
       "      <th></th>\n",
       "      <th>mean_price</th>\n",
       "      <th>mean_kilometrage</th>\n",
       "    </tr>\n",
       "  </thead>\n",
       "  <tbody>\n",
       "    <tr>\n",
       "      <th>volkswagen</th>\n",
       "      <td>5639.900316</td>\n",
       "      <td>128804.203653</td>\n",
       "    </tr>\n",
       "    <tr>\n",
       "      <th>bmw</th>\n",
       "      <td>8621.729052</td>\n",
       "      <td>132698.707909</td>\n",
       "    </tr>\n",
       "    <tr>\n",
       "      <th>opel</th>\n",
       "      <td>3005.496077</td>\n",
       "      <td>129384.429692</td>\n",
       "    </tr>\n",
       "    <tr>\n",
       "      <th>mercedes_benz</th>\n",
       "      <td>8672.654241</td>\n",
       "      <td>131025.669643</td>\n",
       "    </tr>\n",
       "    <tr>\n",
       "      <th>audi</th>\n",
       "      <td>9380.718548</td>\n",
       "      <td>129245.400298</td>\n",
       "    </tr>\n",
       "    <tr>\n",
       "      <th>ford</th>\n",
       "      <td>4086.934219</td>\n",
       "      <td>124277.331686</td>\n",
       "    </tr>\n",
       "    <tr>\n",
       "      <th>renault</th>\n",
       "      <td>2496.070577</td>\n",
       "      <td>128281.393217</td>\n",
       "    </tr>\n",
       "    <tr>\n",
       "      <th>peugeot</th>\n",
       "      <td>3113.860549</td>\n",
       "      <td>127127.890173</td>\n",
       "    </tr>\n",
       "    <tr>\n",
       "      <th>fiat</th>\n",
       "      <td>2836.873631</td>\n",
       "      <td>116950.294861</td>\n",
       "    </tr>\n",
       "  </tbody>\n",
       "</table>\n",
       "</div>"
      ],
      "text/plain": [
       "                mean_price  mean_kilometrage\n",
       "volkswagen     5639.900316     128804.203653\n",
       "bmw            8621.729052     132698.707909\n",
       "opel           3005.496077     129384.429692\n",
       "mercedes_benz  8672.654241     131025.669643\n",
       "audi           9380.718548     129245.400298\n",
       "ford           4086.934219     124277.331686\n",
       "renault        2496.070577     128281.393217\n",
       "peugeot        3113.860549     127127.890173\n",
       "fiat           2836.873631     116950.294861"
      ]
     },
     "execution_count": 56,
     "metadata": {},
     "output_type": "execute_result"
    }
   ],
   "source": [
    "df"
   ]
  },
  {
   "cell_type": "markdown",
   "metadata": {},
   "source": [
    "The mean kilometrage for most of the top 9 brands is around 130,000km, without any visible linkage to the brand's mean price. Fiat seems to be an outlier, with less than 120,000km as its mean kilometrage.\n",
    "The car's price seems to be unrelated to its kilometrage."
   ]
  },
  {
   "cell_type": "markdown",
   "metadata": {},
   "source": [
    "### Effect of kilometrage on a car's asking price"
   ]
  },
  {
   "cell_type": "markdown",
   "metadata": {},
   "source": [
    "The odometer values are already in discrete values, which is probably how eBay lets sellers set their kilometrage. Let's see if there's a clear linkage between the number of kilometers a car has been driven and its asking price, regardless of brand:"
   ]
  },
  {
   "cell_type": "code",
   "execution_count": 93,
   "metadata": {},
   "outputs": [],
   "source": [
    "mean_prices_by_km = {}\n",
    "for distance in autos.loc[:, \"odometer_km\"].unique():\n",
    "    mean_prices_by_km[distance] = autos.loc[autos.odometer_km == distance, \"price\"].mean()\n",
    "series = pd.Series(mean_prices_by_km)"
   ]
  },
  {
   "cell_type": "code",
   "execution_count": 96,
   "metadata": {},
   "outputs": [
    {
     "name": "stdout",
     "output_type": "stream",
     "text": [
      "Odometer   Price\n"
     ]
    },
    {
     "data": {
      "text/plain": [
       "5000      15243.830056\n",
       "10000     21255.304721\n",
       "20000     18523.200271\n",
       "30000     16674.564069\n",
       "40000     15518.952261\n",
       "50000     15151.737639\n",
       "60000     12406.989343\n",
       "70000     10954.826014\n",
       "80000      9743.110058\n",
       "90000      8470.087321\n",
       "100000     8188.223581\n",
       "125000     6443.642075\n",
       "150000     3900.144081\n",
       "Name: Distance, dtype: float64"
      ]
     },
     "execution_count": 96,
     "metadata": {},
     "output_type": "execute_result"
    }
   ],
   "source": [
    "print(\"Odometer   Price\")\n",
    "series = series.sort_index()\n",
    "series"
   ]
  },
  {
   "cell_type": "code",
   "execution_count": 136,
   "metadata": {},
   "outputs": [
    {
     "data": {
      "image/png": "[encoded data removed]",
      "text/plain": [
       "<Figure size 600x400 with 1 Axes>"
      ]
     },
     "metadata": {},
     "output_type": "display_data"
    }
   ],
   "source": [
    "%matplotlib inline\n",
    "plot = series.plot.bar(title=\"Kilometrage vs. Price\")"
   ]
  },
  {
   "cell_type": "markdown",
   "metadata": {},
   "source": [
    "It's quite clear from the bar plot that there's a strong linkage between a car's kilometrage and its asking price. Other than the outlier at 5,000 km, the more a car has been driven the more it's devalued. That is very much the expected result. "
   ]
  },
  {
   "cell_type": "markdown",
   "metadata": {},
   "source": [
    "### Effect of damage on a car's asking price"
   ]
  },
  {
   "cell_type": "markdown",
   "metadata": {},
   "source": [
    "We'd like to see the effect of unrepaired damage on a car's value.\n",
    "To do that we'll compare the mean price of damaged vs. undamaged cars."
   ]
  },
  {
   "cell_type": "code",
   "execution_count": 57,
   "metadata": {},
   "outputs": [],
   "source": [
    "damaged_mean_price = autos.loc[autos.unrepaired_damage == 'yes', 'price'].mean()\n",
    "undamaged_mean_price = autos.loc[autos.unrepaired_damage != 'yes', 'price'].mean()\n"
   ]
  },
  {
   "cell_type": "code",
   "execution_count": 58,
   "metadata": {
    "scrolled": true
   },
   "outputs": [
    {
     "name": "stdout",
     "output_type": "stream",
     "text": [
      "Mean price of damaged cars: 2492.1362926611646\n",
      "Mean price of undamaged cars: 6621.81327761194\n"
     ]
    }
   ],
   "source": [
    "print(f\"Mean price of damaged cars: {damaged_mean_price}\")\n",
    "print(f\"Mean price of undamaged cars: {undamaged_mean_price}\")"
   ]
  },
  {
   "cell_type": "markdown",
   "metadata": {},
   "source": [
    "There's quite a significant (\\\\$4,129.67) price difference between damaged and non-damaged cars, but that doesn't necessarily mean that the difference is entirely due to the damage. \n",
    "\n",
    "It could be that owners of older cars tend not to fix damages, or that owners of cheaper cars don't want to spend money on fixing them. To investigate that connection we'd need to compare damaged and undamaged cars of similar models and identical or adjacent years, and see if there's still a price difference."
   ]
  },
  {
   "cell_type": "markdown",
   "metadata": {},
   "source": [
    "## Conclusion"
   ]
  },
  {
   "cell_type": "markdown",
   "metadata": {},
   "source": [
    "In this project we have taken our first steps with Pandas.\n",
    "We have read a dataset into a DataFrame and cleaned it by:\n",
    "* standardising column names\n",
    "* removing useless information\n",
    "* removing invalid information\n",
    "* cleaning date data and converting it into uniform numeric data\n",
    "* converting most German words and terms to English\n",
    "\n",
    "We then ran some analyses.\n",
    "* We found that cars in the 9 most popular brands fall into one of two categories - Luxury Cars or Everyday Brands - judging by the brand's mean asking price\n",
    "* We found no obvious linkage between a brand's mean asking price and its mean kilometrage\n",
    "* We did find a strong linkage between a car's kilometrage and its asking price, as can be expected\n",
    "* We found that cars with unrepaired damage are offered for significantly less than undamaged cars, but this discrepancy can be caused by several other factors, and should not be taken as is\n",
    "\n",
    "finally, suggestions for additional analyses to do on the dataset:\n",
    "* check for linkage between the car's gearbox, vehicle type or engine type and its asking price\n",
    "* check for the most popular model for each brand\n",
    "* check which brands/models/vehicle types are most likely to sell quickly"
   ]
  },
  {
   "cell_type": "code",
   "execution_count": null,
   "metadata": {},
   "outputs": [],
   "source": []
  }
 ],
 "metadata": {
  "kernelspec": {
   "display_name": "Python 3",
   "language": "python",
   "name": "python3"
  },
  "language_info": {
   "codemirror_mode": {
    "name": "ipython",
    "version": 3
   },
   "file_extension": ".py",
   "mimetype": "text/x-python",
   "name": "python",
   "nbconvert_exporter": "python",
   "pygments_lexer": "ipython3",
   "version": "3.8.2"
  }
 },
 "nbformat": 4,
 "nbformat_minor": 2
}
