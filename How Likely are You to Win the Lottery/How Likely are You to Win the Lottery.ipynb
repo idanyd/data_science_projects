{
 "cells": [
  {
   "cell_type": "markdown",
   "metadata": {},
   "source": [
    "# Know Your Odds: How Likely Are You to Win the Lottery?"
   ]
  },
  {
   "cell_type": "markdown",
   "metadata": {},
   "source": [
    "## Table of Contents"
   ]
  },
  {
   "cell_type": "markdown",
   "metadata": {},
   "source": [
    "* [Introduction](#intorduction)\n",
    "* [Goal](#goal)\n",
    "* [Summary](#summary)\n",
    "* [The Data](#the_data)\n",
    "* [Core Functions](#core_functions)\n",
    "* [One Ticket Probability](#one_ticket_probability)\n",
    "* [Historical Data Check for Canada Lottery](#historical_data_check)\n",
    "  * [Functions for Historical Data Check](#functions_for_historical_data_check)\n",
    "  * [Finding Winning Tickets](#finding_winning_tickets)\n",
    "* [Multi-ticket Probability](#multi_ticket_probability)\n",
    "* [Fewer Winning Numbers](#fewer_winning_numbers)\n",
    "  * [Exact number of winning numbers](#exact_number)\n",
    "  * [Minimum number of winning numbers](#minimum_number)\n",
    "* [Next Steps](#next_steps)\n",
    "* [Conclusion](#conclusion)"
   ]
  },
  {
   "cell_type": "markdown",
   "metadata": {},
   "source": [
    "## Introduction  <a name=\"introduction\"></a>"
   ]
  },
  {
   "cell_type": "markdown",
   "metadata": {},
   "source": [
    "A medical institute that aims to prevent and treat gambling addictions wants to build a dedicated mobile app to help lottery addicts better estimate their chances of winning. The institute has a team of engineers that will build the app, but they need us to create the logical core of the app and calculate probabilities."
   ]
  },
  {
   "cell_type": "markdown",
   "metadata": {
    "collapsed": true,
    "jupyter": {
     "outputs_hidden": true
    }
   },
   "source": [
    "## Goal  <a name=\"goal\"></a>"
   ]
  },
  {
   "cell_type": "markdown",
   "metadata": {},
   "source": [
    "For the first version of the app, the institute wants us to focus on thenational [6/49 lottery](https://en.wikipedia.org/wiki/Lotto_6/49) game in Canada. They want us to use historical data and probability to build functions that enable users to answer questions like:\n",
    "\n",
    "* What is the probability of winning the big prize with a single ticket?\n",
    "* What is the probability of winning the big prize if we play 40 different tickets (or any other number)?\n",
    "* What is the probability of having at least five (or four, or three, or two) winning numbers on a single ticket?"
   ]
  },
  {
   "cell_type": "markdown",
   "metadata": {},
   "source": [
    "## Summary  <a name=\"summary\"></a>"
   ]
  },
  {
   "cell_type": "markdown",
   "metadata": {},
   "source": [
    "Don't play the lottery. You'll lose your money."
   ]
  },
  {
   "cell_type": "markdown",
   "metadata": {},
   "source": [
    "## The Data <a name=\"the_data\"></a>"
   ]
  },
  {
   "cell_type": "markdown",
   "metadata": {},
   "source": [
    "[The data set](https://www.kaggle.com/datascienceai/lottery-dataset) has data for 3,665 drawings, dating from 1982 to 2018."
   ]
  },
  {
   "cell_type": "markdown",
   "metadata": {},
   "source": [
    "The following is some boilerplate code that loads the required libraries, reads the data and displays some initial information about it:"
   ]
  },
  {
   "cell_type": "code",
   "execution_count": 18,
   "metadata": {},
   "outputs": [],
   "source": [
    "import pandas as pd\n",
    "import numpy as np\n",
    "# Reading the file\n",
    "historical_data = pd.read_csv(\"649.csv\")\n",
    "\n",
    "# Allow Jupyter notebook to generate plots and use the FiveThirtyEight style\n",
    "import matplotlib.pyplot as plt\n",
    "plt.style.use('fivethirtyeight')\n",
    "%matplotlib inline"
   ]
  },
  {
   "cell_type": "code",
   "execution_count": 19,
   "metadata": {
    "collapsed": false,
    "jupyter": {
     "outputs_hidden": false
    }
   },
   "outputs": [
    {
     "data": {
      "text/plain": [
       "(3665, 11)"
      ]
     },
     "execution_count": 19,
     "metadata": {},
     "output_type": "execute_result"
    }
   ],
   "source": [
    "historical_data.shape"
   ]
  },
  {
   "cell_type": "code",
   "execution_count": 20,
   "metadata": {
    "collapsed": false,
    "jupyter": {
     "outputs_hidden": false
    }
   },
   "outputs": [
    {
     "data": {
      "text/html": [
       "<div>\n",
       "<style scoped>\n",
       "    .dataframe tbody tr th:only-of-type {\n",
       "        vertical-align: middle;\n",
       "    }\n",
       "\n",
       "    .dataframe tbody tr th {\n",
       "        vertical-align: top;\n",
       "    }\n",
       "\n",
       "    .dataframe thead th {\n",
       "        text-align: right;\n",
       "    }\n",
       "</style>\n",
       "<table border=\"1\" class=\"dataframe\">\n",
       "  <thead>\n",
       "    <tr style=\"text-align: right;\">\n",
       "      <th></th>\n",
       "      <th>PRODUCT</th>\n",
       "      <th>DRAW NUMBER</th>\n",
       "      <th>SEQUENCE NUMBER</th>\n",
       "      <th>DRAW DATE</th>\n",
       "      <th>NUMBER DRAWN 1</th>\n",
       "      <th>NUMBER DRAWN 2</th>\n",
       "      <th>NUMBER DRAWN 3</th>\n",
       "      <th>NUMBER DRAWN 4</th>\n",
       "      <th>NUMBER DRAWN 5</th>\n",
       "      <th>NUMBER DRAWN 6</th>\n",
       "      <th>BONUS NUMBER</th>\n",
       "    </tr>\n",
       "  </thead>\n",
       "  <tbody>\n",
       "    <tr>\n",
       "      <th>0</th>\n",
       "      <td>649</td>\n",
       "      <td>1</td>\n",
       "      <td>0</td>\n",
       "      <td>6/12/1982</td>\n",
       "      <td>3</td>\n",
       "      <td>11</td>\n",
       "      <td>12</td>\n",
       "      <td>14</td>\n",
       "      <td>41</td>\n",
       "      <td>43</td>\n",
       "      <td>13</td>\n",
       "    </tr>\n",
       "    <tr>\n",
       "      <th>1</th>\n",
       "      <td>649</td>\n",
       "      <td>2</td>\n",
       "      <td>0</td>\n",
       "      <td>6/19/1982</td>\n",
       "      <td>8</td>\n",
       "      <td>33</td>\n",
       "      <td>36</td>\n",
       "      <td>37</td>\n",
       "      <td>39</td>\n",
       "      <td>41</td>\n",
       "      <td>9</td>\n",
       "    </tr>\n",
       "    <tr>\n",
       "      <th>2</th>\n",
       "      <td>649</td>\n",
       "      <td>3</td>\n",
       "      <td>0</td>\n",
       "      <td>6/26/1982</td>\n",
       "      <td>1</td>\n",
       "      <td>6</td>\n",
       "      <td>23</td>\n",
       "      <td>24</td>\n",
       "      <td>27</td>\n",
       "      <td>39</td>\n",
       "      <td>34</td>\n",
       "    </tr>\n",
       "    <tr>\n",
       "      <th>3</th>\n",
       "      <td>649</td>\n",
       "      <td>4</td>\n",
       "      <td>0</td>\n",
       "      <td>7/3/1982</td>\n",
       "      <td>3</td>\n",
       "      <td>9</td>\n",
       "      <td>10</td>\n",
       "      <td>13</td>\n",
       "      <td>20</td>\n",
       "      <td>43</td>\n",
       "      <td>34</td>\n",
       "    </tr>\n",
       "    <tr>\n",
       "      <th>4</th>\n",
       "      <td>649</td>\n",
       "      <td>5</td>\n",
       "      <td>0</td>\n",
       "      <td>7/10/1982</td>\n",
       "      <td>5</td>\n",
       "      <td>14</td>\n",
       "      <td>21</td>\n",
       "      <td>31</td>\n",
       "      <td>34</td>\n",
       "      <td>47</td>\n",
       "      <td>45</td>\n",
       "    </tr>\n",
       "  </tbody>\n",
       "</table>\n",
       "</div>"
      ],
      "text/plain": [
       "   PRODUCT  DRAW NUMBER  SEQUENCE NUMBER  DRAW DATE  NUMBER DRAWN 1  \\\n",
       "0      649            1                0  6/12/1982               3   \n",
       "1      649            2                0  6/19/1982               8   \n",
       "2      649            3                0  6/26/1982               1   \n",
       "3      649            4                0   7/3/1982               3   \n",
       "4      649            5                0  7/10/1982               5   \n",
       "\n",
       "   NUMBER DRAWN 2  NUMBER DRAWN 3  NUMBER DRAWN 4  NUMBER DRAWN 5  \\\n",
       "0              11              12              14              41   \n",
       "1              33              36              37              39   \n",
       "2               6              23              24              27   \n",
       "3               9              10              13              20   \n",
       "4              14              21              31              34   \n",
       "\n",
       "   NUMBER DRAWN 6  BONUS NUMBER  \n",
       "0              43            13  \n",
       "1              41             9  \n",
       "2              39            34  \n",
       "3              43            34  \n",
       "4              47            45  "
      ]
     },
     "execution_count": 20,
     "metadata": {},
     "output_type": "execute_result"
    }
   ],
   "source": [
    "# The first 5 rows\n",
    "historical_data.head()"
   ]
  },
  {
   "cell_type": "code",
   "execution_count": 21,
   "metadata": {
    "collapsed": false,
    "jupyter": {
     "outputs_hidden": false
    }
   },
   "outputs": [
    {
     "data": {
      "text/html": [
       "<div>\n",
       "<style scoped>\n",
       "    .dataframe tbody tr th:only-of-type {\n",
       "        vertical-align: middle;\n",
       "    }\n",
       "\n",
       "    .dataframe tbody tr th {\n",
       "        vertical-align: top;\n",
       "    }\n",
       "\n",
       "    .dataframe thead th {\n",
       "        text-align: right;\n",
       "    }\n",
       "</style>\n",
       "<table border=\"1\" class=\"dataframe\">\n",
       "  <thead>\n",
       "    <tr style=\"text-align: right;\">\n",
       "      <th></th>\n",
       "      <th>PRODUCT</th>\n",
       "      <th>DRAW NUMBER</th>\n",
       "      <th>SEQUENCE NUMBER</th>\n",
       "      <th>DRAW DATE</th>\n",
       "      <th>NUMBER DRAWN 1</th>\n",
       "      <th>NUMBER DRAWN 2</th>\n",
       "      <th>NUMBER DRAWN 3</th>\n",
       "      <th>NUMBER DRAWN 4</th>\n",
       "      <th>NUMBER DRAWN 5</th>\n",
       "      <th>NUMBER DRAWN 6</th>\n",
       "      <th>BONUS NUMBER</th>\n",
       "    </tr>\n",
       "  </thead>\n",
       "  <tbody>\n",
       "    <tr>\n",
       "      <th>3660</th>\n",
       "      <td>649</td>\n",
       "      <td>3587</td>\n",
       "      <td>0</td>\n",
       "      <td>6/6/2018</td>\n",
       "      <td>10</td>\n",
       "      <td>15</td>\n",
       "      <td>23</td>\n",
       "      <td>38</td>\n",
       "      <td>40</td>\n",
       "      <td>41</td>\n",
       "      <td>35</td>\n",
       "    </tr>\n",
       "    <tr>\n",
       "      <th>3661</th>\n",
       "      <td>649</td>\n",
       "      <td>3588</td>\n",
       "      <td>0</td>\n",
       "      <td>6/9/2018</td>\n",
       "      <td>19</td>\n",
       "      <td>25</td>\n",
       "      <td>31</td>\n",
       "      <td>36</td>\n",
       "      <td>46</td>\n",
       "      <td>47</td>\n",
       "      <td>26</td>\n",
       "    </tr>\n",
       "    <tr>\n",
       "      <th>3662</th>\n",
       "      <td>649</td>\n",
       "      <td>3589</td>\n",
       "      <td>0</td>\n",
       "      <td>6/13/2018</td>\n",
       "      <td>6</td>\n",
       "      <td>22</td>\n",
       "      <td>24</td>\n",
       "      <td>31</td>\n",
       "      <td>32</td>\n",
       "      <td>34</td>\n",
       "      <td>16</td>\n",
       "    </tr>\n",
       "    <tr>\n",
       "      <th>3663</th>\n",
       "      <td>649</td>\n",
       "      <td>3590</td>\n",
       "      <td>0</td>\n",
       "      <td>6/16/2018</td>\n",
       "      <td>2</td>\n",
       "      <td>15</td>\n",
       "      <td>21</td>\n",
       "      <td>31</td>\n",
       "      <td>38</td>\n",
       "      <td>49</td>\n",
       "      <td>8</td>\n",
       "    </tr>\n",
       "    <tr>\n",
       "      <th>3664</th>\n",
       "      <td>649</td>\n",
       "      <td>3591</td>\n",
       "      <td>0</td>\n",
       "      <td>6/20/2018</td>\n",
       "      <td>14</td>\n",
       "      <td>24</td>\n",
       "      <td>31</td>\n",
       "      <td>35</td>\n",
       "      <td>37</td>\n",
       "      <td>48</td>\n",
       "      <td>17</td>\n",
       "    </tr>\n",
       "  </tbody>\n",
       "</table>\n",
       "</div>"
      ],
      "text/plain": [
       "      PRODUCT  DRAW NUMBER  SEQUENCE NUMBER  DRAW DATE  NUMBER DRAWN 1  \\\n",
       "3660      649         3587                0   6/6/2018              10   \n",
       "3661      649         3588                0   6/9/2018              19   \n",
       "3662      649         3589                0  6/13/2018               6   \n",
       "3663      649         3590                0  6/16/2018               2   \n",
       "3664      649         3591                0  6/20/2018              14   \n",
       "\n",
       "      NUMBER DRAWN 2  NUMBER DRAWN 3  NUMBER DRAWN 4  NUMBER DRAWN 5  \\\n",
       "3660              15              23              38              40   \n",
       "3661              25              31              36              46   \n",
       "3662              22              24              31              32   \n",
       "3663              15              21              31              38   \n",
       "3664              24              31              35              37   \n",
       "\n",
       "      NUMBER DRAWN 6  BONUS NUMBER  \n",
       "3660              41            35  \n",
       "3661              47            26  \n",
       "3662              34            16  \n",
       "3663              49             8  \n",
       "3664              48            17  "
      ]
     },
     "execution_count": 21,
     "metadata": {},
     "output_type": "execute_result"
    }
   ],
   "source": [
    "# The last 5 rows\n",
    "historical_data.tail()"
   ]
  },
  {
   "cell_type": "markdown",
   "metadata": {},
   "source": [
    "For each drawing, we can find the six numbers drawn in the columns `NUMBER DRAWN 1`-`NUMBER DRAWN 6`.\n",
    "`DRAW NUMBER` is the draw's serial number.\n",
    "`DRAW DATE` is the date in which the draw took place.\n",
    "\n",
    "The rest of the columns are irrelevant to our project."
   ]
  },
  {
   "cell_type": "markdown",
   "metadata": {},
   "source": [
    "## Core Functions <a name=\"core_functions\"></a>"
   ]
  },
  {
   "cell_type": "markdown",
   "metadata": {},
   "source": [
    "We'll start by writing two functions that will be critical for us in our calculations: one to calculate factorials, and the other to calculate the number of permutations:"
   ]
  },
  {
   "cell_type": "code",
   "execution_count": 22,
   "metadata": {
    "collapsed": false,
    "jupyter": {
     "outputs_hidden": false
    }
   },
   "outputs": [],
   "source": [
    "def factorial(n: int) -> int:\n",
    "    \"\"\"\n",
    "    Calculate the factorial of a non-negative integer.\n",
    "    \n",
    "    Args:\n",
    "        n (int): A non-negative integer\n",
    "        \n",
    "    Returns:\n",
    "        int: The factorial of n (n!)\n",
    "        \n",
    "    Examples:\n",
    "        >>> factorial(5)\n",
    "        120\n",
    "        >>> factorial(0)\n",
    "        1\n",
    "        \n",
    "    Note:\n",
    "        The factorial of n (written n!) is the product of all positive\n",
    "        integers less than or equal to n. By definition, 0! = 1.\n",
    "    \"\"\"\n",
    "    fact = 1\n",
    "    for i in range(2, n + 1):\n",
    "        fact *= i\n",
    "\n",
    "    return fact\n",
    "\n",
    "\n",
    "def combinations(n: int, k: int) -> float:\n",
    "    \"\"\"\n",
    "    Calculate the number of ways to choose k items from a set of n items,\n",
    "    without regard to order (nCk).\n",
    "    \n",
    "    Args:\n",
    "        n (int): Total number of items to choose from (n >= 0)\n",
    "        k (int): Number of items being chosen (0 <= k <= n)\n",
    "        \n",
    "    Returns:\n",
    "        float: The number of possible combinations (n choose k)\n",
    "        \n",
    "    Examples:\n",
    "        >>> combinations(5, 2)\n",
    "        10.0\n",
    "        >>> combinations(4, 4)\n",
    "        1.0\n",
    "        >>> combinations(10, 3)\n",
    "        120.0\n",
    "        \n",
    "    Notes:\n",
    "        - Also known as the binomial coefficient (n choose k)\n",
    "        - Calculated using the formula: n! / (k! * (n-k)!)\n",
    "        - Returns a float due to division operation, even though\n",
    "          the result is always a whole number for valid inputs\n",
    "    \"\"\"\n",
    "    return factorial(n) / (factorial(k) * factorial(n - k))"
   ]
  },
  {
   "cell_type": "markdown",
   "metadata": {},
   "source": [
    "## One Ticket Probability <a name=\"one_ticket_probability\"></a>"
   ]
  },
  {
   "cell_type": "markdown",
   "metadata": {},
   "source": [
    "In the 6/49 lottery, six numbers are drawn from a set of 49 numbers that range from 1 to 49. A player wins the big prize if the six numbers on their tickets match all the six numbers drawn. e.g., If a player has a ticket with the numbers {13, 22, 24, 27, 42, 44}, he only wins the big prize if the numbers drawn are {13, 22, 24, 27, 42, 44}. If only one number differs, he doesn't win.\n",
    "\n",
    "For the first version of the app, we want players to be able to calculate the probability of winning the big prize with the various numbers they play on a single ticket (for each ticket a player chooses six numbers out of 49). So, we'll start by building a function that calculates the probability of winning the big prize for any given ticket.\n",
    "\n",
    "The engineering team informed us that we need to be aware of the following details when we write the function:\n",
    "\n",
    "* Inside the app, the user inputs six different numbers from 1 to 49\n",
    "* Under the hood, the six numbers will come as a Python list, which will serve as the single input to our function\n",
    "* The function should print the probability value in a friendly way — in a way that people without any probability training are able to understand"
   ]
  },
  {
   "cell_type": "code",
   "execution_count": 23,
   "metadata": {
    "collapsed": false,
    "jupyter": {
     "outputs_hidden": false
    }
   },
   "outputs": [],
   "source": [
    "def one_ticket_probability(ticket: list) -> None:\n",
    "    \"\"\"\n",
    "    Calculate and display the probability of winning a 6/49 lottery with a single ticket.\n",
    "    \n",
    "    This function calculates the odds of winning a lottery where 6 numbers are drawn\n",
    "    from a pool of 49 numbers without replacement, and displays the results both as\n",
    "    a percentage and as a \"1 in X\" ratio.\n",
    "    \n",
    "    Args:\n",
    "        ticket (list): A list of 6 numbers representing a lottery ticket\n",
    "            (Note: The current implementation doesn't validate the ticket numbers)\n",
    "            \n",
    "    Returns:\n",
    "        None: Results are printed to stdout rather than returned\n",
    "        \n",
    "    Examples:\n",
    "        >>> one_ticket_probability([1, 2, 3, 4, 5, 6])\n",
    "        The chances that a ticket with the numbers [1, 2, 3, 4, 5, 6] will win the grand prize are 0.0000072%\n",
    "        In other words, you have a 1 in 13,983,816 chance of winning\n",
    "    \n",
    "    Notes:\n",
    "        - Uses the combinations formula to calculate total possible outcomes\n",
    "        - Assumes a 6/49 lottery format where order doesn't matter\n",
    "        - Prints results formatted to 7 decimal places for percentages\n",
    "        - Uses comma formatting for the \"1 in X\" odds display\n",
    "    \"\"\"\n",
    "    total_outcomes = combinations(49, 6)\n",
    "    \n",
    "    # There's only one ticket, so only one successful outcome\n",
    "    winning_probability = 1 / total_outcomes\n",
    "    \n",
    "    print(\"The chances that a ticket with the numbers {} will win the grand prize are {:.7f}%\".format(ticket, winning_probability * 100))\n",
    "    print(\"In other words, you have a 1 in {:,} chance of winning\".format(int(total_outcomes)))"
   ]
  },
  {
   "cell_type": "markdown",
   "metadata": {},
   "source": [
    "Let's test our function:"
   ]
  },
  {
   "cell_type": "code",
   "execution_count": 24,
   "metadata": {
    "collapsed": false,
    "jupyter": {
     "outputs_hidden": false
    }
   },
   "outputs": [
    {
     "name": "stdout",
     "output_type": "stream",
     "text": [
      "The chances that a ticket with the numbers [1, 2, 3, 4, 5, 6] will win the grand prize are 0.0000072%\n",
      "In other words, you have a 1 in 13,983,816 chance of winning\n"
     ]
    }
   ],
   "source": [
    "ticket = [1, 2, 3, 4, 5, 6]\n",
    "one_ticket_probability(ticket)"
   ]
  },
  {
   "cell_type": "code",
   "execution_count": 25,
   "metadata": {
    "collapsed": false,
    "jupyter": {
     "outputs_hidden": false
    }
   },
   "outputs": [
    {
     "name": "stdout",
     "output_type": "stream",
     "text": [
      "The chances that a ticket with the numbers [32, 15, 17, 3, 28, 43] will win the grand prize are 0.0000072%\n",
      "In other words, you have a 1 in 13,983,816 chance of winning\n"
     ]
    }
   ],
   "source": [
    "ticket = [32, 15, 17, 3, 28, 43]\n",
    "one_ticket_probability(ticket)"
   ]
  },
  {
   "cell_type": "markdown",
   "metadata": {},
   "source": [
    "In this step we claculated the odds of winning the grand prize with a single ticket.\n",
    "As you can see, that odds of winning are very slim (almost 1 in 14 million). We can also see that as expected, the odds of winning for an \"interesting\" choice (such as 1, 2, 3, 4, 5, 6) are identical to the odds of an \"uninteresting\" or random choice (e.g. 32, 15, 17, 3, 28, 43)."
   ]
  },
  {
   "cell_type": "markdown",
   "metadata": {},
   "source": [
    "## Historical Data Check for Canada Lottery <a name=\"historical_data_check\"></a>"
   ]
  },
  {
   "cell_type": "markdown",
   "metadata": {},
   "source": [
    "For the first version of the app, in addition to knowing their odds of wiining, users should be able to compare their ticket against the historical lottery data in Canada and determine whether they would have ever won by now."
   ]
  },
  {
   "cell_type": "markdown",
   "metadata": {},
   "source": [
    "### Functions for Historical Data Check <a name=\"functions_for_historical_data_check\"></a>"
   ]
  },
  {
   "cell_type": "markdown",
   "metadata": {},
   "source": [
    "We'd like to write a function that will enable users to compare their ticket against the historical lottery data in Canada and determine whether they would have ever won by now.\n",
    "\n",
    "According to the engineering team we need to be aware of the following details:\n",
    "* Inside the app, the user inputs six different numbers from 1 to 49\n",
    "* Under the hood, the six numbers will come as a Python list and serve as an input to our function\n",
    "\n",
    "Also, the function should print:\n",
    "* The number of times the combination selected occurred in the Canada data set\n",
    "* The probability of winning the big prize in the next drawing with that combination\n",
    "\n",
    "Let's begin:"
   ]
  },
  {
   "cell_type": "code",
   "execution_count": 26,
   "metadata": {
    "collapsed": false,
    "jupyter": {
     "outputs_hidden": false
    }
   },
   "outputs": [],
   "source": [
    "def extract_numbers(row) -> set:\n",
    "    \"\"\"\n",
    "    Extract lottery numbers from a data row containing drawn numbers.\n",
    "    \n",
    "    Takes a row of data (presumably from a DataFrame or similar structure) and\n",
    "    extracts the lottery numbers from columns labeled \"NUMBER DRAWN 1\" through\n",
    "    \"NUMBER DRAWN 6\", returning them as a set.\n",
    "    \n",
    "    Args:\n",
    "        row: A row-like object supporting dictionary-style access to columns\n",
    "            named \"NUMBER DRAWN 1\" through \"NUMBER DRAWN 6\"\n",
    "            \n",
    "    Returns:\n",
    "        set: A set containing the six drawn lottery numbers\n",
    "        \n",
    "    Examples:\n",
    "        >>> sample_row = {'NUMBER DRAWN 1': 7, 'NUMBER DRAWN 2': 13, \n",
    "        ...              'NUMBER DRAWN 3': 25, 'NUMBER DRAWN 4': 31,\n",
    "        ...              'NUMBER DRAWN 5': 43, 'NUMBER DRAWN 6': 49}\n",
    "        >>> extract_numbers(sample_row)\n",
    "        {7, 13, 25, 31, 43, 49}\n",
    "    \n",
    "    Notes:\n",
    "        - Assumes columns are named exactly \"NUMBER DRAWN X\" where X is 1-6\n",
    "        - Returns numbers in an unordered set since order doesn't matter for lottery matches\n",
    "        - No validation is performed on the input row or extracted numbers\n",
    "    \"\"\"\n",
    "    numbers = set()\n",
    "    for i in range(1, 7):\n",
    "        column = \"NUMBER DRAWN \" + str(i)\n",
    "        numbers.add(row[column])\n",
    "    return numbers"
   ]
  },
  {
   "cell_type": "markdown",
   "metadata": {},
   "source": [
    "Now let's extract all the winning numbers from the dataframe:"
   ]
  },
  {
   "cell_type": "code",
   "execution_count": 27,
   "metadata": {
    "collapsed": false,
    "jupyter": {
     "outputs_hidden": false
    }
   },
   "outputs": [],
   "source": [
    "historical_wins = historical_data.apply(extract_numbers, axis=1)"
   ]
  },
  {
   "cell_type": "code",
   "execution_count": 28,
   "metadata": {
    "collapsed": false,
    "jupyter": {
     "outputs_hidden": false
    }
   },
   "outputs": [],
   "source": [
    "def check_historical_occurence(user_numbers: list, historical_wins: pd.Series, print_outcome:bool=True) -> bool:\n",
    "    \"\"\"\n",
    "    Check if a set of lottery numbers has previously won and display statistical information.\n",
    "    \n",
    "    Compares a user's chosen numbers against a historical record of winning lottery numbers\n",
    "    and optionally prints information about past occurrences along with a reminder about\n",
    "    the gambler's fallacy.\n",
    "    \n",
    "    Args:\n",
    "        user_numbers (list): A list of 6 numbers representing the user's chosen lottery numbers\n",
    "        historical_wins (pd.Series): A pandas Series containing sets of historical winning numbers\n",
    "        print_outcome (bool, optional): Whether to print detailed results. Defaults to True\n",
    "        \n",
    "    Returns:\n",
    "        bool: True if the numbers have won before, False otherwise\n",
    "        \n",
    "    Examples:\n",
    "        >>> numbers = [1, 2, 3, 4, 5, 6]\n",
    "        >>> check_historical_occurence(numbers, historical_data)\n",
    "        The numbers [1, 2, 3, 4, 5, 6] have been the winning numbers 0 times\n",
    "        Since lottery draws are independent of one another, the number of times a certain set of numbers\n",
    "        has won has no effect on the numbers' probability of winning in the future.\n",
    "        The probability of winning the big prize in the next drawing with [1, 2, 3, 4, 5, 6] is the same\n",
    "        as the probability of winning with every other set of numbers: 1 to 13,983,816.\n",
    "    \n",
    "    Notes:\n",
    "        - Converts input numbers to a set for comparison since order doesn't matter\n",
    "        - Includes educational message about probability independence\n",
    "        - Uses comma formatting for large numbers in output\n",
    "        - Assumes historical_wins Series contains sets of numbers for comparison\n",
    "        \n",
    "    See Also:\n",
    "        combinations: Used to calculate the odds of winning\n",
    "    \"\"\"\n",
    "    \n",
    "    # Convert the user's numbers into a set\n",
    "    user_numbers_set = set(user_numbers)\n",
    "    \n",
    "    # Check if the user's chosen numbers ever won the lottery\n",
    "    matches = (historical_wins == user_numbers_set)\n",
    "    \n",
    "    num_matches = matches.sum()\n",
    "    if (print_outcome):\n",
    "        print(\"The numbers {} have been the winning numbers {} times\".format(user_numbers, num_matches))\n",
    "\n",
    "        print(\"Since lottery draws are independent of one another, the number of times a certain set of numbers has won has no effect on the numbers' probability of winning in the future.\")\n",
    "        print(\"The probability of winning the big prize in the next drawing with {} is the same as the probability of winning with every other set of numbers: 1 to {:,}.\".format(user_numbers, int(combinations(49, 6))))\n",
    "\n",
    "    return bool(num_matches)"
   ]
  },
  {
   "cell_type": "markdown",
   "metadata": {},
   "source": [
    "And check our function with a few random inputs:"
   ]
  },
  {
   "cell_type": "code",
   "execution_count": 29,
   "metadata": {
    "collapsed": false,
    "jupyter": {
     "outputs_hidden": false
    }
   },
   "outputs": [
    {
     "name": "stdout",
     "output_type": "stream",
     "text": [
      "The numbers [40, 9, 38, 7, 6, 30] have been the winning numbers 0 times\n",
      "Since lottery draws are independent of one another, the number of times a certain set of numbers has won has no effect on the numbers' probability of winning in the future.\n",
      "The probability of winning the big prize in the next drawing with [40, 9, 38, 7, 6, 30] is the same as the probability of winning with every other set of numbers: 1 to 13,983,816.\n",
      "\n",
      "The numbers [35, 24, 6, 28, 48, 3] have been the winning numbers 0 times\n",
      "Since lottery draws are independent of one another, the number of times a certain set of numbers has won has no effect on the numbers' probability of winning in the future.\n",
      "The probability of winning the big prize in the next drawing with [35, 24, 6, 28, 48, 3] is the same as the probability of winning with every other set of numbers: 1 to 13,983,816.\n",
      "\n",
      "The numbers [20, 37, 39, 10, 30, 17] have been the winning numbers 0 times\n",
      "Since lottery draws are independent of one another, the number of times a certain set of numbers has won has no effect on the numbers' probability of winning in the future.\n",
      "The probability of winning the big prize in the next drawing with [20, 37, 39, 10, 30, 17] is the same as the probability of winning with every other set of numbers: 1 to 13,983,816.\n",
      "\n"
     ]
    }
   ],
   "source": [
    "import random\n",
    "for _ in range(3):\n",
    "    ticket = random.sample(range(1, 50), 6)\n",
    "    check_historical_occurence(ticket, historical_wins)\n",
    "    print()"
   ]
  },
  {
   "cell_type": "markdown",
   "metadata": {},
   "source": [
    "As expected, none of the randomly generated sets have won the 6/49 lottery in the past, since the odds are so slim."
   ]
  },
  {
   "cell_type": "markdown",
   "metadata": {},
   "source": [
    "### Finding Winning Tickets <a name=\"finding_winning_tickets\"></a>"
   ]
  },
  {
   "cell_type": "markdown",
   "metadata": {},
   "source": [
    "As a little experiment, let's continue generating 6-numbers sets until we find one that's won, and repeat that 100 times."
   ]
  },
  {
   "cell_type": "code",
   "execution_count": 30,
   "metadata": {},
   "outputs": [],
   "source": [
    "def randomly_find_a_winning_ticket(historical_wins, print_outcome = True) -> int:\n",
    "    \"\"\"\n",
    "    Simulate buying random lottery tickets until finding one that matches a historical winner.\n",
    "    \n",
    "    Repeatedly generates random combinations of 6 numbers (1-49) and checks each against\n",
    "    historical winning numbers until finding a match. This simulates the process of\n",
    "    buying random lottery tickets until winning.\n",
    "    \n",
    "    Args:\n",
    "        historical_wins: A collection of historical winning number combinations\n",
    "            (compatible with check_historical_occurence function)\n",
    "        print_outcome (bool, optional): Whether to print the results. Defaults to True\n",
    "        \n",
    "    Returns:\n",
    "        int: The number of tickets generated before finding a winning combination\n",
    "        \n",
    "    Examples:\n",
    "        >>> randomly_find_a_winning_ticket(historical_data)\n",
    "        Generated 13945721 tickets before finding a winning ticket ([3, 12, 24, 32, 38, 44])\n",
    "        13945721\n",
    "        \n",
    "    Notes:\n",
    "        - Uses random.sample to ensure numbers are unique\n",
    "        - Numbers are generated in range 1-49 inclusive\n",
    "        - This is a simulation and actual results will vary due to randomness\n",
    "        - Could potentially run for a very long time before finding a match\n",
    "        - Memory efficient as only one ticket is stored at a time\n",
    "        \n",
    "    See Also:\n",
    "        check_historical_occurence: Used to verify if generated numbers have won before\n",
    "        random.sample: Used to generate unique random numbers\n",
    "    \"\"\"\n",
    "    \n",
    "    count = 0\n",
    "    while True:\n",
    "        ticket = random.sample(range(1, 50), 6)\n",
    "        count += 1\n",
    "        match = check_historical_occurence(ticket, historical_wins, print_outcome=False)\n",
    "        if match:\n",
    "            break\n",
    "    if print_outcome:\n",
    "        print(\"Generated {} tickets before finding a winning ticket ({})\".format(count, ticket))\n",
    "\n",
    "    return count"
   ]
  },
  {
   "cell_type": "markdown",
   "metadata": {},
   "source": [
    "#### Warning\n",
    "The following code takes a significant time to run. Uncomment and run it only if needed"
   ]
  },
  {
   "cell_type": "code",
   "execution_count": 44,
   "metadata": {
    "collapsed": false,
    "jupyter": {
     "outputs_hidden": false
    }
   },
   "outputs": [],
   "source": [
    "counts = []\n",
    "for _ in range(100):\n",
    "    count = randomly_find_a_winning_ticket(historical_wins, print_outcome=False)\n",
    "    counts.append(count)"
   ]
  },
  {
   "cell_type": "code",
   "execution_count": 45,
   "metadata": {
    "collapsed": false,
    "jupyter": {
     "outputs_hidden": false
    }
   },
   "outputs": [
    {
     "data": {
      "image/png": "[encoded data removed]",
      "text/plain": [
       "<Figure size 800x600 with 1 Axes>"
      ]
     },
     "metadata": {},
     "output_type": "display_data"
    }
   ],
   "source": [
    "fig = plt.figure(figsize =(8, 6)) \n",
    "plt.hist(counts, bins=15)\n",
    "plt.title(\"Average Number of Tickets Generated Before Finding a Winning Ticket\", y=1.1)\n",
    "plt.xlabel(\"Number of Tickets Generated\")\n",
    "plt.ylabel(\"Frequency\")\n",
    "plt.show()"
   ]
  },
  {
   "cell_type": "code",
   "execution_count": 46,
   "metadata": {
    "collapsed": false,
    "jupyter": {
     "outputs_hidden": false
    }
   },
   "outputs": [
    {
     "data": {
      "text/plain": [
       "count      100.000000\n",
       "mean      3781.180000\n",
       "std       3648.650018\n",
       "min         53.000000\n",
       "25%       1183.500000\n",
       "50%       2629.000000\n",
       "75%       5235.500000\n",
       "max      18743.000000\n",
       "dtype: float64"
      ]
     },
     "execution_count": 46,
     "metadata": {},
     "output_type": "execute_result"
    }
   ],
   "source": [
    "first_match_counts = pd.Series(counts)\n",
    "first_match_counts.describe()"
   ]
  },
  {
   "cell_type": "markdown",
   "metadata": {},
   "source": [
    "Since the total number of draws is 3,665 and the number of outcomes is 13,983,816, the chance of selecting a winning draw is `3,665/13,983,816` or `1 to 3,815.5`.\n",
    "So the expected number of tickets we'd need to generate before hitting a winning draw is `3,815.5`. \n",
    "Our experiment shows that it takes on average `3,781.18` tickets before generating a winning one, which matches quite nicely with the calculated expected value."
   ]
  },
  {
   "cell_type": "markdown",
   "metadata": {
    "collapsed": true,
    "jupyter": {
     "outputs_hidden": true
    }
   },
   "source": [
    "## Multi-ticket Probability <a name=\"multi_ticket_probability\"></a>"
   ]
  },
  {
   "cell_type": "markdown",
   "metadata": {},
   "source": [
    "We found that the odds of winning with a single ticket are very low.\n",
    "Does playing multiple tickets make more sense? Let's check.\n",
    "We're going to write a new function that checks the multi-ticket winning probability, by these guidelines from the engineering team:\n",
    "* The user will input the number of different tickets they want to play (without inputting the specific combinations they intend to play)\n",
    "* Our function will see an integer between 1 and 13,983,816 (the maximum number of different tickets)\n",
    "* The function should print information about the probability of winning the big prize depending on the number of different tickets played"
   ]
  },
  {
   "cell_type": "code",
   "execution_count": 36,
   "metadata": {},
   "outputs": [],
   "source": [
    "def multi_ticket_probability(n_tickets: int) -> None:\n",
    "    \"\"\"\n",
    "    Calculate and display the probability of winning a 6/49 lottery with multiple tickets.\n",
    "    \n",
    "    Computes the odds of winning when playing multiple unique combinations in a single\n",
    "    lottery draw. Assumes all tickets have different number combinations and displays\n",
    "    results both as a percentage and as a \"1 in X\" ratio.\n",
    "    \n",
    "    Args:\n",
    "        n_tickets (int): Number of unique ticket combinations to be played\n",
    "            Must be between 1 and 13,983,816 (total possible combinations)\n",
    "            \n",
    "    Returns:\n",
    "        None: Results are printed to stdout rather than returned\n",
    "        \n",
    "    Examples:\n",
    "        >>> multi_ticket_probability(1)\n",
    "        The odds of winning the grand prize by playing one ticket are: 0.0000072%\n",
    "        In other words, you have a 1 in 13,983,816 chance of winning\n",
    "        \n",
    "        >>> multi_ticket_probability(1000)\n",
    "        The odds of winning the grand prize by playing 1000 tickets are: 0.0071510%\n",
    "        In other words, you have a 1 in 13,984 chance of winning\n",
    "    \n",
    "    Notes:\n",
    "        - Uses the combinations formula to calculate total possible outcomes (49C6)\n",
    "        - Assumes all tickets have different number combinations\n",
    "        - Prints results formatted to 7 decimal places for percentages\n",
    "        - Uses comma formatting for the \"1 in X\" odds display\n",
    "        - Automatically adjusts output text between \"one ticket\" and \"X tickets\"\n",
    "        \n",
    "    See Also:\n",
    "        combinations: Used to calculate total possible lottery combinations\n",
    "    \"\"\"\n",
    "    \n",
    "    # Start by calculating the total number of possible outcomes\n",
    "    total_outcomes = combinations(49, 6)\n",
    "    \n",
    "    # The winning probability is given by N(Successful outcomes) / N(Possible outcomes)\n",
    "    # The number of successful outcomes is given by the number of tickets the user intends to play\n",
    "    p_win = n_tickets / total_outcomes\n",
    "    \n",
    "    ticket_num_text = \"one ticket\" if n_tickets == 1 else \"{} tickets\".format(n_tickets)\n",
    "    print(\"The odds of winning the grand prize by playing {} are: {:.7f}%\".format(ticket_num_text, p_win * 100))\n",
    "    print(\"In other words, you have a 1 in {:,} chance of winning\".format(int(1 / p_win)))"
   ]
  },
  {
   "cell_type": "code",
   "execution_count": 37,
   "metadata": {
    "collapsed": false,
    "jupyter": {
     "outputs_hidden": false
    }
   },
   "outputs": [
    {
     "name": "stdout",
     "output_type": "stream",
     "text": [
      "The odds of winning the grand prize by playing one ticket are: 0.0000072%\n",
      "In other words, you have a 1 in 13,983,816 chance of winning\n",
      "\n",
      "The odds of winning the grand prize by playing 10 tickets are: 0.0000715%\n",
      "In other words, you have a 1 in 1,398,381 chance of winning\n",
      "\n",
      "The odds of winning the grand prize by playing 100 tickets are: 0.0007151%\n",
      "In other words, you have a 1 in 139,838 chance of winning\n",
      "\n",
      "The odds of winning the grand prize by playing 10000 tickets are: 0.0715112%\n",
      "In other words, you have a 1 in 1,398 chance of winning\n",
      "\n",
      "The odds of winning the grand prize by playing 1000000 tickets are: 7.1511238%\n",
      "In other words, you have a 1 in 13 chance of winning\n",
      "\n",
      "The odds of winning the grand prize by playing 6991908 tickets are: 50.0000000%\n",
      "In other words, you have a 1 in 2 chance of winning\n",
      "\n",
      "The odds of winning the grand prize by playing 13983816 tickets are: 100.0000000%\n",
      "In other words, you have a 1 in 1 chance of winning\n",
      "\n"
     ]
    }
   ],
   "source": [
    "inputs = [1, 10, 100, 10000, 1000000, 6991908, 13983816]\n",
    "\n",
    "for input in inputs:\n",
    "    multi_ticket_probability(input)\n",
    "    print()"
   ]
  },
  {
   "cell_type": "markdown",
   "metadata": {},
   "source": [
    "As we can see above, every ticket you play increases your chances of winning the grand prize, but you'd need to buy and play almost 14 million tickets in order to guarantee a win."
   ]
  },
  {
   "cell_type": "markdown",
   "metadata": {},
   "source": [
    "## Fewer Winning Numbers <a name=\"fewer_winning_numbers\"></a>"
   ]
  },
  {
   "cell_type": "markdown",
   "metadata": {
    "collapsed": true,
    "jupyter": {
     "outputs_hidden": true
    }
   },
   "source": [
    "In most 6/49 lotteries there are smaller prizes if a player's ticket match two, three, four, or five of the six numbers drawn. As a consequence, the users might be interested in knowing the probability of having two, three, four, or five winning numbers.\n",
    "So, we're going to write one more function to allow the users to calculate probabilities for fewer than six winning numbers.\n",
    "The engineering team wants us to be aware of the following:\n",
    "* Inside the app, the user inputs:\n",
    "  * six different numbers from 1 to 49; and\n",
    "  * an integer between 2 and 5 that represents the number of winning numbers expected\n",
    "* Our function prints information about the probability of having the inputted number of winning numbers.\n",
    "\n",
    "The following function calculates the probability of matching exactly `n` of the winning numbers:"
   ]
  },
  {
   "cell_type": "markdown",
   "metadata": {},
   "source": [
    "#### Exact number of winning numbers <a name=\"exact_number\"></a>"
   ]
  },
  {
   "cell_type": "code",
   "execution_count": 38,
   "metadata": {},
   "outputs": [],
   "source": [
    "def probability_less_6(n: int, print_outcome = True) -> float:\n",
    "    \"\"\"\n",
    "    Calculate the probability of matching exactly n numbers in a 6/49 lottery draw.\n",
    "    \n",
    "    Computes the probability of getting exactly n matching numbers (not more, not less) \n",
    "    when playing a single ticket in a 6/49 lottery. Uses the hypergeometric probability\n",
    "    formula by calculating possible combinations of matching and non-matching numbers.\n",
    "    \n",
    "    Args:\n",
    "       n (int): Number of matching numbers to calculate probability for\n",
    "           Must be between 0 and 6 inclusive\n",
    "       print_outcome (bool, optional): Whether to print formatted results. Defaults to True\n",
    "       \n",
    "    Returns:\n",
    "       float: Probability of matching exactly n numbers (as a decimal between 0 and 1)\n",
    "       \n",
    "    Examples:\n",
    "       >>> probability_less_6(3)\n",
    "       The odds of correctly guessing exactly 3 numbers with this ticket are 1.3197069%.\n",
    "       In other words, your chances are 1 to 76.\n",
    "       0.013197069499011\n",
    "       \n",
    "       >>> probability_less_6(5, print_outcome=False)\n",
    "       0.000103221769363\n",
    "    \n",
    "    Notes:\n",
    "       - Uses combinations formula to calculate:\n",
    "         * Ways to choose n numbers from 6 winning numbers\n",
    "         * Ways to choose (6-n) numbers from 43 non-winning numbers\n",
    "       - Divides by total possible combinations (49C6) to get probability\n",
    "       - Prints results with 7 decimal places for percentages\n",
    "       - Uses comma formatting for the \"1 in X\" odds display\n",
    "       \n",
    "    See Also:\n",
    "       combinations: Used to calculate various combination values\n",
    "    \"\"\"\n",
    "    \n",
    "    # Get all the combinations of n numbers out of 6\n",
    "    combinations_of_n_winning_numbers = combinations(6, n)\n",
    "    \n",
    "    # Get all the combinations of the remaining numbers\n",
    "    # From the (49 - 6 = 43) numbers that didn't win\n",
    "    combinations_remaining = combinations(43, 6 - n)\n",
    "    \n",
    "    # Multiply both to get all successful outcomes\n",
    "    successful_outcomes = combinations_of_n_winning_numbers * combinations_remaining\n",
    "    \n",
    "    total_outcomes = combinations(49, 6)\n",
    "    \n",
    "    \n",
    "    p_n = successful_outcomes / total_outcomes\n",
    "    \n",
    "    if print_outcome:\n",
    "        print(\"The odds of correctly guessing exactly {} numbers with this ticket are {:.7f}%. In other words, your chances are 1 to {:,}.\".format(n, p_n * 100, int(round(1/p_n))))\n",
    "    \n",
    "    return p_n"
   ]
  },
  {
   "cell_type": "markdown",
   "metadata": {},
   "source": [
    "Let's see what are the odds for correctly guessing 2, 3, 4 or 5 numbers:"
   ]
  },
  {
   "cell_type": "code",
   "execution_count": 39,
   "metadata": {
    "collapsed": false,
    "jupyter": {
     "outputs_hidden": false
    }
   },
   "outputs": [
    {
     "name": "stdout",
     "output_type": "stream",
     "text": [
      "The odds of correctly guessing exactly 2 numbers with this ticket are 13.2378029%. In other words, your chances are 1 to 8.\n",
      "\n",
      "The odds of correctly guessing exactly 3 numbers with this ticket are 1.7650404%. In other words, your chances are 1 to 57.\n",
      "\n",
      "The odds of correctly guessing exactly 4 numbers with this ticket are 0.0968620%. In other words, your chances are 1 to 1,032.\n",
      "\n",
      "The odds of correctly guessing exactly 5 numbers with this ticket are 0.0018450%. In other words, your chances are 1 to 54,201.\n",
      "\n"
     ]
    }
   ],
   "source": [
    "for n in range(2, 6):\n",
    "    probability_less_6(n)\n",
    "    print()"
   ]
  },
  {
   "cell_type": "markdown",
   "metadata": {},
   "source": [
    "#### Minimum number of winning numbers <a name=\"minimum_number\"></a>"
   ]
  },
  {
   "cell_type": "markdown",
   "metadata": {},
   "source": [
    "In addition to calculating the odds of correctly guessing a specific number of winning numbers we can also calculate the odds of correctly guessing *at least* a number of winning numbers.\n",
    "The following function does that:"
   ]
  },
  {
   "cell_type": "code",
   "execution_count": 40,
   "metadata": {},
   "outputs": [],
   "source": [
    "def probability_at_least(n: int, print_outcome = True) -> None:\n",
    "    \"\"\"\n",
    "    Calculate the probability of matching n or more numbers in a 6/49 lottery draw.\n",
    "    \n",
    "    Computes the cumulative probability of matching n, n+1, ..., up to 6 numbers\n",
    "    when playing a single ticket in a 6/49 lottery. This represents the probability\n",
    "    of getting at least n matches.\n",
    "    \n",
    "    Args:\n",
    "       n (int): Minimum number of matching numbers to calculate probability for\n",
    "           Must be between 0 and 6 inclusive\n",
    "       print_outcome (bool, optional): Whether to print formatted results. Defaults to True\n",
    "       \n",
    "    Returns:\n",
    "       None: Results are printed to stdout rather than returned\n",
    "       \n",
    "    Examples:\n",
    "       >>> probability_at_least(4)\n",
    "       The odds of correctly guessing at least 4 numbers with this ticket are 0.0186442%.\n",
    "       In other words, your chances are 1 to 5,364.\n",
    "       \n",
    "       >>> probability_at_least(6)  # Probability of perfect match\n",
    "       The odds of correctly guessing at least 6 numbers with this ticket are 0.0000072%.\n",
    "       In other words, your chances are 1 to 13,983,816.\n",
    "    \n",
    "    Notes:\n",
    "       - Calculates sum of probabilities for exactly n, n+1, ..., 6 matches\n",
    "       - Uses probability_less_6() function for individual probability calculations\n",
    "       - Prints results with 7 decimal places for percentages\n",
    "       - Uses comma formatting for the \"1 in X\" odds display\n",
    "       \n",
    "    See Also:\n",
    "       probability_less_6: Used to calculate individual match probabilities\n",
    "       \n",
    "    Raises:\n",
    "       ValueError: If n is not between 0 and 6 inclusive\n",
    "    \"\"\"\n",
    "   \n",
    "    p_n = 0\n",
    "    for num in range(n, 7):\n",
    "        p_n += probability_less_6(num, print_outcome=False)\n",
    "    \n",
    "    if print_outcome:\n",
    "        print(\"The odds of correctly guessing at least {} numbers with this ticket are {:.7f}%. In other words, your chances are 1 to {:,}.\".format(n, p_n * 100, int(round(1/p_n))))"
   ]
  },
  {
   "cell_type": "code",
   "execution_count": 42,
   "metadata": {
    "collapsed": false,
    "jupyter": {
     "outputs_hidden": false
    }
   },
   "outputs": [
    {
     "name": "stdout",
     "output_type": "stream",
     "text": [
      "The odds of correctly guessing at least 2 numbers with this ticket are 15.1015574%. In other words, your chances are 1 to 7.\n",
      "\n",
      "The odds of correctly guessing at least 3 numbers with this ticket are 1.8637545%. In other words, your chances are 1 to 54.\n",
      "\n",
      "The odds of correctly guessing at least 4 numbers with this ticket are 0.0987141%. In other words, your chances are 1 to 1,013.\n",
      "\n",
      "The odds of correctly guessing at least 5 numbers with this ticket are 0.0018521%. In other words, your chances are 1 to 53,992.\n",
      "\n",
      "The odds of correctly guessing at least 6 numbers with this ticket are 0.0000072%. In other words, your chances are 1 to 13,983,816.\n",
      "\n"
     ]
    }
   ],
   "source": [
    "for n in range(2, 7):\n",
    "    probability_at_least(n)\n",
    "    print()"
   ]
  },
  {
   "cell_type": "markdown",
   "metadata": {},
   "source": [
    "## Next Steps <a name=\"next_steps\"></a>"
   ]
  },
  {
   "cell_type": "markdown",
   "metadata": {},
   "source": [
    "For the next version of the app we can suggest the following features:\n",
    "* Add the cost of tickets and the values of the various prizes, to calculate the expected profit (or, more realisticly, expected loss)\n",
    "* Add comparisons to other unlikely events, to make clear how unlikely winning the lottery is"
   ]
  },
  {
   "cell_type": "markdown",
   "metadata": {},
   "source": [
    "## Conclusion <a name=\"conclusion\"></a>"
   ]
  },
  {
   "cell_type": "markdown",
   "metadata": {},
   "source": [
    "In a standard 6/49 lottery there are almost 14 million different ticket combinations. The odds are stacked against the player, and there's no combination that increases them.\n",
    "\n",
    "With a price of \\\\$3 per ticket, you'd need to buy about $42 million worth of tickets to guarantee a win, and the prize pot is usually much lower than that amount.\n",
    "\n",
    "We've created a framework for a first version of an app that helps potential players know the actual odds of winning the lottery, which will hopefully convince them not to spend their money on the game."
   ]
  }
 ],
 "metadata": {
  "kernelspec": {
   "display_name": "Python 3 (ipykernel)",
   "language": "python",
   "name": "python3"
  },
  "language_info": {
   "codemirror_mode": {
    "name": "ipython",
    "version": 3
   },
   "file_extension": ".py",
   "mimetype": "text/x-python",
   "name": "python",
   "nbconvert_exporter": "python",
   "pygments_lexer": "ipython3",
   "version": "3.11.9"
  }
 },
 "nbformat": 4,
 "nbformat_minor": 4
}
