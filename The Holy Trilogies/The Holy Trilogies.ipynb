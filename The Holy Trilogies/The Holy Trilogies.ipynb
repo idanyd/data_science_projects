{
 "cells": [
  {
   "cell_type": "markdown",
   "metadata": {
    "collapsed": true,
    "jupyter": {
     "outputs_hidden": true
    }
   },
   "source": [
    "# The Holy Trilogies: Finding the Most Loved Star Film"
   ]
  },
  {
   "cell_type": "markdown",
   "metadata": {},
   "source": [
    "## Contents\n",
    "* [The Goal](#Goal)\n",
    "* [Background](#Background)\n",
    "* [The Results](#Results)\n",
    "* [The Data](#The_Data)\n",
    "* [Initial Observations](#Initial_Observations)\n",
    "* [Data Cleaning](#Data_Cleaning)\n",
    "  * [Mapping Yes/No Columns](#Mapping_Yes_No_Columns)\n",
    "  * [Cleaning and Mapping Checkbox Columns](#Cleaning_and_Mapping_Checkbox_Columns)\n",
    "  * [Cleaning the Ranking Columns](#Cleaning_the_Ranking_Columns)\n",
    "  * [Cleaning the Favorable Characters Columns](#Cleaning_the_Favorable_Characters_Columns)\n",
    "* [Analysis](#Analysis)\n",
    "  * [Finding the Highest-Ranked Movie](#Finding_the_Highest_Ranked_Movie)\n",
    "  * [Finding the Most Viewed Star Wars Film](#Finding_the_Most_Viewed_Star_Wars_Film)\n",
    "  * [Exploring the Data by Binary Segments](#Exploring_the_Data_by_Binary_Segments)\n",
    "  * [Exploring the Difference Between Education Levels](#Exploring_the_Difference_Between_Education_Levels)\n",
    "  * [Exploring Trekkies' Rankings](#Exploring_Trekkies_Rankings)\n",
    "  * [Exploring the Star Wars/Trek Divide](#Exploring_the_Star_Wars_Trek_Divide)\n",
    "  * [Exploring Favourite Characters](#Exploring_Favourite_Characters)\n",
    "    * [Most Liked](#Most_Liked)\n",
    "    * [Most Disliked](#Most_Disliked)\n",
    "    * [Most Controversial character](#Most_Controversial_character)\n",
    "* [Conclusion](#Conclusion)"
   ]
  },
  {
   "cell_type": "markdown",
   "metadata": {},
   "source": [
    "### The Goal <a name=\"Goal\"></a>\n",
    "For this project we'll explore a dataset collected from a survey of Star Wars fans.\n",
    "\n",
    "### Background <a name=\"Background\"></a>\n",
    "While waiting for [Star Wars: The Force Awakens](https://en.wikipedia.org/wiki/Star_Wars:_The_Force_Awakens) to come out, the team at [FiveThirtyEight](http://fivethirtyeight.com/) became interested in answering some questions about Star Wars fans. In particular, they wondered: **does the rest of America realize that “The Empire Strikes Back” is clearly the best of the bunch?**\n",
    "\n",
    "### The Results  <a name=\"Results\"></a>\n",
    "\n",
    "In short, we found that there's a general consensus that, indeed, \"The Empire Strikes Back\" is considered the best Star Wars film."
   ]
  },
  {
   "cell_type": "markdown",
   "metadata": {},
   "source": [
    "## The Data <a name=\"The_Data\"></a>\n",
    "The team needed to collect data addressing this question. To do this, they surveyed Star Wars fans using the online tool SurveyMonkey. They received 1186 total responses, which can be downloaded from [their GitHub repository](https://github.com/fivethirtyeight/data/tree/master/star-wars-survey)."
   ]
  },
  {
   "cell_type": "code",
   "execution_count": 273,
   "metadata": {
    "scrolled": true
   },
   "outputs": [
    {
     "name": "stdout",
     "output_type": "stream",
     "text": [
      "<class 'pandas.core.frame.DataFrame'>\n",
      "RangeIndex: 1186 entries, 0 to 1185\n",
      "Data columns (total 38 columns):\n",
      " #   Column                                                                                                                                         Non-Null Count  Dtype  \n",
      "---  ------                                                                                                                                         --------------  -----  \n",
      " 0   RespondentID                                                                                                                                   1186 non-null   int64  \n",
      " 1   Have you seen any of the 6 films in the Star Wars franchise?                                                                                   1186 non-null   object \n",
      " 2   Do you consider yourself to be a fan of the Star Wars film franchise?                                                                          836 non-null    object \n",
      " 3   Which of the following Star Wars films have you seen? Please select all that apply.                                                            673 non-null    object \n",
      " 4   Unnamed: 4                                                                                                                                     571 non-null    object \n",
      " 5   Unnamed: 5                                                                                                                                     550 non-null    object \n",
      " 6   Unnamed: 6                                                                                                                                     607 non-null    object \n",
      " 7   Unnamed: 7                                                                                                                                     758 non-null    object \n",
      " 8   Unnamed: 8                                                                                                                                     738 non-null    object \n",
      " 9   Please rank the Star Wars films in order of preference with 1 being your favorite film in the franchise and 6 being your least favorite film.  835 non-null    float64\n",
      " 10  Unnamed: 10                                                                                                                                    836 non-null    float64\n",
      " 11  Unnamed: 11                                                                                                                                    835 non-null    float64\n",
      " 12  Unnamed: 12                                                                                                                                    836 non-null    float64\n",
      " 13  Unnamed: 13                                                                                                                                    836 non-null    float64\n",
      " 14  Unnamed: 14                                                                                                                                    836 non-null    float64\n",
      " 15  Please state whether you view the following characters favorably, unfavorably, or are unfamiliar with him/her.                                 829 non-null    object \n",
      " 16  Unnamed: 16                                                                                                                                    831 non-null    object \n",
      " 17  Unnamed: 17                                                                                                                                    831 non-null    object \n",
      " 18  Unnamed: 18                                                                                                                                    823 non-null    object \n",
      " 19  Unnamed: 19                                                                                                                                    825 non-null    object \n",
      " 20  Unnamed: 20                                                                                                                                    814 non-null    object \n",
      " 21  Unnamed: 21                                                                                                                                    826 non-null    object \n",
      " 22  Unnamed: 22                                                                                                                                    820 non-null    object \n",
      " 23  Unnamed: 23                                                                                                                                    812 non-null    object \n",
      " 24  Unnamed: 24                                                                                                                                    827 non-null    object \n",
      " 25  Unnamed: 25                                                                                                                                    830 non-null    object \n",
      " 26  Unnamed: 26                                                                                                                                    821 non-null    object \n",
      " 27  Unnamed: 27                                                                                                                                    814 non-null    object \n",
      " 28  Unnamed: 28                                                                                                                                    826 non-null    object \n",
      " 29  Which character shot first?                                                                                                                    828 non-null    object \n",
      " 30  Are you familiar with the Expanded Universe?                                                                                                   828 non-null    object \n",
      " 31  Do you consider yourself to be a fan of the Expanded Universe?                                                                                 213 non-null    object \n",
      " 32  Do you consider yourself to be a fan of the Star Trek franchise?                                                                               1068 non-null   object \n",
      " 33  Gender                                                                                                                                         1046 non-null   object \n",
      " 34  Age                                                                                                                                            1046 non-null   object \n",
      " 35  Household Income                                                                                                                               858 non-null    object \n",
      " 36  Education                                                                                                                                      1036 non-null   object \n",
      " 37  Location (Census Region)                                                                                                                       1043 non-null   object \n",
      "dtypes: float64(6), int64(1), object(31)\n",
      "memory usage: 352.2+ KB\n"
     ]
    }
   ],
   "source": [
    "# Boilerplate code that loads the libraries and data\n",
    "import pandas as pd\n",
    "import numpy as np\n",
    "star_wars = pd.read_csv(\"star_wars.csv\", encoding=\"ISO-8859-1\")\n",
    "\n",
    "# Allow Jupyter notebook to generate plots\n",
    "import matplotlib.pyplot as plt\n",
    "%matplotlib inline\n",
    "\n",
    "# Some information about the dataset\n",
    "star_wars.info()"
   ]
  },
  {
   "cell_type": "code",
   "execution_count": 274,
   "metadata": {},
   "outputs": [
    {
     "data": {
      "text/html": [
       "<div>\n",
       "<style scoped>\n",
       "    .dataframe tbody tr th:only-of-type {\n",
       "        vertical-align: middle;\n",
       "    }\n",
       "\n",
       "    .dataframe tbody tr th {\n",
       "        vertical-align: top;\n",
       "    }\n",
       "\n",
       "    .dataframe thead th {\n",
       "        text-align: right;\n",
       "    }\n",
       "</style>\n",
       "<table border=\"1\" class=\"dataframe\">\n",
       "  <thead>\n",
       "    <tr style=\"text-align: right;\">\n",
       "      <th></th>\n",
       "      <th>RespondentID</th>\n",
       "      <th>Have you seen any of the 6 films in the Star Wars franchise?</th>\n",
       "      <th>Do you consider yourself to be a fan of the Star Wars film franchise?</th>\n",
       "      <th>Which of the following Star Wars films have you seen? Please select all that apply.</th>\n",
       "      <th>Unnamed: 4</th>\n",
       "      <th>Unnamed: 5</th>\n",
       "      <th>Unnamed: 6</th>\n",
       "      <th>Unnamed: 7</th>\n",
       "      <th>Unnamed: 8</th>\n",
       "      <th>Please rank the Star Wars films in order of preference with 1 being your favorite film in the franchise and 6 being your least favorite film.</th>\n",
       "      <th>...</th>\n",
       "      <th>Unnamed: 28</th>\n",
       "      <th>Which character shot first?</th>\n",
       "      <th>Are you familiar with the Expanded Universe?</th>\n",
       "      <th>Do you consider yourself to be a fan of the Expanded Universe?</th>\n",
       "      <th>Do you consider yourself to be a fan of the Star Trek franchise?</th>\n",
       "      <th>Gender</th>\n",
       "      <th>Age</th>\n",
       "      <th>Household Income</th>\n",
       "      <th>Education</th>\n",
       "      <th>Location (Census Region)</th>\n",
       "    </tr>\n",
       "  </thead>\n",
       "  <tbody>\n",
       "    <tr>\n",
       "      <th>0</th>\n",
       "      <td>3292879998</td>\n",
       "      <td>Yes</td>\n",
       "      <td>Yes</td>\n",
       "      <td>Star Wars: Episode I  The Phantom Menace</td>\n",
       "      <td>Star Wars: Episode II  Attack of the Clones</td>\n",
       "      <td>Star Wars: Episode III  Revenge of the Sith</td>\n",
       "      <td>Star Wars: Episode IV  A New Hope</td>\n",
       "      <td>Star Wars: Episode V The Empire Strikes Back</td>\n",
       "      <td>Star Wars: Episode VI Return of the Jedi</td>\n",
       "      <td>3.0</td>\n",
       "      <td>...</td>\n",
       "      <td>Very favorably</td>\n",
       "      <td>I don't understand this question</td>\n",
       "      <td>Yes</td>\n",
       "      <td>No</td>\n",
       "      <td>No</td>\n",
       "      <td>Male</td>\n",
       "      <td>18-29</td>\n",
       "      <td>NaN</td>\n",
       "      <td>High school degree</td>\n",
       "      <td>South Atlantic</td>\n",
       "    </tr>\n",
       "    <tr>\n",
       "      <th>1</th>\n",
       "      <td>3292879538</td>\n",
       "      <td>No</td>\n",
       "      <td>NaN</td>\n",
       "      <td>NaN</td>\n",
       "      <td>NaN</td>\n",
       "      <td>NaN</td>\n",
       "      <td>NaN</td>\n",
       "      <td>NaN</td>\n",
       "      <td>NaN</td>\n",
       "      <td>NaN</td>\n",
       "      <td>...</td>\n",
       "      <td>NaN</td>\n",
       "      <td>NaN</td>\n",
       "      <td>NaN</td>\n",
       "      <td>NaN</td>\n",
       "      <td>Yes</td>\n",
       "      <td>Male</td>\n",
       "      <td>18-29</td>\n",
       "      <td>$0 - $24,999</td>\n",
       "      <td>Bachelor degree</td>\n",
       "      <td>West South Central</td>\n",
       "    </tr>\n",
       "    <tr>\n",
       "      <th>2</th>\n",
       "      <td>3292765271</td>\n",
       "      <td>Yes</td>\n",
       "      <td>No</td>\n",
       "      <td>Star Wars: Episode I  The Phantom Menace</td>\n",
       "      <td>Star Wars: Episode II  Attack of the Clones</td>\n",
       "      <td>Star Wars: Episode III  Revenge of the Sith</td>\n",
       "      <td>NaN</td>\n",
       "      <td>NaN</td>\n",
       "      <td>NaN</td>\n",
       "      <td>1.0</td>\n",
       "      <td>...</td>\n",
       "      <td>Unfamiliar (N/A)</td>\n",
       "      <td>I don't understand this question</td>\n",
       "      <td>No</td>\n",
       "      <td>NaN</td>\n",
       "      <td>No</td>\n",
       "      <td>Male</td>\n",
       "      <td>18-29</td>\n",
       "      <td>$0 - $24,999</td>\n",
       "      <td>High school degree</td>\n",
       "      <td>West North Central</td>\n",
       "    </tr>\n",
       "    <tr>\n",
       "      <th>3</th>\n",
       "      <td>3292763116</td>\n",
       "      <td>Yes</td>\n",
       "      <td>Yes</td>\n",
       "      <td>Star Wars: Episode I  The Phantom Menace</td>\n",
       "      <td>Star Wars: Episode II  Attack of the Clones</td>\n",
       "      <td>Star Wars: Episode III  Revenge of the Sith</td>\n",
       "      <td>Star Wars: Episode IV  A New Hope</td>\n",
       "      <td>Star Wars: Episode V The Empire Strikes Back</td>\n",
       "      <td>Star Wars: Episode VI Return of the Jedi</td>\n",
       "      <td>5.0</td>\n",
       "      <td>...</td>\n",
       "      <td>Very favorably</td>\n",
       "      <td>I don't understand this question</td>\n",
       "      <td>No</td>\n",
       "      <td>NaN</td>\n",
       "      <td>Yes</td>\n",
       "      <td>Male</td>\n",
       "      <td>18-29</td>\n",
       "      <td>$100,000 - $149,999</td>\n",
       "      <td>Some college or Associate degree</td>\n",
       "      <td>West North Central</td>\n",
       "    </tr>\n",
       "    <tr>\n",
       "      <th>4</th>\n",
       "      <td>3292731220</td>\n",
       "      <td>Yes</td>\n",
       "      <td>Yes</td>\n",
       "      <td>Star Wars: Episode I  The Phantom Menace</td>\n",
       "      <td>Star Wars: Episode II  Attack of the Clones</td>\n",
       "      <td>Star Wars: Episode III  Revenge of the Sith</td>\n",
       "      <td>Star Wars: Episode IV  A New Hope</td>\n",
       "      <td>Star Wars: Episode V The Empire Strikes Back</td>\n",
       "      <td>Star Wars: Episode VI Return of the Jedi</td>\n",
       "      <td>5.0</td>\n",
       "      <td>...</td>\n",
       "      <td>Somewhat favorably</td>\n",
       "      <td>Greedo</td>\n",
       "      <td>Yes</td>\n",
       "      <td>No</td>\n",
       "      <td>No</td>\n",
       "      <td>Male</td>\n",
       "      <td>18-29</td>\n",
       "      <td>$100,000 - $149,999</td>\n",
       "      <td>Some college or Associate degree</td>\n",
       "      <td>West North Central</td>\n",
       "    </tr>\n",
       "    <tr>\n",
       "      <th>5</th>\n",
       "      <td>3292719380</td>\n",
       "      <td>Yes</td>\n",
       "      <td>Yes</td>\n",
       "      <td>Star Wars: Episode I  The Phantom Menace</td>\n",
       "      <td>Star Wars: Episode II  Attack of the Clones</td>\n",
       "      <td>Star Wars: Episode III  Revenge of the Sith</td>\n",
       "      <td>Star Wars: Episode IV  A New Hope</td>\n",
       "      <td>Star Wars: Episode V The Empire Strikes Back</td>\n",
       "      <td>Star Wars: Episode VI Return of the Jedi</td>\n",
       "      <td>1.0</td>\n",
       "      <td>...</td>\n",
       "      <td>Very favorably</td>\n",
       "      <td>Han</td>\n",
       "      <td>Yes</td>\n",
       "      <td>No</td>\n",
       "      <td>Yes</td>\n",
       "      <td>Male</td>\n",
       "      <td>18-29</td>\n",
       "      <td>$25,000 - $49,999</td>\n",
       "      <td>Bachelor degree</td>\n",
       "      <td>Middle Atlantic</td>\n",
       "    </tr>\n",
       "    <tr>\n",
       "      <th>6</th>\n",
       "      <td>3292684787</td>\n",
       "      <td>Yes</td>\n",
       "      <td>Yes</td>\n",
       "      <td>Star Wars: Episode I  The Phantom Menace</td>\n",
       "      <td>Star Wars: Episode II  Attack of the Clones</td>\n",
       "      <td>Star Wars: Episode III  Revenge of the Sith</td>\n",
       "      <td>Star Wars: Episode IV  A New Hope</td>\n",
       "      <td>Star Wars: Episode V The Empire Strikes Back</td>\n",
       "      <td>Star Wars: Episode VI Return of the Jedi</td>\n",
       "      <td>6.0</td>\n",
       "      <td>...</td>\n",
       "      <td>Very favorably</td>\n",
       "      <td>Han</td>\n",
       "      <td>Yes</td>\n",
       "      <td>No</td>\n",
       "      <td>No</td>\n",
       "      <td>Male</td>\n",
       "      <td>18-29</td>\n",
       "      <td>NaN</td>\n",
       "      <td>High school degree</td>\n",
       "      <td>East North Central</td>\n",
       "    </tr>\n",
       "    <tr>\n",
       "      <th>7</th>\n",
       "      <td>3292663732</td>\n",
       "      <td>Yes</td>\n",
       "      <td>Yes</td>\n",
       "      <td>Star Wars: Episode I  The Phantom Menace</td>\n",
       "      <td>Star Wars: Episode II  Attack of the Clones</td>\n",
       "      <td>Star Wars: Episode III  Revenge of the Sith</td>\n",
       "      <td>Star Wars: Episode IV  A New Hope</td>\n",
       "      <td>Star Wars: Episode V The Empire Strikes Back</td>\n",
       "      <td>Star Wars: Episode VI Return of the Jedi</td>\n",
       "      <td>4.0</td>\n",
       "      <td>...</td>\n",
       "      <td>Very favorably</td>\n",
       "      <td>Han</td>\n",
       "      <td>No</td>\n",
       "      <td>NaN</td>\n",
       "      <td>Yes</td>\n",
       "      <td>Male</td>\n",
       "      <td>18-29</td>\n",
       "      <td>NaN</td>\n",
       "      <td>High school degree</td>\n",
       "      <td>South Atlantic</td>\n",
       "    </tr>\n",
       "    <tr>\n",
       "      <th>8</th>\n",
       "      <td>3292654043</td>\n",
       "      <td>Yes</td>\n",
       "      <td>Yes</td>\n",
       "      <td>Star Wars: Episode I  The Phantom Menace</td>\n",
       "      <td>Star Wars: Episode II  Attack of the Clones</td>\n",
       "      <td>Star Wars: Episode III  Revenge of the Sith</td>\n",
       "      <td>Star Wars: Episode IV  A New Hope</td>\n",
       "      <td>Star Wars: Episode V The Empire Strikes Back</td>\n",
       "      <td>Star Wars: Episode VI Return of the Jedi</td>\n",
       "      <td>5.0</td>\n",
       "      <td>...</td>\n",
       "      <td>Somewhat favorably</td>\n",
       "      <td>Han</td>\n",
       "      <td>No</td>\n",
       "      <td>NaN</td>\n",
       "      <td>No</td>\n",
       "      <td>Male</td>\n",
       "      <td>18-29</td>\n",
       "      <td>$0 - $24,999</td>\n",
       "      <td>Some college or Associate degree</td>\n",
       "      <td>South Atlantic</td>\n",
       "    </tr>\n",
       "    <tr>\n",
       "      <th>9</th>\n",
       "      <td>3292640424</td>\n",
       "      <td>Yes</td>\n",
       "      <td>No</td>\n",
       "      <td>NaN</td>\n",
       "      <td>Star Wars: Episode II  Attack of the Clones</td>\n",
       "      <td>NaN</td>\n",
       "      <td>NaN</td>\n",
       "      <td>NaN</td>\n",
       "      <td>NaN</td>\n",
       "      <td>1.0</td>\n",
       "      <td>...</td>\n",
       "      <td>Very favorably</td>\n",
       "      <td>I don't understand this question</td>\n",
       "      <td>No</td>\n",
       "      <td>NaN</td>\n",
       "      <td>No</td>\n",
       "      <td>Male</td>\n",
       "      <td>18-29</td>\n",
       "      <td>$25,000 - $49,999</td>\n",
       "      <td>Some college or Associate degree</td>\n",
       "      <td>Pacific</td>\n",
       "    </tr>\n",
       "  </tbody>\n",
       "</table>\n",
       "<p>10 rows × 38 columns</p>\n",
       "</div>"
      ],
      "text/plain": [
       "   RespondentID Have you seen any of the 6 films in the Star Wars franchise?  \\\n",
       "0    3292879998                                                Yes             \n",
       "1    3292879538                                                 No             \n",
       "2    3292765271                                                Yes             \n",
       "3    3292763116                                                Yes             \n",
       "4    3292731220                                                Yes             \n",
       "5    3292719380                                                Yes             \n",
       "6    3292684787                                                Yes             \n",
       "7    3292663732                                                Yes             \n",
       "8    3292654043                                                Yes             \n",
       "9    3292640424                                                Yes             \n",
       "\n",
       "  Do you consider yourself to be a fan of the Star Wars film franchise?  \\\n",
       "0                                                Yes                      \n",
       "1                                                NaN                      \n",
       "2                                                 No                      \n",
       "3                                                Yes                      \n",
       "4                                                Yes                      \n",
       "5                                                Yes                      \n",
       "6                                                Yes                      \n",
       "7                                                Yes                      \n",
       "8                                                Yes                      \n",
       "9                                                 No                      \n",
       "\n",
       "  Which of the following Star Wars films have you seen? Please select all that apply.  \\\n",
       "0           Star Wars: Episode I  The Phantom Menace                                    \n",
       "1                                                NaN                                    \n",
       "2           Star Wars: Episode I  The Phantom Menace                                    \n",
       "3           Star Wars: Episode I  The Phantom Menace                                    \n",
       "4           Star Wars: Episode I  The Phantom Menace                                    \n",
       "5           Star Wars: Episode I  The Phantom Menace                                    \n",
       "6           Star Wars: Episode I  The Phantom Menace                                    \n",
       "7           Star Wars: Episode I  The Phantom Menace                                    \n",
       "8           Star Wars: Episode I  The Phantom Menace                                    \n",
       "9                                                NaN                                    \n",
       "\n",
       "                                    Unnamed: 4  \\\n",
       "0  Star Wars: Episode II  Attack of the Clones   \n",
       "1                                          NaN   \n",
       "2  Star Wars: Episode II  Attack of the Clones   \n",
       "3  Star Wars: Episode II  Attack of the Clones   \n",
       "4  Star Wars: Episode II  Attack of the Clones   \n",
       "5  Star Wars: Episode II  Attack of the Clones   \n",
       "6  Star Wars: Episode II  Attack of the Clones   \n",
       "7  Star Wars: Episode II  Attack of the Clones   \n",
       "8  Star Wars: Episode II  Attack of the Clones   \n",
       "9  Star Wars: Episode II  Attack of the Clones   \n",
       "\n",
       "                                    Unnamed: 5  \\\n",
       "0  Star Wars: Episode III  Revenge of the Sith   \n",
       "1                                          NaN   \n",
       "2  Star Wars: Episode III  Revenge of the Sith   \n",
       "3  Star Wars: Episode III  Revenge of the Sith   \n",
       "4  Star Wars: Episode III  Revenge of the Sith   \n",
       "5  Star Wars: Episode III  Revenge of the Sith   \n",
       "6  Star Wars: Episode III  Revenge of the Sith   \n",
       "7  Star Wars: Episode III  Revenge of the Sith   \n",
       "8  Star Wars: Episode III  Revenge of the Sith   \n",
       "9                                          NaN   \n",
       "\n",
       "                          Unnamed: 6  \\\n",
       "0  Star Wars: Episode IV  A New Hope   \n",
       "1                                NaN   \n",
       "2                                NaN   \n",
       "3  Star Wars: Episode IV  A New Hope   \n",
       "4  Star Wars: Episode IV  A New Hope   \n",
       "5  Star Wars: Episode IV  A New Hope   \n",
       "6  Star Wars: Episode IV  A New Hope   \n",
       "7  Star Wars: Episode IV  A New Hope   \n",
       "8  Star Wars: Episode IV  A New Hope   \n",
       "9                                NaN   \n",
       "\n",
       "                                     Unnamed: 7  \\\n",
       "0  Star Wars: Episode V The Empire Strikes Back   \n",
       "1                                           NaN   \n",
       "2                                           NaN   \n",
       "3  Star Wars: Episode V The Empire Strikes Back   \n",
       "4  Star Wars: Episode V The Empire Strikes Back   \n",
       "5  Star Wars: Episode V The Empire Strikes Back   \n",
       "6  Star Wars: Episode V The Empire Strikes Back   \n",
       "7  Star Wars: Episode V The Empire Strikes Back   \n",
       "8  Star Wars: Episode V The Empire Strikes Back   \n",
       "9                                           NaN   \n",
       "\n",
       "                                 Unnamed: 8  \\\n",
       "0  Star Wars: Episode VI Return of the Jedi   \n",
       "1                                       NaN   \n",
       "2                                       NaN   \n",
       "3  Star Wars: Episode VI Return of the Jedi   \n",
       "4  Star Wars: Episode VI Return of the Jedi   \n",
       "5  Star Wars: Episode VI Return of the Jedi   \n",
       "6  Star Wars: Episode VI Return of the Jedi   \n",
       "7  Star Wars: Episode VI Return of the Jedi   \n",
       "8  Star Wars: Episode VI Return of the Jedi   \n",
       "9                                       NaN   \n",
       "\n",
       "   Please rank the Star Wars films in order of preference with 1 being your favorite film in the franchise and 6 being your least favorite film.  \\\n",
       "0                                                3.0                                                                                               \n",
       "1                                                NaN                                                                                               \n",
       "2                                                1.0                                                                                               \n",
       "3                                                5.0                                                                                               \n",
       "4                                                5.0                                                                                               \n",
       "5                                                1.0                                                                                               \n",
       "6                                                6.0                                                                                               \n",
       "7                                                4.0                                                                                               \n",
       "8                                                5.0                                                                                               \n",
       "9                                                1.0                                                                                               \n",
       "\n",
       "   ...         Unnamed: 28       Which character shot first?  \\\n",
       "0  ...      Very favorably  I don't understand this question   \n",
       "1  ...                 NaN                               NaN   \n",
       "2  ...    Unfamiliar (N/A)  I don't understand this question   \n",
       "3  ...      Very favorably  I don't understand this question   \n",
       "4  ...  Somewhat favorably                            Greedo   \n",
       "5  ...      Very favorably                               Han   \n",
       "6  ...      Very favorably                               Han   \n",
       "7  ...      Very favorably                               Han   \n",
       "8  ...  Somewhat favorably                               Han   \n",
       "9  ...      Very favorably  I don't understand this question   \n",
       "\n",
       "   Are you familiar with the Expanded Universe?  \\\n",
       "0                                           Yes   \n",
       "1                                           NaN   \n",
       "2                                            No   \n",
       "3                                            No   \n",
       "4                                           Yes   \n",
       "5                                           Yes   \n",
       "6                                           Yes   \n",
       "7                                            No   \n",
       "8                                            No   \n",
       "9                                            No   \n",
       "\n",
       "   Do you consider yourself to be a fan of the Expanded Universe?  \\\n",
       "0                                                 No                \n",
       "1                                                NaN                \n",
       "2                                                NaN                \n",
       "3                                                NaN                \n",
       "4                                                 No                \n",
       "5                                                 No                \n",
       "6                                                 No                \n",
       "7                                                NaN                \n",
       "8                                                NaN                \n",
       "9                                                NaN                \n",
       "\n",
       "   Do you consider yourself to be a fan of the Star Trek franchise? Gender  \\\n",
       "0                                                 No                  Male   \n",
       "1                                                Yes                  Male   \n",
       "2                                                 No                  Male   \n",
       "3                                                Yes                  Male   \n",
       "4                                                 No                  Male   \n",
       "5                                                Yes                  Male   \n",
       "6                                                 No                  Male   \n",
       "7                                                Yes                  Male   \n",
       "8                                                 No                  Male   \n",
       "9                                                 No                  Male   \n",
       "\n",
       "     Age     Household Income                         Education  \\\n",
       "0  18-29                  NaN                High school degree   \n",
       "1  18-29         $0 - $24,999                   Bachelor degree   \n",
       "2  18-29         $0 - $24,999                High school degree   \n",
       "3  18-29  $100,000 - $149,999  Some college or Associate degree   \n",
       "4  18-29  $100,000 - $149,999  Some college or Associate degree   \n",
       "5  18-29    $25,000 - $49,999                   Bachelor degree   \n",
       "6  18-29                  NaN                High school degree   \n",
       "7  18-29                  NaN                High school degree   \n",
       "8  18-29         $0 - $24,999  Some college or Associate degree   \n",
       "9  18-29    $25,000 - $49,999  Some college or Associate degree   \n",
       "\n",
       "  Location (Census Region)  \n",
       "0           South Atlantic  \n",
       "1       West South Central  \n",
       "2       West North Central  \n",
       "3       West North Central  \n",
       "4       West North Central  \n",
       "5          Middle Atlantic  \n",
       "6       East North Central  \n",
       "7           South Atlantic  \n",
       "8           South Atlantic  \n",
       "9                  Pacific  \n",
       "\n",
       "[10 rows x 38 columns]"
      ]
     },
     "execution_count": 274,
     "metadata": {},
     "output_type": "execute_result"
    }
   ],
   "source": [
    "# Top 10 entries\n",
    "star_wars.head(10)"
   ]
  },
  {
   "cell_type": "code",
   "execution_count": 275,
   "metadata": {},
   "outputs": [
    {
     "data": {
      "text/plain": [
       "Index(['RespondentID',\n",
       "       'Have you seen any of the 6 films in the Star Wars franchise?',\n",
       "       'Do you consider yourself to be a fan of the Star Wars film franchise?',\n",
       "       'Which of the following Star Wars films have you seen? Please select all that apply.',\n",
       "       'Unnamed: 4', 'Unnamed: 5', 'Unnamed: 6', 'Unnamed: 7', 'Unnamed: 8',\n",
       "       'Please rank the Star Wars films in order of preference with 1 being your favorite film in the franchise and 6 being your least favorite film.',\n",
       "       'Unnamed: 10', 'Unnamed: 11', 'Unnamed: 12', 'Unnamed: 13',\n",
       "       'Unnamed: 14',\n",
       "       'Please state whether you view the following characters favorably, unfavorably, or are unfamiliar with him/her.',\n",
       "       'Unnamed: 16', 'Unnamed: 17', 'Unnamed: 18', 'Unnamed: 19',\n",
       "       'Unnamed: 20', 'Unnamed: 21', 'Unnamed: 22', 'Unnamed: 23',\n",
       "       'Unnamed: 24', 'Unnamed: 25', 'Unnamed: 26', 'Unnamed: 27',\n",
       "       'Unnamed: 28', 'Which character shot first?',\n",
       "       'Are you familiar with the Expanded Universe?',\n",
       "       'Do you consider yourself to be a fan of the Expanded Universe?',\n",
       "       'Do you consider yourself to be a fan of the Star Trek franchise?',\n",
       "       'Gender', 'Age', 'Household Income', 'Education',\n",
       "       'Location (Census Region)'],\n",
       "      dtype='object')"
      ]
     },
     "execution_count": 275,
     "metadata": {},
     "output_type": "execute_result"
    }
   ],
   "source": [
    "# The columns that the dataset is composed of\n",
    "star_wars.columns"
   ]
  },
  {
   "cell_type": "markdown",
   "metadata": {},
   "source": [
    "## Initial Observations <a name=\"Initial_Observations\"></a>\n",
    "\n",
    "* Out of the 1186 respondents, 836 are fans of the Star Wars films\n",
    "* Almost all the columns have some missing values. Judging by the numbers it seems that some questions weren't given to respondents who replied that they're not fans of the Star Wars films\n",
    "* The question about being a fan of the Star Wars Expanded Universe got a significantly low response rate (only 213 respondents replied), so we won't use that data in our analysis\n",
    "* The columns are composed of an ID for each respondent, their answers to the questions, and some demographic information. We can use the demographic information to conduct some statistical analyses by segments of the respondents' population\n",
    "* Some of the questions apply to various subsequent columns, and the titles of these columns are missing from the dataframe, so they're called `Unnamed: [#]`. We'll need to fix that\n",
    "* It would be interesting to see how different subgroups (males/females, Star Trek fan/non-fans) relate to the Star Wars films"
   ]
  },
  {
   "cell_type": "markdown",
   "metadata": {},
   "source": [
    "## Data Cleaning <a name=\"Data_Cleaning\"></a>"
   ]
  },
  {
   "cell_type": "markdown",
   "metadata": {},
   "source": [
    "### Mapping Yes/No Columns <a name=\"Mapping_Yes_No_Columns\"></a>\n",
    "\n",
    "The answers to following two columns can be `\"Yes\"`, `\"No\"` or `NaN`:\n",
    "* `Have you seen any of the 6 films in the Star Wars franchise?`\n",
    "* `Do you consider yourself to be a fan of the Star Wars film franchise?`\n",
    "\n",
    "To make analysis simpler, let's convert the \"Yes\"/\"No\" answers to True/False:"
   ]
  },
  {
   "cell_type": "code",
   "execution_count": 279,
   "metadata": {},
   "outputs": [
    {
     "name": "stdout",
     "output_type": "stream",
     "text": [
      "Have you seen any of the 6 films in the Star Wars franchise?\n",
      "Yes    936\n",
      "No     250\n",
      "Name: count, dtype: int64\n",
      "\n",
      "Do you consider yourself to be a fan of the Star Wars film franchise?\n",
      "Yes    552\n",
      "NaN    350\n",
      "No     284\n",
      "Name: count, dtype: int64\n",
      "\n"
     ]
    }
   ],
   "source": [
    "cols = ['Have you seen any of the 6 films in the Star Wars franchise?', 'Do you consider yourself to be a fan of the Star Wars film franchise?']\n",
    "\n",
    "# Values before conversion\n",
    "for col in cols:\n",
    "    print(f\"{star_wars[col].value_counts(dropna=False)}\\n\")"
   ]
  },
  {
   "cell_type": "code",
   "execution_count": 280,
   "metadata": {},
   "outputs": [],
   "source": [
    "for col in cols:\n",
    "    star_wars[col] = star_wars[col].map(lambda x : x == \"Yes\", na_action='ignore')"
   ]
  },
  {
   "cell_type": "code",
   "execution_count": 281,
   "metadata": {},
   "outputs": [
    {
     "name": "stdout",
     "output_type": "stream",
     "text": [
      "Have you seen any of the 6 films in the Star Wars franchise?\n",
      "True     936\n",
      "False    250\n",
      "Name: count, dtype: int64\n",
      "\n",
      "Do you consider yourself to be a fan of the Star Wars film franchise?\n",
      "True     552\n",
      "NaN      350\n",
      "False    284\n",
      "Name: count, dtype: int64\n",
      "\n"
     ]
    }
   ],
   "source": [
    "# Values after conversion\n",
    "for col in cols:\n",
    "    print(f\"{star_wars[col].value_counts(dropna=False)}\\n\")"
   ]
  },
  {
   "cell_type": "markdown",
   "metadata": {},
   "source": [
    "Good. We've successfully converted both columns to boolean columns."
   ]
  },
  {
   "cell_type": "markdown",
   "metadata": {},
   "source": [
    "### Cleaning and Mapping Checkbox Columns <a name=\"Cleaning_and_Mapping_Checkbox_Columns\"></a>\n",
    "\n",
    "The next six columns represent a single checkbox question. The respondent checked off a series of boxes in response to the question, `Which of the following Star Wars films have you seen? Please select all that apply.`\n",
    "\n",
    "The columns for this question are:\n",
    "\n",
    "* `Which of the following Star Wars films have you seen? Please select all that apply.` — whether or not the respondent saw Star Wars: Episode I The Phantom Menace.\n",
    "* `Unnamed: 4` — whether or not the respondent saw Star Wars: Episode II Attack of the Clones.\n",
    "* `Unnamed: 5` — whether or not the respondent saw Star Wars: Episode III Revenge of the Sith.\n",
    "* `Unnamed: 6` — whether or not the respondent saw Star Wars: Episode IV A New Hope.\n",
    "* `Unnamed: 7` — whether or not the respondent saw Star Wars: Episode V The Empire Strikes Back.\n",
    "* `Unnamed: 8` — whether or not the respondent saw Star Wars: Episode VI Return of the Jedi.\n",
    "\n",
    "For each of these columns, if the value in a cell is the name of the movie, that means the respondent saw the movie. If the value is `NaN`, the respondent either didn't answer or didn't see the movie. We'll assume that they didn't see the movie.\n",
    "\n",
    "We'll need to convert each of these columns to a Boolean, then rename the column something more intuitive."
   ]
  },
  {
   "cell_type": "code",
   "execution_count": 284,
   "metadata": {},
   "outputs": [
    {
     "name": "stdout",
     "output_type": "stream",
     "text": [
      "Which of the following Star Wars films have you seen? Please select all that apply.\n",
      "Star Wars: Episode I  The Phantom Menace    673\n",
      "NaN                                         513\n",
      "Name: count, dtype: int64\n",
      "Unnamed: 4\n",
      "NaN                                            615\n",
      "Star Wars: Episode II  Attack of the Clones    571\n",
      "Name: count, dtype: int64\n",
      "Unnamed: 5\n",
      "NaN                                            636\n",
      "Star Wars: Episode III  Revenge of the Sith    550\n",
      "Name: count, dtype: int64\n",
      "Unnamed: 6\n",
      "Star Wars: Episode IV  A New Hope    607\n",
      "NaN                                  579\n",
      "Name: count, dtype: int64\n",
      "Unnamed: 7\n",
      "Star Wars: Episode V The Empire Strikes Back    758\n",
      "NaN                                             428\n",
      "Name: count, dtype: int64\n",
      "Unnamed: 8\n",
      "Star Wars: Episode VI Return of the Jedi    738\n",
      "NaN                                         448\n",
      "Name: count, dtype: int64\n"
     ]
    }
   ],
   "source": [
    "# Values before conversion\n",
    "for col in star_wars.columns[3:9]:\n",
    "    print(star_wars[col].value_counts(dropna=False))\n"
   ]
  },
  {
   "cell_type": "code",
   "execution_count": 285,
   "metadata": {},
   "outputs": [],
   "source": [
    "# Convert all relevant columns into boolean\n",
    "for col in star_wars.columns[3:9]:\n",
    "    star_wars[col] = star_wars[col].map(lambda x : pd.notna(x))"
   ]
  },
  {
   "cell_type": "code",
   "execution_count": 286,
   "metadata": {},
   "outputs": [
    {
     "name": "stdout",
     "output_type": "stream",
     "text": [
      "Which of the following Star Wars films have you seen? Please select all that apply.\n",
      "True     673\n",
      "False    513\n",
      "Name: count, dtype: int64\n",
      "Unnamed: 4\n",
      "False    615\n",
      "True     571\n",
      "Name: count, dtype: int64\n",
      "Unnamed: 5\n",
      "False    636\n",
      "True     550\n",
      "Name: count, dtype: int64\n",
      "Unnamed: 6\n",
      "True     607\n",
      "False    579\n",
      "Name: count, dtype: int64\n",
      "Unnamed: 7\n",
      "True     758\n",
      "False    428\n",
      "Name: count, dtype: int64\n",
      "Unnamed: 8\n",
      "True     738\n",
      "False    448\n",
      "Name: count, dtype: int64\n"
     ]
    }
   ],
   "source": [
    "# Values after conversion\n",
    "for col in star_wars.columns[3:9]:\n",
    "    print(star_wars[col].value_counts(dropna=False))"
   ]
  },
  {
   "cell_type": "markdown",
   "metadata": {},
   "source": [
    "Good. We've successfully converted all columns to boolean.\n",
    "Now let's rename these columns:"
   ]
  },
  {
   "cell_type": "code",
   "execution_count": 288,
   "metadata": {},
   "outputs": [],
   "source": [
    "# A dictionary that maps unintuitive to intuitive names\n",
    "to_intuitive_names = {\n",
    "    \"Which of the following Star Wars films have you seen? Please select all that apply.\" : \"Seen_I\",\n",
    "    \"Unnamed: 4\" : \"Seen_II\",\n",
    "    \"Unnamed: 5\" : \"Seen_III\",\n",
    "    \"Unnamed: 6\" : \"Seen_IV\",\n",
    "    \"Unnamed: 7\" : \"Seen_V\",\n",
    "    \"Unnamed: 8\" : \"Seen_VI\"\n",
    "}\n",
    "\n",
    "star_wars.rename(columns=to_intuitive_names, inplace=True)"
   ]
  },
  {
   "cell_type": "markdown",
   "metadata": {},
   "source": [
    "### Cleaning the Ranking Columns <a name=\"Cleaning_the_Ranking_Columns\"></a>\n",
    "\n",
    "The next six columns ask the respondent to rank the Star Wars movies in order from least to most favorite. `1` means the film was the most favorite, and `6` means it was the least favorite. Each of the following columns can contain the value `1`, `2`, `3`, `4`, `5`, `6`, or `NaN`:\n",
    "\n",
    "* `Please rank the Star Wars films in order of preference with 1 being your favorite film in the franchise and 6 being your least favorite film.` - How much the respondent liked `Star Wars: Episode I The Phantom Menace`\n",
    "* `Unnamed: 10` — How much the respondent liked `Star Wars: Episode II Attack of the Clones`\n",
    "* `Unnamed: 11` — How much the respondent liked `Star Wars: Episode III Revenge of the Sith`\n",
    "* `Unnamed: 12` — How much the respondent liked `Star Wars: Episode IV A New Hope`\n",
    "* `Unnamed: 13` — How much the respondent liked `Star Wars: Episode V The Empire Strikes Back`\n",
    "* `Unnamed: 14` — How much the respondent liked `Star Wars: Episode VI Return of the Jedi`\n",
    "\n",
    "We'll need to convert each column to a numeric type, then rename the columns so that we can tell what they represent more easily."
   ]
  },
  {
   "cell_type": "code",
   "execution_count": 290,
   "metadata": {},
   "outputs": [],
   "source": [
    "# Convert the relevant columns to float\n",
    "star_wars[star_wars.columns[9:15]] = star_wars[star_wars.columns[9:15]].astype(float)"
   ]
  },
  {
   "cell_type": "code",
   "execution_count": 291,
   "metadata": {},
   "outputs": [
    {
     "data": {
      "text/plain": [
       "Index(['Please rank the Star Wars films in order of preference with 1 being your favorite film in the franchise and 6 being your least favorite film.',\n",
       "       'Unnamed: 10', 'Unnamed: 11', 'Unnamed: 12', 'Unnamed: 13',\n",
       "       'Unnamed: 14'],\n",
       "      dtype='object')"
      ]
     },
     "execution_count": 291,
     "metadata": {},
     "output_type": "execute_result"
    }
   ],
   "source": [
    "# Original names of the columns\n",
    "star_wars.columns[9:15]"
   ]
  },
  {
   "cell_type": "code",
   "execution_count": 292,
   "metadata": {},
   "outputs": [
    {
     "data": {
      "text/plain": [
       "Index(['ranking_of_I', 'ranking_of_II', 'ranking_of_III', 'ranking_of_IV',\n",
       "       'ranking_of_V', 'ranking_of_VI'],\n",
       "      dtype='object')"
      ]
     },
     "execution_count": 292,
     "metadata": {},
     "output_type": "execute_result"
    }
   ],
   "source": [
    "# A dictionary that maps unintuitive to intuitive names\n",
    "to_intuitive_names = {\n",
    "    \"Please rank the Star Wars films in order of preference with 1 being your favorite film in the franchise and 6 being your least favorite film.\" : \"ranking_of_I\",\n",
    "    \"Unnamed: 10\" : \"ranking_of_II\",\n",
    "    \"Unnamed: 11\" : \"ranking_of_III\",\n",
    "    \"Unnamed: 12\" : \"ranking_of_IV\",\n",
    "    \"Unnamed: 13\" : \"ranking_of_V\",\n",
    "    \"Unnamed: 14\" : \"ranking_of_VI\"\n",
    "}\n",
    "\n",
    "star_wars.rename(columns=to_intuitive_names, inplace=True)\n",
    "\n",
    "# Column names after renaming\n",
    "star_wars.columns[9:15]"
   ]
  },
  {
   "cell_type": "markdown",
   "metadata": {},
   "source": [
    "### Cleaning the Favorable Characters Columns <a name=\"Cleaning_the_Favorable_Characters_Columns\"></a>"
   ]
  },
  {
   "cell_type": "markdown",
   "metadata": {},
   "source": [
    "The actual character names don't appear in the dataset, so we'll take them from the survey's [GitHub page](https://github.com/fivethirtyeight/data/tree/master/star-wars-survey)."
   ]
  },
  {
   "cell_type": "code",
   "execution_count": 295,
   "metadata": {},
   "outputs": [
    {
     "data": {
      "text/plain": [
       "Index(['RespondentID',\n",
       "       'Have you seen any of the 6 films in the Star Wars franchise?',\n",
       "       'Do you consider yourself to be a fan of the Star Wars film franchise?',\n",
       "       'Seen_I', 'Seen_II', 'Seen_III', 'Seen_IV', 'Seen_V', 'Seen_VI',\n",
       "       'ranking_of_I', 'ranking_of_II', 'ranking_of_III', 'ranking_of_IV',\n",
       "       'ranking_of_V', 'ranking_of_VI', 'favour_han_solo',\n",
       "       'favour_luke_skywalker', 'favour_princess_leia_organa',\n",
       "       'favour_anakin_skywalker', 'favour_obi_wan_kenobi',\n",
       "       'favour_emperor_palpatine', 'favour_darth_vader',\n",
       "       'favour_lando_calrissian', 'favour_boba_fett', 'favour_c-3p0',\n",
       "       'favour_r2_d2', 'favour_jar_jar_binks', 'favour_padme_amidala',\n",
       "       'favour_yoda', 'Which character shot first?',\n",
       "       'Are you familiar with the Expanded Universe?',\n",
       "       'Do you consider yourself to be a fan of the Expanded Universe?',\n",
       "       'Do you consider yourself to be a fan of the Star Trek franchise?',\n",
       "       'Gender', 'Age', 'Household Income', 'Education',\n",
       "       'Location (Census Region)'],\n",
       "      dtype='object')"
      ]
     },
     "execution_count": 295,
     "metadata": {},
     "output_type": "execute_result"
    }
   ],
   "source": [
    "to_character_names = {\n",
    "    \"Please state whether you view the following characters favorably, unfavorably, or are unfamiliar with him/her.\" : \"favour_han_solo\",\n",
    "    \"Unnamed: 16\" : \"favour_luke_skywalker\",\n",
    "    \"Unnamed: 17\" : \"favour_princess_leia_organa\",\n",
    "    \"Unnamed: 18\" : \"favour_anakin_skywalker\",\n",
    "    \"Unnamed: 19\" : \"favour_obi_wan_kenobi\",\n",
    "    \"Unnamed: 20\" : \"favour_emperor_palpatine\",\n",
    "    \"Unnamed: 21\" : \"favour_darth_vader\",\n",
    "    \"Unnamed: 22\" : \"favour_lando_calrissian\",\n",
    "    \"Unnamed: 23\" : \"favour_boba_fett\",\n",
    "    \"Unnamed: 24\" : \"favour_c-3p0\",\n",
    "    \"Unnamed: 25\" : \"favour_r2_d2\",\n",
    "    \"Unnamed: 26\" : \"favour_jar_jar_binks\",\n",
    "    \"Unnamed: 27\" : \"favour_padme_amidala\",\n",
    "    \"Unnamed: 28\" : \"favour_yoda\"\n",
    "}\n",
    "star_wars.rename(columns=to_character_names, inplace=True)\n",
    "star_wars.columns"
   ]
  },
  {
   "cell_type": "markdown",
   "metadata": {},
   "source": [
    "## Analysis <a name=\"Analysis\"></a>\n",
    "\n",
    "Now thats we're done with cleaning we can move on to analyzing the dataset."
   ]
  },
  {
   "cell_type": "markdown",
   "metadata": {},
   "source": [
    "### Finding the Highest-Ranked Movie <a name=\"Finding_the_Highest_Ranked_Movie\"></a>\n",
    "\n",
    "By calculating the mean of each `ranking_of_x` column we can find the highest-ranked film (note that lower=better):"
   ]
  },
  {
   "cell_type": "code",
   "execution_count": 298,
   "metadata": {},
   "outputs": [
    {
     "data": {
      "text/plain": [
       "Episode I      3.732934\n",
       "Episode II     4.087321\n",
       "Episode III    4.341317\n",
       "Episode IV     3.272727\n",
       "Episode V      2.513158\n",
       "Episode VI     3.047847\n",
       "dtype: float64"
      ]
     },
     "execution_count": 298,
     "metadata": {},
     "output_type": "execute_result"
    }
   ],
   "source": [
    "ranking_means = star_wars[star_wars.columns[9:15]].mean()\n",
    "\n",
    "to_episode_numbers = {\n",
    "    \"ranking_of_I\" : \"Episode I\",\n",
    "    \"ranking_of_II\" : \"Episode II\",\n",
    "    \"ranking_of_III\" : \"Episode III\",\n",
    "    \"ranking_of_IV\" : \"Episode IV\",\n",
    "    \"ranking_of_V\" : \"Episode V\",\n",
    "    \"ranking_of_VI\" : \"Episode VI\"\n",
    "}\n",
    "ranking_means.rename(to_episode_numbers, inplace=True)\n",
    "\n",
    "ranking_means"
   ]
  },
  {
   "cell_type": "code",
   "execution_count": 299,
   "metadata": {},
   "outputs": [
    {
     "data": {
      "text/plain": [
       "<Axes: title={'center': 'Star Wars Films Rankings (Lower=Better)'}>"
      ]
     },
     "execution_count": 299,
     "metadata": {},
     "output_type": "execute_result"
    },
    {
     "data": {
      "image/png": "[encoded data removed]",
      "text/plain": [
       "<Figure size 640x480 with 1 Axes>"
      ]
     },
     "metadata": {},
     "output_type": "display_data"
    }
   ],
   "source": [
    "ranking_means.plot.bar(title=\"Star Wars Films Rankings (Lower=Better)\", rot=45)"
   ]
  },
  {
   "cell_type": "markdown",
   "metadata": {},
   "source": [
    "The graph above shows the mean ranking of each of the six Star Wars films among the fans who answered the survey.\n",
    "\n",
    "From it we can learn that, indeed, Episode V (\"The Empire Strikes Back\") is the most loved Star Wars film, with Episodes VI (\"Return of the Jedi\") and IV (\"A New Hope\") at the second and third places, respectively.\n",
    "\n",
    "We can also learn that The original trilogy (episodes IV-VI) are more loved than the prequel trilogy (episodes I-III) among these fans."
   ]
  },
  {
   "cell_type": "markdown",
   "metadata": {},
   "source": [
    "### Finding the Most Viewed Star Wars Film <a name=\"Finding_the_Most_Viewed_Star_Wars_Film\"></a>"
   ]
  },
  {
   "cell_type": "code",
   "execution_count": 302,
   "metadata": {},
   "outputs": [
    {
     "data": {
      "text/plain": [
       "Episode I      673\n",
       "Episode II     571\n",
       "Episode III    550\n",
       "Episode IV     607\n",
       "Episode V      758\n",
       "Episode VI     738\n",
       "dtype: int64"
      ]
     },
     "execution_count": 302,
     "metadata": {},
     "output_type": "execute_result"
    }
   ],
   "source": [
    "to_episode_numbers = {\n",
    "    \"Seen_I\" : \"Episode I\",\n",
    "    \"Seen_II\" : \"Episode II\",\n",
    "    \"Seen_III\" : \"Episode III\",\n",
    "    \"Seen_IV\" : \"Episode IV\",\n",
    "    \"Seen_V\" : \"Episode V\",\n",
    "    \"Seen_VI\" : \"Episode VI\"\n",
    "}\n",
    "\n",
    "# Find how many of the survey's responders saw each film \n",
    "views = star_wars[star_wars.columns[3:9]].sum().rename(to_episode_numbers)\n",
    "views"
   ]
  },
  {
   "cell_type": "code",
   "execution_count": 303,
   "metadata": {},
   "outputs": [
    {
     "data": {
      "text/plain": [
       "<Axes: title={'center': 'Number of Views for Each Star Wars Film'}>"
      ]
     },
     "execution_count": 303,
     "metadata": {},
     "output_type": "execute_result"
    },
    {
     "data": {
      "image/png": "[encoded data removed]",
      "text/plain": [
       "<Figure size 640x480 with 1 Axes>"
      ]
     },
     "metadata": {},
     "output_type": "display_data"
    }
   ],
   "source": [
    "views.plot.bar(title=\"Number of Views for Each Star Wars Film\", rot=45)"
   ]
  },
  {
   "cell_type": "markdown",
   "metadata": {},
   "source": [
    "A few things we can learn from the graph:\n",
    "* The most viewed Star Wars film is Episode V (\"The Empire Strikes Back\"), which correlates with it being the most loved in the saga\n",
    "* We can see that in the prequel trilogy (Episodes I-III), the view count diminishes with each film. The largest drop-off is between episodes I and II, but episode III still has fewer views than the previous film. This could imply that these films weren't as good as fans expected, so after wathing one film they didn't progress to the next ones in the trilogy\n",
    "* While the original trilogy is generally more loved than the prequels, more fans have seen Episode I (\"The Phantom Menace\") than fans who've seen Episode IV (\"A New Hope\"). This could be due to the fact that Episode I is more recent, and younger fans don't want to watch a several decades-old film\n"
   ]
  },
  {
   "cell_type": "markdown",
   "metadata": {},
   "source": [
    "### Exploring the Data by Binary Segments <a name=\"Exploring_the_Data_by_Binary_Segments\"></a>\n",
    "\n",
    "We know which movies the survey population as a whole has ranked the highest. Now let's examine how certain segments of the survey population responded. There are several columns that segment our data into two groups. Here are a few examples:\n",
    "\n",
    "* `Do you consider yourself to be a fan of the Star Wars film franchise?` — `True` or `False`\n",
    "\n",
    "* `Do you consider yourself to be a fan of the Star Trek franchise?` — `Yes` or `No`\n",
    "\n",
    "* `Gender` — `Male` or `Female`\n",
    "\n",
    "We can split a DataFrame into two groups based on a binary column by creating two subsets of that column.\n",
    "\n",
    "The subsets allow us to compute the most viewed movie, the highest-ranked movie, and other statistics separately for each group."
   ]
  },
  {
   "cell_type": "markdown",
   "metadata": {},
   "source": [
    "#### Exploring the Difference Between Males and Females\n"
   ]
  },
  {
   "cell_type": "code",
   "execution_count": 307,
   "metadata": {},
   "outputs": [
    {
     "data": {
      "text/plain": [
       "<Axes: title={'center': 'Star Wars Films Rankings (Lower=Better)'}>"
      ]
     },
     "execution_count": 307,
     "metadata": {},
     "output_type": "execute_result"
    },
    {
     "data": {
      "image/png": "[encoded data removed]",
      "text/plain": [
       "<Figure size 640x480 with 1 Axes>"
      ]
     },
     "metadata": {},
     "output_type": "display_data"
    }
   ],
   "source": [
    "to_episode_numbers = {\n",
    "    \"ranking_of_I\" : \"Episode I\",\n",
    "    \"ranking_of_II\" : \"Episode II\",\n",
    "    \"ranking_of_III\" : \"Episode III\",\n",
    "    \"ranking_of_IV\" : \"Episode IV\",\n",
    "    \"ranking_of_V\" : \"Episode V\",\n",
    "    \"ranking_of_VI\" : \"Episode VI\",\n",
    "    \"Seen_I\" : \"Episode I\",\n",
    "    \"Seen_II\" : \"Episode II\",\n",
    "    \"Seen_III\" : \"Episode III\",\n",
    "    \"Seen_IV\" : \"Episode IV\",\n",
    "    \"Seen_V\" : \"Episode V\",\n",
    "    \"Seen_VI\" : \"Episode VI\"\n",
    "}\n",
    "\n",
    "# Split the dataset by gender\n",
    "males = star_wars[star_wars[\"Gender\"] == \"Male\"]\n",
    "females = star_wars[star_wars[\"Gender\"] == \"Female\"]\n",
    "\n",
    "# Calculate the mean for each gender\n",
    "ranking_means_gender = pd.DataFrame()\n",
    "ranking_means_gender['males'] = males[star_wars.columns[9:15]].mean()\\\n",
    "                                .rename(to_episode_numbers)\n",
    "ranking_means_gender['females'] = females[star_wars.columns[9:15]].mean()\\\n",
    "                                  .rename(to_episode_numbers)\n",
    "\n",
    "# Plot a bar chart\n",
    "ranking_means_gender.plot.bar(title=\"Star Wars Films Rankings (Lower=Better)\", rot=45)\n"
   ]
  },
  {
   "cell_type": "code",
   "execution_count": 308,
   "metadata": {},
   "outputs": [
    {
     "data": {
      "text/plain": [
       "<matplotlib.legend.Legend at 0x193e6e6ae10>"
      ]
     },
     "execution_count": 308,
     "metadata": {},
     "output_type": "execute_result"
    },
    {
     "data": {
      "image/png": "[encoded data removed]",
      "text/plain": [
       "<Figure size 640x480 with 1 Axes>"
      ]
     },
     "metadata": {},
     "output_type": "display_data"
    }
   ],
   "source": [
    "# Find how many males and females saw each film \n",
    "views = pd.DataFrame()\n",
    "views['males'] = males[star_wars.columns[3:9]].sum().rename(to_episode_numbers)\n",
    "views['females'] = females[star_wars.columns[3:9]].sum().rename(to_episode_numbers)\n",
    "\n",
    "# Plot a bar chart\n",
    "views.plot.bar(title=\"Number of Views for Each Star Wars Film, by Gender\", rot=45).legend(bbox_to_anchor=(0.5, 1))"
   ]
  },
  {
   "cell_type": "markdown",
   "metadata": {},
   "source": [
    "The Film Ranking graph shows that while both males and females tend to prefer the original trilogy over the prequels, the distinction between the trilogies is greater amongst males.\n",
    "The Number of Views graph doesn't show an interesting pattern - both males' and females' number of views behave similarly, with the main difference being that more male Star Wars fans answered the survey than females."
   ]
  },
  {
   "cell_type": "markdown",
   "metadata": {},
   "source": [
    "### Exploring the Difference Between Education Levels <a name=\"Exploring_the_Difference_Between_Education_Levels\"></a>\n",
    "\n",
    "Next, let's see if the level of education has an effect on the ranking of the films.\n",
    "How many people of each education level answered the survey?"
   ]
  },
  {
   "cell_type": "code",
   "execution_count": 311,
   "metadata": {},
   "outputs": [
    {
     "data": {
      "text/plain": [
       "Education\n",
       "Some college or Associate degree    328\n",
       "Bachelor degree                     321\n",
       "Graduate degree                     275\n",
       "High school degree                  105\n",
       "Less than high school degree          7\n",
       "Name: count, dtype: int64"
      ]
     },
     "execution_count": 311,
     "metadata": {},
     "output_type": "execute_result"
    }
   ],
   "source": [
    "star_wars['Education'].value_counts()"
   ]
  },
  {
   "cell_type": "markdown",
   "metadata": {},
   "source": [
    "The creators of the survey gave 5 education levels to choose from, from `Less than high school degree` to `Graduate degree`. Only 7 of the responders have `Less than high school degree`, and that's too small a number for a significant analysis, so we'll ignore that group when doind our analysis."
   ]
  },
  {
   "cell_type": "code",
   "execution_count": 313,
   "metadata": {},
   "outputs": [
    {
     "data": {
      "text/plain": [
       "<matplotlib.legend.Legend at 0x193e70cc490>"
      ]
     },
     "execution_count": 313,
     "metadata": {},
     "output_type": "execute_result"
    },
    {
     "data": {
      "image/png": "[encoded data removed]",
      "text/plain": [
       "<Figure size 640x480 with 1 Axes>"
      ]
     },
     "metadata": {},
     "output_type": "display_data"
    }
   ],
   "source": [
    "edu_categories = ['High school degree',\n",
    "                  'Some college or Associate degree',\n",
    "                  'Bachelor degree',\n",
    "                  'Graduate degree']\n",
    "ranking_means_by_education = star_wars.groupby('Education').mean(numeric_only=True)\n",
    "ranking_means_by_education = (ranking_means_by_education[ranking_means_by_education.columns[8:15]]\n",
    "                              .rename(columns=to_episode_numbers)\n",
    "                              .T # Transpose to match previous charts\n",
    "                             )\n",
    "# Sort the columns\n",
    "ranking_means_by_education = ranking_means_by_education[edu_categories]\n",
    "\n",
    "# Plot a bar chart\n",
    "ranking_means_by_education.plot.bar(title=\"Star Wars Films Rankings (Lower=Better)\").legend(bbox_to_anchor=(1, 1))"
   ]
  },
  {
   "cell_type": "markdown",
   "metadata": {},
   "source": [
    "There isn't a great difference in preference among the various groups. We can see that people with a batchelor degree and above tend to favour episodes V and VI more than episodes II and III, relative to people without a degree.\n",
    "This can be because the original trilogy provides a more cerebral experience, in contrast with the prequels' childish storyline and characters, or simply because the \"people with a degree\" group is generally older, and its members tend to favour films they saw during the childhood or adolescense. "
   ]
  },
  {
   "cell_type": "markdown",
   "metadata": {},
   "source": [
    "### Exploring Trekkies' Rankings <a name=\"Exploring_Trekkies_Rankings\"></a>\n",
    "\n",
    "Do Trekkies (Star Trek fans) rank the films differently? Let's check."
   ]
  },
  {
   "cell_type": "code",
   "execution_count": 316,
   "metadata": {},
   "outputs": [
    {
     "data": {
      "text/plain": [
       "<Axes: title={'center': 'Star Wars Films Rankings by Trekkies (Lower=Better)'}>"
      ]
     },
     "execution_count": 316,
     "metadata": {},
     "output_type": "execute_result"
    },
    {
     "data": {
      "image/png": "[encoded data removed]",
      "text/plain": [
       "<Figure size 640x480 with 1 Axes>"
      ]
     },
     "metadata": {},
     "output_type": "display_data"
    }
   ],
   "source": [
    "trek_fans = star_wars[star_wars['Do you consider yourself to be a fan of the Star Trek franchise?'] == 'Yes']\n",
    "\n",
    "trek_fans_ranking_means = trek_fans[trek_fans.columns[9:15]].mean()\n",
    "\n",
    "to_episode_numbers = {\n",
    "    \"ranking_of_I\" : \"Episode I\",\n",
    "    \"ranking_of_II\" : \"Episode II\",\n",
    "    \"ranking_of_III\" : \"Episode III\",\n",
    "    \"ranking_of_IV\" : \"Episode IV\",\n",
    "    \"ranking_of_V\" : \"Episode V\",\n",
    "    \"ranking_of_VI\" : \"Episode VI\"\n",
    "}\n",
    "trek_fans_ranking_means.rename(to_episode_numbers, inplace=True)\n",
    "\n",
    "ranking_means.plot.bar(title=\"Star Wars Films Rankings by Trekkies (Lower=Better)\", rot=45)"
   ]
  },
  {
   "cell_type": "markdown",
   "metadata": {},
   "source": [
    "Well, it seems that Trekkies' rankings are pretty much identical to those of the general population."
   ]
  },
  {
   "cell_type": "markdown",
   "metadata": {},
   "source": [
    "### Exploring the Star Wars/Trek Divide <a name=\"Exploring_the_Star_Wars_Trek_Divide\"></a>\n",
    "\n",
    "As we're already looking at Trekkies, let's explore this question.\n",
    "It is a truth universally acknowledged in pop culture, that you can either be a Trekkie or a Star Wars fan, but not both. Let's look at the survey data and see if it conforms with this hypothesis."
   ]
  },
  {
   "cell_type": "code",
   "execution_count": 319,
   "metadata": {},
   "outputs": [
    {
     "data": {
      "text/plain": [
       "Do you consider yourself to be a fan of the Star Wars film franchise?\n",
       "True     552\n",
       "NaN      350\n",
       "False    284\n",
       "Name: count, dtype: int64"
      ]
     },
     "execution_count": 319,
     "metadata": {},
     "output_type": "execute_result"
    }
   ],
   "source": [
    "star_wars['Do you consider yourself to be a fan of the Star Wars film franchise?'].value_counts(dropna=False)"
   ]
  },
  {
   "cell_type": "markdown",
   "metadata": {},
   "source": [
    "Interestingly, out of the 1,186 people who filled the survey, only 552 (47%) claim to be fans of the film series. Are the rest fans of the franchise but no the films, or are they simply not fans? If they're not Star Wars fans, why fill the survey?\n"
   ]
  },
  {
   "cell_type": "code",
   "execution_count": 321,
   "metadata": {},
   "outputs": [
    {
     "data": {
      "text/plain": [
       "Do you consider yourself to be a fan of the Star Trek franchise?\n",
       "No     641\n",
       "Yes    427\n",
       "NaN    118\n",
       "Name: count, dtype: int64"
      ]
     },
     "execution_count": 321,
     "metadata": {},
     "output_type": "execute_result"
    }
   ],
   "source": [
    "star_wars['Do you consider yourself to be a fan of the Star Trek franchise?'].value_counts(dropna=False)"
   ]
  },
  {
   "cell_type": "markdown",
   "metadata": {},
   "source": [
    "Let's first convert the answers to True/False:"
   ]
  },
  {
   "cell_type": "code",
   "execution_count": 323,
   "metadata": {},
   "outputs": [
    {
     "data": {
      "text/plain": [
       "Do you consider yourself to be a fan of the Star Trek franchise?\n",
       "False    641\n",
       "True     427\n",
       "NaN      118\n",
       "Name: count, dtype: int64"
      ]
     },
     "execution_count": 323,
     "metadata": {},
     "output_type": "execute_result"
    }
   ],
   "source": [
    "star_wars['Do you consider yourself to be a fan of the Star Trek franchise?'] = \\\n",
    "    star_wars['Do you consider yourself to be a fan of the Star Trek franchise?'].map(lambda x : x == 'Yes', na_action='ignore')\n",
    "\n",
    "star_wars['Do you consider yourself to be a fan of the Star Trek franchise?'].value_counts(dropna=False)"
   ]
  },
  {
   "cell_type": "markdown",
   "metadata": {},
   "source": [
    "Now let's see if there's a correlation between fans of the Star Wars film series and fans of the Star Trek franchise. \n",
    "To do that we'll group the relevant columns in the dataframe and see how many of the people who replied to the survey are fans of both fandoms, neither fandom or just one of them."
   ]
  },
  {
   "cell_type": "code",
   "execution_count": 325,
   "metadata": {},
   "outputs": [],
   "source": [
    "star_wars_trek = star_wars[['Do you consider yourself to be a fan of the Star Wars film franchise?',\n",
    "                            'Do you consider yourself to be a fan of the Star Trek franchise?']].copy()\n",
    "simple_col_names = {'Do you consider yourself to be a fan of the Star Trek franchise?': 'trek_fans',\n",
    "                   'Do you consider yourself to be a fan of the Star Wars film franchise?' : 'wars_fans'}\n",
    "\n",
    "star_wars_trek.rename(columns=simple_col_names, inplace=True)\n",
    "# Replacing NaN with another value, to allow groupby to group it as well\n",
    "star_wars_trek.fillna('No Answer', inplace=True)\n",
    "grouped_counts = star_wars_trek.groupby('wars_fans')['trek_fans'].value_counts().unstack()"
   ]
  },
  {
   "cell_type": "code",
   "execution_count": 326,
   "metadata": {},
   "outputs": [
    {
     "data": {
      "text/html": [
       "<div>\n",
       "<style scoped>\n",
       "    .dataframe tbody tr th:only-of-type {\n",
       "        vertical-align: middle;\n",
       "    }\n",
       "\n",
       "    .dataframe tbody tr th {\n",
       "        vertical-align: top;\n",
       "    }\n",
       "\n",
       "    .dataframe thead th {\n",
       "        text-align: right;\n",
       "    }\n",
       "</style>\n",
       "<table border=\"1\" class=\"dataframe\">\n",
       "  <thead>\n",
       "    <tr style=\"text-align: right;\">\n",
       "      <th>trek_fans</th>\n",
       "      <th>False</th>\n",
       "      <th>True</th>\n",
       "      <th>No Answer</th>\n",
       "    </tr>\n",
       "    <tr>\n",
       "      <th>wars_fans</th>\n",
       "      <th></th>\n",
       "      <th></th>\n",
       "      <th></th>\n",
       "    </tr>\n",
       "  </thead>\n",
       "  <tbody>\n",
       "    <tr>\n",
       "      <th>False</th>\n",
       "      <td>238</td>\n",
       "      <td>45</td>\n",
       "      <td>1</td>\n",
       "    </tr>\n",
       "    <tr>\n",
       "      <th>True</th>\n",
       "      <td>175</td>\n",
       "      <td>370</td>\n",
       "      <td>7</td>\n",
       "    </tr>\n",
       "    <tr>\n",
       "      <th>No Answer</th>\n",
       "      <td>228</td>\n",
       "      <td>12</td>\n",
       "      <td>110</td>\n",
       "    </tr>\n",
       "  </tbody>\n",
       "</table>\n",
       "</div>"
      ],
      "text/plain": [
       "trek_fans  False  True  No Answer\n",
       "wars_fans                        \n",
       "False        238    45          1\n",
       "True         175   370          7\n",
       "No Answer    228    12        110"
      ]
     },
     "execution_count": 326,
     "metadata": {},
     "output_type": "execute_result"
    }
   ],
   "source": [
    "grouped_counts"
   ]
  },
  {
   "cell_type": "markdown",
   "metadata": {},
   "source": [
    "Now, let's plot the relations between the various groups:"
   ]
  },
  {
   "cell_type": "code",
   "execution_count": 328,
   "metadata": {},
   "outputs": [
    {
     "data": {
      "image/png": "[encoded data removed]",
      "text/plain": [
       "<Figure size 640x480 with 1 Axes>"
      ]
     },
     "metadata": {},
     "output_type": "display_data"
    }
   ],
   "source": [
    "grouped_counts.plot.bar()\n",
    "plt.xlabel(\"Star Wars fans\")\n",
    "plt.ylabel(\"Count\")\n",
    "plt.title(\"Star Trek fans count by Star Wars fans\")\n",
    "plt.xticks(rotation=0)\n",
    "plt.legend(title='Star Trek fans')\n",
    "\n",
    "plt.show()"
   ]
  },
  {
   "cell_type": "markdown",
   "metadata": {},
   "source": [
    "Interestingly, the vast majoroity of Star Trek fans who answered this survey are also fans of Star Wars. That may not be too surprising, since the survey was aimed at Star Wars fans, but it certainly shows that these groups are far from being mutually exclusive."
   ]
  },
  {
   "cell_type": "markdown",
   "metadata": {},
   "source": [
    "### Exploring Favourite Characters <a name=\"Exploring_Favourite_Characters\"></a>\n",
    "\n",
    "The respondents were asked whether or not they liked 14 of the main characters in the saga. Let's see which character is the favourite (most likes), most hated (most dislikes) and most controversial (split between likes and dislikes).\n",
    "Let's see what are the possible values:"
   ]
  },
  {
   "cell_type": "code",
   "execution_count": 331,
   "metadata": {},
   "outputs": [
    {
     "data": {
      "text/plain": [
       "favour_han_solo\n",
       "Very favorably                                 610\n",
       "NaN                                            357\n",
       "Somewhat favorably                             151\n",
       "Neither favorably nor unfavorably (neutral)     44\n",
       "Unfamiliar (N/A)                                15\n",
       "Somewhat unfavorably                             8\n",
       "Very unfavorably                                 1\n",
       "Name: count, dtype: int64"
      ]
     },
     "execution_count": 331,
     "metadata": {},
     "output_type": "execute_result"
    }
   ],
   "source": [
    "star_wars[star_wars.columns[15]].value_counts(dropna=False)"
   ]
  },
  {
   "cell_type": "markdown",
   "metadata": {},
   "source": [
    "For our purposes, we only care is the respondent likes, dislikes or is neutral to the character. So we'll group `Very favorably` and `Somewhat favorably` together as `Yes`, `Neither favorably nor unfavorably (neutral)`, `Unfamiliar (N/A)` and `NaN` as `Neutral` and `Somewhat unfavorably` and `Very unfavorably` as `No`."
   ]
  },
  {
   "cell_type": "code",
   "execution_count": 333,
   "metadata": {},
   "outputs": [],
   "source": [
    "favour = {\n",
    "    'Very favorably' : 'Yes',\n",
    "    'Somewhat favorably' : 'Yes',\n",
    "    'Neither favorably nor unfavorably (neutral)' : 'Neutral',\n",
    "    'Unfamiliar (N/A)' : 'Neutral',\n",
    "    np.nan : 'Neutral',\n",
    "    'Somewhat unfavorably' : 'No',\n",
    "    'Very unfavorably' : 'No'\n",
    "}\n",
    "\n",
    "characters_likes = star_wars[star_wars.columns[15:29]].copy()\n",
    "characters_likes.replace(favour, inplace=True)\n"
   ]
  },
  {
   "cell_type": "code",
   "execution_count": 334,
   "metadata": {
    "scrolled": true
   },
   "outputs": [
    {
     "data": {
      "text/html": [
       "<div>\n",
       "<style scoped>\n",
       "    .dataframe tbody tr th:only-of-type {\n",
       "        vertical-align: middle;\n",
       "    }\n",
       "\n",
       "    .dataframe tbody tr th {\n",
       "        vertical-align: top;\n",
       "    }\n",
       "\n",
       "    .dataframe thead th {\n",
       "        text-align: right;\n",
       "    }\n",
       "</style>\n",
       "<table border=\"1\" class=\"dataframe\">\n",
       "  <thead>\n",
       "    <tr style=\"text-align: right;\">\n",
       "      <th></th>\n",
       "      <th>Neutral</th>\n",
       "      <th>No</th>\n",
       "      <th>Yes</th>\n",
       "    </tr>\n",
       "  </thead>\n",
       "  <tbody>\n",
       "    <tr>\n",
       "      <th>Han Solo</th>\n",
       "      <td>416</td>\n",
       "      <td>9</td>\n",
       "      <td>761</td>\n",
       "    </tr>\n",
       "    <tr>\n",
       "      <th>Luke Skywalker</th>\n",
       "      <td>399</td>\n",
       "      <td>16</td>\n",
       "      <td>771</td>\n",
       "    </tr>\n",
       "    <tr>\n",
       "      <th>Princess Leia Organa</th>\n",
       "      <td>411</td>\n",
       "      <td>18</td>\n",
       "      <td>757</td>\n",
       "    </tr>\n",
       "    <tr>\n",
       "      <th>Anakin Skywalker</th>\n",
       "      <td>550</td>\n",
       "      <td>122</td>\n",
       "      <td>514</td>\n",
       "    </tr>\n",
       "    <tr>\n",
       "      <th>Obi Wan Kenobi</th>\n",
       "      <td>421</td>\n",
       "      <td>15</td>\n",
       "      <td>750</td>\n",
       "    </tr>\n",
       "    <tr>\n",
       "      <th>Emperor Palpatine</th>\n",
       "      <td>741</td>\n",
       "      <td>192</td>\n",
       "      <td>253</td>\n",
       "    </tr>\n",
       "    <tr>\n",
       "      <th>Darth Vader</th>\n",
       "      <td>454</td>\n",
       "      <td>251</td>\n",
       "      <td>481</td>\n",
       "    </tr>\n",
       "    <tr>\n",
       "      <th>Lando Calrissian</th>\n",
       "      <td>750</td>\n",
       "      <td>71</td>\n",
       "      <td>365</td>\n",
       "    </tr>\n",
       "    <tr>\n",
       "      <th>Boba Fett</th>\n",
       "      <td>754</td>\n",
       "      <td>141</td>\n",
       "      <td>291</td>\n",
       "    </tr>\n",
       "    <tr>\n",
       "      <th>C-3PO</th>\n",
       "      <td>453</td>\n",
       "      <td>30</td>\n",
       "      <td>703</td>\n",
       "    </tr>\n",
       "    <tr>\n",
       "      <th>R2 D2</th>\n",
       "      <td>423</td>\n",
       "      <td>16</td>\n",
       "      <td>747</td>\n",
       "    </tr>\n",
       "    <tr>\n",
       "      <th>Jar Jar Binks</th>\n",
       "      <td>638</td>\n",
       "      <td>306</td>\n",
       "      <td>242</td>\n",
       "    </tr>\n",
       "    <tr>\n",
       "      <th>Padme Amidala</th>\n",
       "      <td>743</td>\n",
       "      <td>92</td>\n",
       "      <td>351</td>\n",
       "    </tr>\n",
       "    <tr>\n",
       "      <th>Yoda</th>\n",
       "      <td>421</td>\n",
       "      <td>16</td>\n",
       "      <td>749</td>\n",
       "    </tr>\n",
       "  </tbody>\n",
       "</table>\n",
       "</div>"
      ],
      "text/plain": [
       "                      Neutral   No  Yes\n",
       "Han Solo                  416    9  761\n",
       "Luke Skywalker            399   16  771\n",
       "Princess Leia Organa      411   18  757\n",
       "Anakin Skywalker          550  122  514\n",
       "Obi Wan Kenobi            421   15  750\n",
       "Emperor Palpatine         741  192  253\n",
       "Darth Vader               454  251  481\n",
       " Lando Calrissian         750   71  365\n",
       "Boba Fett                 754  141  291\n",
       "C-3PO                     453   30  703\n",
       "R2 D2                     423   16  747\n",
       "Jar Jar Binks             638  306  242\n",
       "Padme Amidala             743   92  351\n",
       "Yoda                      421   16  749"
      ]
     },
     "execution_count": 334,
     "metadata": {},
     "output_type": "execute_result"
    }
   ],
   "source": [
    "# Aggregate by counts of each value and transpose\n",
    "characters_likes = characters_likes.apply(lambda x: x.value_counts()).T\n",
    "# Change indices to character names\n",
    "\n",
    "to_names = {\n",
    "    \"favour_han_solo\" : \"Han Solo\",\n",
    "    \"favour_luke_skywalker\" : \"Luke Skywalker\",\n",
    "    \"favour_princess_leia_organa\" : \"Princess Leia Organa\",\n",
    "    \"favour_anakin_skywalker\" : \"Anakin Skywalker\",\n",
    "    \"favour_obi_wan_kenobi\" : \"Obi Wan Kenobi\",\n",
    "    \"favour_emperor_palpatine\" : \"Emperor Palpatine\",\n",
    "    \"favour_darth_vader\" : \"Darth Vader\",\n",
    "    \"favour_lando_calrissian\" : \" Lando Calrissian\",\n",
    "    \"favour_boba_fett\" : \"Boba Fett\",\n",
    "    \"favour_c-3p0\" : \"C-3PO\",\n",
    "    \"favour_r2_d2\" : \"R2 D2\",\n",
    "    \"favour_jar_jar_binks\" : \"Jar Jar Binks\",\n",
    "    \"favour_padme_amidala\" : \"Padme Amidala\",\n",
    "    \"favour_yoda\" : \"Yoda\"\n",
    "    \n",
    "}\n",
    "characters_likes.rename(index=to_names, inplace=True)\n",
    "characters_likes"
   ]
  },
  {
   "cell_type": "markdown",
   "metadata": {},
   "source": [
    "#### Most Liked <a name=\"Most_Liked\"></a>"
   ]
  },
  {
   "cell_type": "code",
   "execution_count": 336,
   "metadata": {},
   "outputs": [
    {
     "data": {
      "text/plain": [
       "<Axes: title={'center': 'Most Liked Character'}>"
      ]
     },
     "execution_count": 336,
     "metadata": {},
     "output_type": "execute_result"
    },
    {
     "data": {
      "image/png": "[encoded data removed]",
      "text/plain": [
       "<Figure size 640x480 with 1 Axes>"
      ]
     },
     "metadata": {},
     "output_type": "display_data"
    }
   ],
   "source": [
    "characters_likes['Yes'].sort_values(ascending=False).plot.bar(title=\"Most Liked Character\")\n"
   ]
  },
  {
   "cell_type": "markdown",
   "metadata": {},
   "source": [
    "Luke Skywalker is the favourite character, by a hair over his sister and his friend/brother-in-law."
   ]
  },
  {
   "cell_type": "markdown",
   "metadata": {},
   "source": [
    "#### Most Disliked <a name=\"Most_Disliked\"></a>"
   ]
  },
  {
   "cell_type": "code",
   "execution_count": 339,
   "metadata": {},
   "outputs": [
    {
     "data": {
      "text/plain": [
       "<Axes: title={'center': 'Most Disliked Character'}>"
      ]
     },
     "execution_count": 339,
     "metadata": {},
     "output_type": "execute_result"
    },
    {
     "data": {
      "image/png": "[encoded data removed]",
      "text/plain": [
       "<Figure size 640x480 with 1 Axes>"
      ]
     },
     "metadata": {},
     "output_type": "display_data"
    }
   ],
   "source": [
    "characters_likes['No'].sort_values(ascending=False).plot.bar(title=\"Most Disliked Character\")"
   ]
  },
  {
   "cell_type": "markdown",
   "metadata": {},
   "source": [
    "Jar Jar Binks is by far the most disliked character amongst the responders, surpassing two Sith lords."
   ]
  },
  {
   "cell_type": "markdown",
   "metadata": {},
   "source": [
    "#### Most Controversial character <a name=\"Most_Controversial_character\"></a>\n",
    "\n",
    "To find the most controversial character, let's find the likes/dislikes ratio for each character:"
   ]
  },
  {
   "cell_type": "code",
   "execution_count": 342,
   "metadata": {},
   "outputs": [
    {
     "data": {
      "text/plain": [
       "Han Solo                84.555556\n",
       "Luke Skywalker          48.187500\n",
       "Princess Leia Organa    42.055556\n",
       "Anakin Skywalker         4.213115\n",
       "Obi Wan Kenobi          50.000000\n",
       "Emperor Palpatine        1.317708\n",
       "Darth Vader              1.916335\n",
       " Lando Calrissian        5.140845\n",
       "Boba Fett                2.063830\n",
       "C-3PO                   23.433333\n",
       "R2 D2                   46.687500\n",
       "Jar Jar Binks            0.790850\n",
       "Padme Amidala            3.815217\n",
       "Yoda                    46.812500\n",
       "Name: likes_dislikes_ratio, dtype: float64"
      ]
     },
     "execution_count": 342,
     "metadata": {},
     "output_type": "execute_result"
    }
   ],
   "source": [
    "characters_likes['likes_dislikes_ratio'] = characters_likes['Yes'] / characters_likes['No']\n",
    "characters_likes['likes_dislikes_ratio']"
   ]
  },
  {
   "cell_type": "markdown",
   "metadata": {},
   "source": [
    "Now, to find the character that's most split between likes and dislikes, we'll find the inverse of each ratio that's bigger than 1, then look for the one that's closest to 1:"
   ]
  },
  {
   "cell_type": "code",
   "execution_count": 344,
   "metadata": {},
   "outputs": [
    {
     "data": {
      "text/plain": [
       "Han Solo                0.011827\n",
       "Luke Skywalker          0.020752\n",
       "Princess Leia Organa    0.023778\n",
       "Anakin Skywalker        0.237354\n",
       "Obi Wan Kenobi          0.020000\n",
       "Emperor Palpatine       0.758893\n",
       "Darth Vader             0.521830\n",
       " Lando Calrissian       0.194521\n",
       "Boba Fett               0.484536\n",
       "C-3PO                   0.042674\n",
       "R2 D2                   0.021419\n",
       "Jar Jar Binks           0.790850\n",
       "Padme Amidala           0.262108\n",
       "Yoda                    0.021362\n",
       "Name: likes_dislikes_ratio, dtype: float64"
      ]
     },
     "execution_count": 344,
     "metadata": {},
     "output_type": "execute_result"
    }
   ],
   "source": [
    "characters_likes['likes_dislikes_ratio'] = characters_likes['likes_dislikes_ratio'].apply(lambda x : (1 / x) if x > 1 else x)\n",
    "characters_likes['likes_dislikes_ratio']"
   ]
  },
  {
   "cell_type": "code",
   "execution_count": 345,
   "metadata": {},
   "outputs": [
    {
     "data": {
      "text/plain": [
       "<Axes: title={'center': 'Most Controversial Character'}>"
      ]
     },
     "execution_count": 345,
     "metadata": {},
     "output_type": "execute_result"
    },
    {
     "data": {
      "image/png": "[encoded data removed]",
      "text/plain": [
       "<Figure size 640x480 with 1 Axes>"
      ]
     },
     "metadata": {},
     "output_type": "display_data"
    }
   ],
   "source": [
    "characters_likes['likes_dislikes_ratio'].sort_values(ascending=False).plot.bar(title=\"Most Controversial Character\")\n"
   ]
  },
  {
   "cell_type": "markdown",
   "metadata": {},
   "source": [
    "Interestingly enough, the controversial characters bar chart is rather similar to the disliked characters one, which means that even disliked characters have quite a lot of fans who like them. "
   ]
  },
  {
   "cell_type": "markdown",
   "metadata": {},
   "source": [
    "## Conclusion <a name=\"Conclusion\"></a>\n",
    "\n",
    "The question raised by the surveyors is \"does the rest of America realize that “The Empire Strikes Back” is clearly the best of the bunch?\", and we can answer that with a resounding \"Yes!\".\n",
    "\n",
    "The general population agrees with this, and we couldn't find a segment of the responders that didnt' agree with that.\n",
    "\n",
    "We also found that the original trilogy is, by and large, more loved than the prequels trilogy. That, too, spans many sub-segments of the responders.\n",
    "\n",
    "The original trilogy has had more views than the prequels, which is consistent with it being more loved among the fans.\n",
    "\n",
    "We also looked at the Star Wars/Star Trek divide, and found that it's largely a myth. Many Star Wars fans are also Trekkies, and vice versa.\n",
    "\n",
    "Lastly, we looked at the favourable characters and found that Luke Skywalker, Princess Leia and Han Solo are at the top 3 places. The most disliked characters are Jar Jar Binks, Darth Vader and Emperor Palpatine.\n",
    "Binks, Vader and The Emperor are also the most controversial characters, which means that the number of likes they received is close to the number of dislikes, so no Star Wars character is truly hated."
   ]
  }
 ],
 "metadata": {
  "kernelspec": {
   "display_name": "Python 3 (ipykernel)",
   "language": "python",
   "name": "python3"
  },
  "language_info": {
   "codemirror_mode": {
    "name": "ipython",
    "version": 3
   },
   "file_extension": ".py",
   "mimetype": "text/x-python",
   "name": "python",
   "nbconvert_exporter": "python",
   "pygments_lexer": "ipython3",
   "version": "3.11.7"
  }
 },
 "nbformat": 4,
 "nbformat_minor": 4
}
